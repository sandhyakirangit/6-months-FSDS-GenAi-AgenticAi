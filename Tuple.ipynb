{
 "cells": [
  {
   "cell_type": "code",
   "execution_count": 5,
   "id": "22cdc8ab-aada-4fe9-938f-25d9b4036469",
   "metadata": {},
   "outputs": [
    {
     "data": {
      "text/plain": [
       "()"
      ]
     },
     "execution_count": 5,
     "metadata": {},
     "output_type": "execute_result"
    }
   ],
   "source": [
    "t=()\n",
    "t# tuple declared as t()"
   ]
  },
  {
   "cell_type": "code",
   "execution_count": 7,
   "id": "8950a9a4-bea0-4694-9024-9ce9d7d0a623",
   "metadata": {},
   "outputs": [
    {
     "data": {
      "text/plain": [
       "tuple"
      ]
     },
     "execution_count": 7,
     "metadata": {},
     "output_type": "execute_result"
    }
   ],
   "source": [
    "type(t)\n",
    "\n"
   ]
  },
  {
   "cell_type": "code",
   "execution_count": 9,
   "id": "04604e68-6583-4ea3-80b0-5cfb1a7a0a78",
   "metadata": {},
   "outputs": [
    {
     "data": {
      "text/plain": [
       "(10, 20, 30)"
      ]
     },
     "execution_count": 9,
     "metadata": {},
     "output_type": "execute_result"
    }
   ],
   "source": [
    "t1= (10, 20 , 30 )\n",
    "t1"
   ]
  },
  {
   "cell_type": "markdown",
   "id": "09e965ec-c849-49d6-a43b-fad60b33fc16",
   "metadata": {},
   "source": []
  },
  {
   "cell_type": "code",
   "execution_count": 10,
   "id": "a988d679-ad97-49d2-a0d2-217237191e89",
   "metadata": {},
   "outputs": [
    {
     "data": {
      "text/plain": [
       "('ajay', 12345677, '4590 testroad')"
      ]
     },
     "execution_count": 10,
     "metadata": {},
     "output_type": "execute_result"
    }
   ],
   "source": [
    "t1=('ajay',12345677,'4590 testroad')\n",
    "t1"
   ]
  },
  {
   "cell_type": "code",
   "execution_count": 11,
   "id": "842b9b42-8964-4d61-889d-684d546a28e7",
   "metadata": {},
   "outputs": [
    {
     "ename": "AttributeError",
     "evalue": "'tuple' object has no attribute 'append'",
     "output_type": "error",
     "traceback": [
      "\u001b[1;31m---------------------------------------------------------------------------\u001b[0m",
      "\u001b[1;31mAttributeError\u001b[0m                            Traceback (most recent call last)",
      "Cell \u001b[1;32mIn[11], line 1\u001b[0m\n\u001b[1;32m----> 1\u001b[0m t1\u001b[38;5;241m.\u001b[39mappend(\u001b[38;5;124m'\u001b[39m\u001b[38;5;124mraju\u001b[39m\u001b[38;5;124m'\u001b[39m)\n\u001b[0;32m      2\u001b[0m t1\n",
      "\u001b[1;31mAttributeError\u001b[0m: 'tuple' object has no attribute 'append'"
     ]
    }
   ],
   "source": [
    "t1.append('raju')\n",
    "t1"
   ]
  },
  {
   "cell_type": "code",
   "execution_count": 12,
   "id": "e109c8f3-03a5-4a0c-84e1-d98eb1f51ad8",
   "metadata": {},
   "outputs": [
    {
     "data": {
      "text/plain": [
       "['ere', 123]"
      ]
     },
     "execution_count": 12,
     "metadata": {},
     "output_type": "execute_result"
    }
   ],
   "source": [
    "t3=['ere',123]\n",
    "t3"
   ]
  },
  {
   "cell_type": "code",
   "execution_count": 13,
   "id": "4ce8a83d-347a-4048-9f15-2857b28b60dd",
   "metadata": {},
   "outputs": [
    {
     "data": {
      "text/plain": [
       "['ere', 123, 'case']"
      ]
     },
     "execution_count": 13,
     "metadata": {},
     "output_type": "execute_result"
    }
   ],
   "source": [
    "t3.append('case')\n",
    "t3"
   ]
  },
  {
   "cell_type": "code",
   "execution_count": 14,
   "id": "69fbfe92-b8a4-4bdb-8992-6685b284e49f",
   "metadata": {},
   "outputs": [
    {
     "data": {
      "text/plain": [
       "('icecream ', 34555, 'test road')"
      ]
     },
     "execution_count": 14,
     "metadata": {},
     "output_type": "execute_result"
    }
   ],
   "source": [
    "t3=('icecream ', 34555, 'test road')\n",
    "t3"
   ]
  },
  {
   "cell_type": "code",
   "execution_count": 15,
   "id": "8140a555-9816-4e67-9127-268a47acc478",
   "metadata": {},
   "outputs": [
    {
     "data": {
      "text/plain": [
       "tuple"
      ]
     },
     "execution_count": 15,
     "metadata": {},
     "output_type": "execute_result"
    }
   ],
   "source": [
    "type(t3)"
   ]
  },
  {
   "cell_type": "code",
   "execution_count": 16,
   "id": "5d1ca861-ebf8-4abd-a1e3-add8fd59b590",
   "metadata": {},
   "outputs": [
    {
     "ename": "AttributeError",
     "evalue": "'tuple' object has no attribute 'append'",
     "output_type": "error",
     "traceback": [
      "\u001b[1;31m---------------------------------------------------------------------------\u001b[0m",
      "\u001b[1;31mAttributeError\u001b[0m                            Traceback (most recent call last)",
      "Cell \u001b[1;32mIn[16], line 1\u001b[0m\n\u001b[1;32m----> 1\u001b[0m t3\u001b[38;5;241m.\u001b[39mappend(\u001b[38;5;124m'\u001b[39m\u001b[38;5;124mkira\u001b[39m\u001b[38;5;124m'\u001b[39m)\n",
      "\u001b[1;31mAttributeError\u001b[0m: 'tuple' object has no attribute 'append'"
     ]
    }
   ],
   "source": [
    "t3.append('kira')"
   ]
  },
  {
   "cell_type": "code",
   "execution_count": 25,
   "id": "474a5bd5-1be6-4455-9b11-971efe770b5c",
   "metadata": {},
   "outputs": [
    {
     "data": {
      "text/plain": [
       "('icecream ', 34555, 'test road')"
      ]
     },
     "execution_count": 25,
     "metadata": {},
     "output_type": "execute_result"
    }
   ],
   "source": [
    "t3.count('icecream')\n",
    "t3"
   ]
  },
  {
   "cell_type": "code",
   "execution_count": 27,
   "id": "65ae7f38-c430-4ea0-9880-6fc53e45964f",
   "metadata": {},
   "outputs": [
    {
     "data": {
      "text/plain": [
       "1"
      ]
     },
     "execution_count": 27,
     "metadata": {},
     "output_type": "execute_result"
    }
   ],
   "source": [
    "t3.count(34555)"
   ]
  },
  {
   "cell_type": "code",
   "execution_count": 28,
   "id": "e9bdb038-af61-4886-9d75-3140f236d774",
   "metadata": {},
   "outputs": [
    {
     "data": {
      "text/plain": [
       "1"
      ]
     },
     "execution_count": 28,
     "metadata": {},
     "output_type": "execute_result"
    }
   ],
   "source": [
    "t3.index(34555)"
   ]
  },
  {
   "cell_type": "code",
   "execution_count": 32,
   "id": "f394c0a0-e9ae-46b0-9aba-6408a321d25b",
   "metadata": {},
   "outputs": [
    {
     "name": "stdout",
     "output_type": "stream",
     "text": [
      "icecream \n",
      "('icecream ', 34555, 'test road')\n",
      "34555\n",
      "('icecream ', 34555, 'test road')\n",
      "test road\n",
      "('icecream ', 34555, 'test road')\n"
     ]
    }
   ],
   "source": [
    "for i in t3:\n",
    "    print(i)\n",
    "    print(t3)"
   ]
  },
  {
   "cell_type": "code",
   "execution_count": 31,
   "id": "e486561a-6832-4988-afae-e860d1fa8758",
   "metadata": {},
   "outputs": [
    {
     "name": "stdout",
     "output_type": "stream",
     "text": [
      "('icecream ', 34555, 'test road')\n"
     ]
    }
   ],
   "source": [
    "print(t3)"
   ]
  },
  {
   "cell_type": "code",
   "execution_count": 35,
   "id": "3b771e2e-a494-4442-b162-a55f0f622643",
   "metadata": {},
   "outputs": [
    {
     "name": "stdout",
     "output_type": "stream",
     "text": [
      "(10, 20, 30, 10, 20, 30)\n"
     ]
    }
   ],
   "source": [
    "t4=(10,20,30)\n",
    "t5=t4*2\n",
    "print(t5)"
   ]
  },
  {
   "cell_type": "code",
   "execution_count": null,
   "id": "d0768a06-6d24-4918-a7e2-6c27b42ffb2b",
   "metadata": {},
   "outputs": [],
   "source": [
    "# here in Tuple \" which is IMMUTABLE  , we cannot change thses values since we use this for private info so we cannot add multiple \n",
    "or do any kind of changes thats why it will not multiply with 2 instead prints 2 times of output"
   ]
  }
 ],
 "metadata": {
  "kernelspec": {
   "display_name": "Python [conda env:base] *",
   "language": "python",
   "name": "conda-base-py"
  },
  "language_info": {
   "codemirror_mode": {
    "name": "ipython",
    "version": 3
   },
   "file_extension": ".py",
   "mimetype": "text/x-python",
   "name": "python",
   "nbconvert_exporter": "python",
   "pygments_lexer": "ipython3",
   "version": "3.12.7"
  }
 },
 "nbformat": 4,
 "nbformat_minor": 5
}
