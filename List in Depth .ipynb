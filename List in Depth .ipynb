{
 "cells": [
  {
   "cell_type": "code",
   "execution_count": 2,
   "id": "f23d4df8-e2a8-4f46-a8df-00fafaae425d",
   "metadata": {},
   "outputs": [
    {
     "data": {
      "text/plain": [
       "[]"
      ]
     },
     "execution_count": 2,
     "metadata": {},
     "output_type": "execute_result"
    }
   ],
   "source": [
    "l=[]\n",
    "l.\n"
   ]
  },
  {
   "cell_type": "code",
   "execution_count": 3,
   "id": "22196726-8e9f-40ad-bb69-7f88d3599605",
   "metadata": {},
   "outputs": [
    {
     "data": {
      "text/plain": [
       "list"
      ]
     },
     "execution_count": 3,
     "metadata": {},
     "output_type": "execute_result"
    }
   ],
   "source": [
    "type(l)"
   ]
  },
  {
   "cell_type": "code",
   "execution_count": 5,
   "id": "a1e23d54-ddf8-43ce-9fce-4213d68d56d4",
   "metadata": {},
   "outputs": [
    {
     "name": "stdout",
     "output_type": "stream",
     "text": [
      "<class 'list'>\n"
     ]
    }
   ],
   "source": [
    "print(type(l))"
   ]
  },
  {
   "cell_type": "code",
   "execution_count": 6,
   "id": "a5cdecb8-bc16-46e3-ba19-ce8888508458",
   "metadata": {},
   "outputs": [
    {
     "data": {
      "text/plain": [
       "0"
      ]
     },
     "execution_count": 6,
     "metadata": {},
     "output_type": "execute_result"
    }
   ],
   "source": [
    "len(l)"
   ]
  },
  {
   "cell_type": "code",
   "execution_count": 8,
   "id": "b07ea845-995b-4b97-a91f-d932c64bf2df",
   "metadata": {},
   "outputs": [
    {
     "data": {
      "text/plain": [
       "[10, 10]"
      ]
     },
     "execution_count": 8,
     "metadata": {},
     "output_type": "execute_result"
    }
   ],
   "source": [
    "l.append(10) # append adds the value at end of the list\n",
    "l"
   ]
  },
  {
   "cell_type": "code",
   "execution_count": 10,
   "id": "1e647ff1-02e1-409c-9dca-832e166688ff",
   "metadata": {},
   "outputs": [
    {
     "data": {
      "text/plain": [
       "[10, 10, 20, 30, 50, 20, 30, 50, 60]"
      ]
     },
     "execution_count": 10,
     "metadata": {},
     "output_type": "execute_result"
    }
   ],
   "source": [
    "l.append(20)\n",
    "\n",
    "\n",
    "l.append(30)\n",
    "l.append(50)\n",
    "l.append(60) # here we added 60 again thats why it appends at end\n",
    "l"
   ]
  },
  {
   "cell_type": "code",
   "execution_count": 12,
   "id": "6e82a634-df48-4619-abcb-20c6690c27fb",
   "metadata": {},
   "outputs": [
    {
     "data": {
      "text/plain": [
       "9"
      ]
     },
     "execution_count": 12,
     "metadata": {},
     "output_type": "execute_result"
    }
   ],
   "source": [
    "len(l)"
   ]
  },
  {
   "cell_type": "code",
   "execution_count": 13,
   "id": "8046647e-637c-4134-8038-ab2896041f8c",
   "metadata": {},
   "outputs": [
    {
     "ename": "TypeError",
     "evalue": "list.append() takes exactly one argument (2 given)",
     "output_type": "error",
     "traceback": [
      "\u001b[1;31m---------------------------------------------------------------------------\u001b[0m",
      "\u001b[1;31mTypeError\u001b[0m                                 Traceback (most recent call last)",
      "Cell \u001b[1;32mIn[13], line 1\u001b[0m\n\u001b[1;32m----> 1\u001b[0m l\u001b[38;5;241m.\u001b[39mappend(\u001b[38;5;241m10\u001b[39m,\u001b[38;5;241m20\u001b[39m)\n",
      "\u001b[1;31mTypeError\u001b[0m: list.append() takes exactly one argument (2 given)"
     ]
    }
   ],
   "source": [
    "l.append(10,20)"
   ]
  },
  {
   "cell_type": "code",
   "execution_count": 15,
   "id": "f92b61a6-5a17-4bba-80c6-69a4cdea0220",
   "metadata": {},
   "outputs": [
    {
     "data": {
      "text/plain": [
       "[]"
      ]
     },
     "execution_count": 15,
     "metadata": {},
     "output_type": "execute_result"
    }
   ],
   "source": [
    "l=[]\n",
    "l"
   ]
  },
  {
   "cell_type": "code",
   "execution_count": 17,
   "id": "2b455cc3-6911-4c21-9a24-cdf2948682bd",
   "metadata": {},
   "outputs": [
    {
     "data": {
      "text/plain": [
       "[20]"
      ]
     },
     "execution_count": 17,
     "metadata": {},
     "output_type": "execute_result"
    }
   ],
   "source": [
    "l=[20]\n",
    "l"
   ]
  },
  {
   "cell_type": "code",
   "execution_count": 19,
   "id": "4794871d-f99e-4e3c-a966-f957bba1cfd3",
   "metadata": {},
   "outputs": [
    {
     "data": {
      "text/plain": [
       "[20, 30]"
      ]
     },
     "execution_count": 19,
     "metadata": {},
     "output_type": "execute_result"
    }
   ],
   "source": [
    "l=[20,30]\n",
    "l"
   ]
  },
  {
   "cell_type": "code",
   "execution_count": 21,
   "id": "3dc0d00e-3190-4f99-97f8-a6cfb870ea1f",
   "metadata": {},
   "outputs": [
    {
     "data": {
      "text/plain": [
       "(20, 30)"
      ]
     },
     "execution_count": 21,
     "metadata": {},
     "output_type": "execute_result"
    }
   ],
   "source": [
    "l=(20,30)\n",
    "l"
   ]
  },
  {
   "cell_type": "code",
   "execution_count": 22,
   "id": "7233e6d8-a60d-40b1-9989-1e80b6ff618c",
   "metadata": {},
   "outputs": [
    {
     "data": {
      "text/plain": [
       "[20, 30]"
      ]
     },
     "execution_count": 22,
     "metadata": {},
     "output_type": "execute_result"
    }
   ],
   "source": [
    "list(l)\n",
    "l."
   ]
  },
  {
   "cell_type": "code",
   "execution_count": null,
   "id": "a1fe0ee6-0ee9-40ff-8205-1de41e1a0c00",
   "metadata": {},
   "outputs": [],
   "source": [
    "b=[10,20]\n",
    "b."
   ]
  },
  {
   "cell_type": "code",
   "execution_count": 25,
   "id": "8edca719-904c-4999-9005-4e8e0e9021d5",
   "metadata": {},
   "outputs": [
    {
     "data": {
      "text/plain": [
       "[30, 20, 30, 45]"
      ]
     },
     "execution_count": 25,
     "metadata": {},
     "output_type": "execute_result"
    }
   ],
   "source": [
    "l=[30]\n",
    "l.append(20)\n",
    "l.append(30)\n",
    "l.append(45)\n",
    "l"
   ]
  },
  {
   "cell_type": "code",
   "execution_count": 27,
   "id": "8cec07e1-7c46-477a-9cfb-2ab3a3f034d7",
   "metadata": {},
   "outputs": [
    {
     "data": {
      "text/plain": [
       "[30, 20, 30, 45, 75, 75]"
      ]
     },
     "execution_count": 27,
     "metadata": {},
     "output_type": "execute_result"
    }
   ],
   "source": [
    "l.append(75)\n",
    "l"
   ]
  },
  {
   "cell_type": "code",
   "execution_count": 29,
   "id": "2c55b002-5e75-4dac-b207-4901d60ed317",
   "metadata": {},
   "outputs": [
    {
     "data": {
      "text/plain": [
       "[30, 20, 30, 45, 75, 75, 76, 76]"
      ]
     },
     "execution_count": 29,
     "metadata": {},
     "output_type": "execute_result"
    }
   ],
   "source": [
    "l.append(76)\n",
    "l"
   ]
  },
  {
   "cell_type": "code",
   "execution_count": 30,
   "id": "60591c18-3e84-4948-abd3-75d5d17a096f",
   "metadata": {},
   "outputs": [
    {
     "ename": "SyntaxError",
     "evalue": "invalid syntax (4170334865.py, line 1)",
     "output_type": "error",
     "traceback": [
      "\u001b[1;36m  Cell \u001b[1;32mIn[30], line 1\u001b[1;36m\u001b[0m\n\u001b[1;33m    l.('sandy')\u001b[0m\n\u001b[1;37m      ^\u001b[0m\n\u001b[1;31mSyntaxError\u001b[0m\u001b[1;31m:\u001b[0m invalid syntax\n"
     ]
    }
   ],
   "source": [
    "l.('sandy')"
   ]
  },
  {
   "cell_type": "code",
   "execution_count": 35,
   "id": "0dcc81a3-c4d7-41ae-b6d2-62184c324d90",
   "metadata": {},
   "outputs": [
    {
     "name": "stdout",
     "output_type": "stream",
     "text": [
      "[30, 20, 30, 45, 75, 75, 76, 76, 'sandy', 'sandy', 'sandy', 'sandy', 'k', 'k']\n"
     ]
    }
   ],
   "source": [
    "#l.append('sandy')\n",
    "l.append('k')\n",
    "print(l)"
   ]
  },
  {
   "cell_type": "code",
   "execution_count": 36,
   "id": "de68b631-446f-4570-8099-5bf154f81d60",
   "metadata": {},
   "outputs": [
    {
     "data": {
      "text/plain": [
       "5"
      ]
     },
     "execution_count": 36,
     "metadata": {},
     "output_type": "execute_result"
    }
   ],
   "source": [
    "l=[10,20,30,40,50]\n",
    "len(l)"
   ]
  },
  {
   "cell_type": "code",
   "execution_count": 38,
   "id": "ea58ba22-65a5-4ff7-bc0b-e6a3381178c8",
   "metadata": {},
   "outputs": [
    {
     "data": {
      "text/plain": [
       "10"
      ]
     },
     "execution_count": 38,
     "metadata": {},
     "output_type": "execute_result"
    }
   ],
   "source": [
    "l[0]"
   ]
  },
  {
   "cell_type": "code",
   "execution_count": 40,
   "id": "a2597958-fb79-4714-9543-f1ff14a249c2",
   "metadata": {},
   "outputs": [
    {
     "data": {
      "text/plain": [
       "65"
      ]
     },
     "execution_count": 40,
     "metadata": {},
     "output_type": "execute_result"
    }
   ],
   "source": [
    "l[3]=65 #mutable\n",
    "l[3]"
   ]
  },
  {
   "cell_type": "code",
   "execution_count": 41,
   "id": "e48d549e-80db-48b8-b7c9-efccc4390035",
   "metadata": {},
   "outputs": [
    {
     "name": "stdout",
     "output_type": "stream",
     "text": [
      "[10, 20, 30, 65, 50]\n"
     ]
    }
   ],
   "source": [
    "print(l)"
   ]
  },
  {
   "cell_type": "code",
   "execution_count": 48,
   "id": "f38661fc-c332-47dd-9751-e846fe24b2bd",
   "metadata": {},
   "outputs": [
    {
     "ename": "IndexError",
     "evalue": "list assignment index out of range",
     "output_type": "error",
     "traceback": [
      "\u001b[1;31m---------------------------------------------------------------------------\u001b[0m",
      "\u001b[1;31mIndexError\u001b[0m                                Traceback (most recent call last)",
      "Cell \u001b[1;32mIn[48], line 1\u001b[0m\n\u001b[1;32m----> 1\u001b[0m l[\u001b[38;5;241m50\u001b[39m]\u001b[38;5;241m=\u001b[39m \u001b[38;5;241m-\u001b[39m\u001b[38;5;241m50\u001b[39m \u001b[38;5;66;03m# we cannot mutuate negative number like this , there is a way\u001b[39;00m\n\u001b[0;32m      2\u001b[0m \u001b[38;5;28mprint\u001b[39m(l)\n",
      "\u001b[1;31mIndexError\u001b[0m: list assignment index out of range"
     ]
    }
   ],
   "source": [
    "l[50]= -50 # we cannot mutuate negative number like this , there is a way\n",
    "#print(l)\n"
   ]
  },
  {
   "cell_type": "code",
   "execution_count": 46,
   "id": "12c2bf7d-46a4-4bad-9dce-d3c8f6dbb1f1",
   "metadata": {},
   "outputs": [
    {
     "name": "stdout",
     "output_type": "stream",
     "text": [
      "[10, 20, 30, 65, -5]\n"
     ]
    }
   ],
   "source": [
    "l[-1]=-5 # assigning -1 here to change the negative value\n",
    "print(l)"
   ]
  },
  {
   "cell_type": "code",
   "execution_count": 51,
   "id": "264c47c9-cfea-47c2-81e1-769f752bc589",
   "metadata": {},
   "outputs": [
    {
     "name": "stdout",
     "output_type": "stream",
     "text": [
      "[20, 40, 55, 76, 84]\n"
     ]
    }
   ],
   "source": [
    "l=[20,40]\n",
    "l.append(55)\n",
    "l.append(76)\n",
    "l.append(84)\n",
    "print(l)"
   ]
  },
  {
   "cell_type": "code",
   "execution_count": 54,
   "id": "0d9b2968-da09-4e52-af52-3bdf5966a1d5",
   "metadata": {},
   "outputs": [
    {
     "data": {
      "text/plain": [
       "[20, 40, 65, 76, 84]"
      ]
     },
     "execution_count": 54,
     "metadata": {},
     "output_type": "execute_result"
    }
   ],
   "source": [
    "l[2]=65\n",
    "l\n"
   ]
  },
  {
   "cell_type": "code",
   "execution_count": 55,
   "id": "54dbdac8-0a7b-41a6-a259-04a0d1639257",
   "metadata": {},
   "outputs": [
    {
     "ename": "IndexError",
     "evalue": "list assignment index out of range",
     "output_type": "error",
     "traceback": [
      "\u001b[1;31m---------------------------------------------------------------------------\u001b[0m",
      "\u001b[1;31mIndexError\u001b[0m                                Traceback (most recent call last)",
      "Cell \u001b[1;32mIn[55], line 1\u001b[0m\n\u001b[1;32m----> 1\u001b[0m l[\u001b[38;5;241m84\u001b[39m]\u001b[38;5;241m=\u001b[39m\u001b[38;5;241m-\u001b[39m\u001b[38;5;241m84\u001b[39m\n\u001b[0;32m      2\u001b[0m l\n",
      "\u001b[1;31mIndexError\u001b[0m: list assignment index out of range"
     ]
    }
   ],
   "source": [
    "l[84]=-84\n",
    "l"
   ]
  },
  {
   "cell_type": "code",
   "execution_count": 56,
   "id": "37228a27-355c-4e70-bda2-b2960727fe36",
   "metadata": {},
   "outputs": [
    {
     "data": {
      "text/plain": [
       "-84"
      ]
     },
     "execution_count": 56,
     "metadata": {},
     "output_type": "execute_result"
    }
   ],
   "source": [
    "l[-1]=-84\n",
    "l[-1]"
   ]
  },
  {
   "cell_type": "code",
   "execution_count": 57,
   "id": "05fd4703-97d7-4028-bb95-4faa2d423a21",
   "metadata": {},
   "outputs": [
    {
     "data": {
      "text/plain": [
       "5"
      ]
     },
     "execution_count": 57,
     "metadata": {},
     "output_type": "execute_result"
    }
   ],
   "source": [
    "len(l)"
   ]
  },
  {
   "cell_type": "code",
   "execution_count": 58,
   "id": "89610bff-9639-4806-afe9-6aa20277df25",
   "metadata": {},
   "outputs": [
    {
     "name": "stdout",
     "output_type": "stream",
     "text": [
      "[20, 40, 65, 76, -84]\n"
     ]
    }
   ],
   "source": [
    "print(l)"
   ]
  },
  {
   "cell_type": "code",
   "execution_count": 61,
   "id": "a0e960e0-ec11-4068-8c6b-73646091eaae",
   "metadata": {},
   "outputs": [
    {
     "name": "stdout",
     "output_type": "stream",
     "text": [
      "[20, 40, 65, 76, -84] [20, 40, 65, 76, -84]\n"
     ]
    }
   ],
   "source": [
    "l1=l.copy()\n",
    "print(l1,l)"
   ]
  },
  {
   "cell_type": "code",
   "execution_count": 62,
   "id": "221694b6-42d9-489b-990a-a699eb09ad6a",
   "metadata": {},
   "outputs": [
    {
     "data": {
      "text/plain": [
       "False"
      ]
     },
     "execution_count": 62,
     "metadata": {},
     "output_type": "execute_result"
    }
   ],
   "source": [
    "id(l)==id(l1)"
   ]
  },
  {
   "cell_type": "code",
   "execution_count": 63,
   "id": "9cde7cdb-cffc-4765-a490-f6cb66f5a3b2",
   "metadata": {},
   "outputs": [
    {
     "data": {
      "text/plain": [
       "True"
      ]
     },
     "execution_count": 63,
     "metadata": {},
     "output_type": "execute_result"
    }
   ],
   "source": [
    "l==l1"
   ]
  },
  {
   "cell_type": "code",
   "execution_count": 64,
   "id": "8a10430c-f1e9-46b3-a678-5502fdc11ac3",
   "metadata": {},
   "outputs": [
    {
     "data": {
      "text/plain": [
       "[30, 40, 50, 60, 70]"
      ]
     },
     "execution_count": 64,
     "metadata": {},
     "output_type": "execute_result"
    }
   ],
   "source": [
    "l2=[30,40,50,60,70]\n",
    "l2"
   ]
  },
  {
   "cell_type": "code",
   "execution_count": 65,
   "id": "84dd860b-bec8-4111-b7f0-330a2f858189",
   "metadata": {},
   "outputs": [
    {
     "data": {
      "text/plain": [
       "[30, 40, 81, 60, 70]"
      ]
     },
     "execution_count": 65,
     "metadata": {},
     "output_type": "execute_result"
    }
   ],
   "source": [
    "l2[2]=81\n",
    "l2"
   ]
  },
  {
   "cell_type": "code",
   "execution_count": 66,
   "id": "575dde8f-20dd-481a-8536-fe2553d2003e",
   "metadata": {},
   "outputs": [
    {
     "data": {
      "text/plain": [
       "[30, 40, 81, 60, -70]"
      ]
     },
     "execution_count": 66,
     "metadata": {},
     "output_type": "execute_result"
    }
   ],
   "source": [
    "l2[4]=-70\n",
    "l2"
   ]
  },
  {
   "cell_type": "code",
   "execution_count": 68,
   "id": "ae918459-2992-4700-b1d5-71a721733fd9",
   "metadata": {},
   "outputs": [
    {
     "name": "stdout",
     "output_type": "stream",
     "text": [
      "[20, 40, 65, 76, -84] [30, 40, 81, 60, -70]\n"
     ]
    }
   ],
   "source": [
    "print(l1,l2)\n"
   ]
  },
  {
   "cell_type": "code",
   "execution_count": 69,
   "id": "fa2ff52f-7326-40fb-b30c-f409ac006aae",
   "metadata": {},
   "outputs": [
    {
     "data": {
      "text/plain": [
       "False"
      ]
     },
     "execution_count": 69,
     "metadata": {},
     "output_type": "execute_result"
    }
   ],
   "source": [
    "l1==l2"
   ]
  },
  {
   "cell_type": "code",
   "execution_count": 72,
   "id": "7eb33182-aba9-422e-a695-3e6456cca90f",
   "metadata": {},
   "outputs": [],
   "source": [
    "l1=l2.copy()"
   ]
  },
  {
   "cell_type": "code",
   "execution_count": 74,
   "id": "a84539b1-bb98-4b59-bcb7-d6b8f635b327",
   "metadata": {},
   "outputs": [
    {
     "name": "stdout",
     "output_type": "stream",
     "text": [
      "[30, 40, 81, 60, -70] [30, 40, 81, 60, -70]\n"
     ]
    }
   ],
   "source": [
    "print(l2,l1)\n"
   ]
  },
  {
   "cell_type": "code",
   "execution_count": 75,
   "id": "8ae75938-d85f-4e44-844a-f90f3b39ef3d",
   "metadata": {},
   "outputs": [
    {
     "data": {
      "text/plain": [
       "True"
      ]
     },
     "execution_count": 75,
     "metadata": {},
     "output_type": "execute_result"
    }
   ],
   "source": [
    "l1==l2"
   ]
  },
  {
   "cell_type": "code",
   "execution_count": 76,
   "id": "6279e512-c046-4938-8b02-8a1c1eccdae4",
   "metadata": {},
   "outputs": [
    {
     "data": {
      "text/plain": [
       "False"
      ]
     },
     "execution_count": 76,
     "metadata": {},
     "output_type": "execute_result"
    }
   ],
   "source": [
    "id(l1)==id(l2)"
   ]
  },
  {
   "cell_type": "code",
   "execution_count": 78,
   "id": "180b4497-a743-4383-8a5b-8e8500158ea1",
   "metadata": {},
   "outputs": [
    {
     "data": {
      "text/plain": [
       "1"
      ]
     },
     "execution_count": 78,
     "metadata": {},
     "output_type": "execute_result"
    }
   ],
   "source": [
    "l1.count(40)"
   ]
  },
  {
   "cell_type": "code",
   "execution_count": 81,
   "id": "14f8f624-d30b-4bf8-9e94-00adc080e870",
   "metadata": {},
   "outputs": [
    {
     "name": "stdout",
     "output_type": "stream",
     "text": [
      "[30, 40, 81, 60, -70, 30, 30, 30, 30, 30]\n"
     ]
    }
   ],
   "source": [
    "l1.append(30)\n",
    "l1.append(30)\n",
    "print(l1)"
   ]
  },
  {
   "cell_type": "code",
   "execution_count": 83,
   "id": "87da3ef3-eabc-4ef5-b43d-27e73fe2b9c8",
   "metadata": {},
   "outputs": [
    {
     "data": {
      "text/plain": [
       "6"
      ]
     },
     "execution_count": 83,
     "metadata": {},
     "output_type": "execute_result"
    }
   ],
   "source": [
    "l1.count(30)"
   ]
  },
  {
   "cell_type": "code",
   "execution_count": 84,
   "id": "ac11d114-efce-416d-aa43-0636140e21ad",
   "metadata": {},
   "outputs": [
    {
     "name": "stdout",
     "output_type": "stream",
     "text": [
      "[30, 40, 81, 60, -70]\n"
     ]
    }
   ],
   "source": [
    "print(l2)"
   ]
  },
  {
   "cell_type": "code",
   "execution_count": 85,
   "id": "8b5f2070-307e-4a3f-ae12-7fed131b0397",
   "metadata": {},
   "outputs": [
    {
     "name": "stdout",
     "output_type": "stream",
     "text": [
      "[]\n"
     ]
    }
   ],
   "source": [
    "l2.clear()\n",
    "print(l2)"
   ]
  },
  {
   "cell_type": "code",
   "execution_count": 88,
   "id": "0dc75ba7-6dcf-452f-99a4-c7e7a4e706e9",
   "metadata": {},
   "outputs": [
    {
     "data": {
      "text/plain": [
       "[22, 33, 44]"
      ]
     },
     "execution_count": 88,
     "metadata": {},
     "output_type": "execute_result"
    }
   ],
   "source": [
    "l3=[22,33,44]\n",
    "l3"
   ]
  },
  {
   "cell_type": "code",
   "execution_count": 91,
   "id": "30bbce84-6c2a-404f-bf44-a50a7b83beb0",
   "metadata": {},
   "outputs": [
    {
     "ename": "NameError",
     "evalue": "name 'l3' is not defined",
     "output_type": "error",
     "traceback": [
      "\u001b[1;31m---------------------------------------------------------------------------\u001b[0m",
      "\u001b[1;31mNameError\u001b[0m                                 Traceback (most recent call last)",
      "Cell \u001b[1;32mIn[91], line 1\u001b[0m\n\u001b[1;32m----> 1\u001b[0m \u001b[38;5;28;01mdel\u001b[39;00m(l3)\n\u001b[0;32m      2\u001b[0m \u001b[38;5;28mprint\u001b[39m(l3)\n",
      "\u001b[1;31mNameError\u001b[0m: name 'l3' is not defined"
     ]
    }
   ],
   "source": [
    "del(l3)\n",
    "print(l3)"
   ]
  },
  {
   "cell_type": "code",
   "execution_count": 95,
   "id": "9086e1e9-29ad-4d71-8876-84c36eba8e15",
   "metadata": {},
   "outputs": [
    {
     "data": {
      "text/plain": [
       "['a+bj', 10, 11, 'kiran', 3.4, (2+2j)]"
      ]
     },
     "execution_count": 95,
     "metadata": {},
     "output_type": "execute_result"
    }
   ],
   "source": [
    "l4=['a+bj',10,11,'kiran',3.4,(2+2j)] # mixed data is OK \n",
    "l4"
   ]
  },
  {
   "cell_type": "code",
   "execution_count": 96,
   "id": "897a4e63-b083-4a35-bcc0-cc368979df44",
   "metadata": {},
   "outputs": [
    {
     "data": {
      "text/plain": [
       "'kiran'"
      ]
     },
     "execution_count": 96,
     "metadata": {},
     "output_type": "execute_result"
    }
   ],
   "source": [
    "l4[3]"
   ]
  },
  {
   "cell_type": "code",
   "execution_count": 98,
   "id": "6583422c-6e16-4da4-adc5-ecc467b587da",
   "metadata": {},
   "outputs": [
    {
     "data": {
      "text/plain": [
       "'r'"
      ]
     },
     "execution_count": 98,
     "metadata": {},
     "output_type": "execute_result"
    }
   ],
   "source": [
    "l4[3][2][0]"
   ]
  },
  {
   "cell_type": "raw",
   "id": "10159fcb-f02f-4f00-81ed-8e06ffb2ece1",
   "metadata": {},
   "source": [
    "l4\n"
   ]
  },
  {
   "cell_type": "code",
   "execution_count": 99,
   "id": "ba5d6a3d-489d-4a5d-b252-6e46964fb82b",
   "metadata": {},
   "outputs": [
    {
     "ename": "NameError",
     "evalue": "name 'l2' is not defined",
     "output_type": "error",
     "traceback": [
      "\u001b[1;31m---------------------------------------------------------------------------\u001b[0m",
      "\u001b[1;31mNameError\u001b[0m                                 Traceback (most recent call last)",
      "Cell \u001b[1;32mIn[99], line 1\u001b[0m\n\u001b[1;32m----> 1\u001b[0m l2\n",
      "\u001b[1;31mNameError\u001b[0m: name 'l2' is not defined"
     ]
    }
   ],
   "source": [
    "l2"
   ]
  },
  {
   "cell_type": "code",
   "execution_count": 100,
   "id": "8ee7bc97-31e8-4a49-9843-0c3442a00e74",
   "metadata": {},
   "outputs": [
    {
     "data": {
      "text/plain": [
       "[30, 40, 81, 60, -70, 30, 30, 30, 30, 30]"
      ]
     },
     "execution_count": 100,
     "metadata": {},
     "output_type": "execute_result"
    }
   ],
   "source": [
    "l1"
   ]
  },
  {
   "cell_type": "code",
   "execution_count": 101,
   "id": "be6b9ac0-f8d1-434a-a656-4ce388a68a8f",
   "metadata": {},
   "outputs": [
    {
     "data": {
      "text/plain": [
       "['a+bj', 10, 11, 'kiran', 3.4, (2+2j)]"
      ]
     },
     "execution_count": 101,
     "metadata": {},
     "output_type": "execute_result"
    }
   ],
   "source": [
    "l4"
   ]
  },
  {
   "cell_type": "code",
   "execution_count": 102,
   "id": "36541d1d-9754-4732-ad11-1b6a983fe978",
   "metadata": {},
   "outputs": [
    {
     "name": "stdout",
     "output_type": "stream",
     "text": [
      "i\n",
      "r\n",
      "a\n"
     ]
    }
   ],
   "source": [
    "print(l4[3][1])\n",
    "print(l4[3][2])\n",
    "print(l4[3][3]) # concept is called Nested Indexing\n",
    "      "
   ]
  },
  {
   "cell_type": "code",
   "execution_count": 103,
   "id": "454e9ce4-c518-4219-b903-72003c8d154d",
   "metadata": {},
   "outputs": [
    {
     "data": {
      "text/plain": [
       "['a+bj', 10, 11, 'kiran', 3.4, (2+2j)]"
      ]
     },
     "execution_count": 103,
     "metadata": {},
     "output_type": "execute_result"
    }
   ],
   "source": [
    "l4[:]"
   ]
  },
  {
   "cell_type": "code",
   "execution_count": 104,
   "id": "ef9f44b2-a8f9-49b3-a000-b171e9ef6ee5",
   "metadata": {},
   "outputs": [
    {
     "data": {
      "text/plain": [
       "['a+bj', 10, 11, 'kiran', 3.4, (2+2j)]"
      ]
     },
     "execution_count": 104,
     "metadata": {},
     "output_type": "execute_result"
    }
   ],
   "source": [
    "l4[:10] # we dont have 10 elements , we have only have 5 elements in List\n"
   ]
  },
  {
   "cell_type": "code",
   "execution_count": 105,
   "id": "b086e320-dea2-480d-962a-39764b0a58fd",
   "metadata": {},
   "outputs": [
    {
     "data": {
      "text/plain": [
       "['a+bj', 'kiran']"
      ]
     },
     "execution_count": 105,
     "metadata": {},
     "output_type": "execute_result"
    }
   ],
   "source": [
    "l4[0:8:3] # step slicing"
   ]
  },
  {
   "cell_type": "code",
   "execution_count": 106,
   "id": "07aed0c1-b7e4-419f-9849-9d8aa111cb7e",
   "metadata": {},
   "outputs": [
    {
     "data": {
      "text/plain": [
       "[10, 'kiran']"
      ]
     },
     "execution_count": 106,
     "metadata": {},
     "output_type": "execute_result"
    }
   ],
   "source": [
    "l4[1:5:2]"
   ]
  },
  {
   "cell_type": "code",
   "execution_count": 107,
   "id": "e6a7ca91-78b8-4b29-8b94-bc8fa8fb8a6b",
   "metadata": {},
   "outputs": [
    {
     "name": "stdout",
     "output_type": "stream",
     "text": [
      "['a+bj', 10, 11, 'kiran', 3.4, (2+2j)]\n"
     ]
    }
   ],
   "source": [
    "print(l4)"
   ]
  },
  {
   "cell_type": "code",
   "execution_count": 112,
   "id": "85f7eeb3-cad8-4916-a0d1-fd0363d50e42",
   "metadata": {},
   "outputs": [
    {
     "ename": "TypeError",
     "evalue": "list.extend() takes exactly one argument (2 given)",
     "output_type": "error",
     "traceback": [
      "\u001b[1;31m---------------------------------------------------------------------------\u001b[0m",
      "\u001b[1;31mTypeError\u001b[0m                                 Traceback (most recent call last)",
      "Cell \u001b[1;32mIn[112], line 1\u001b[0m\n\u001b[1;32m----> 1\u001b[0m l4\u001b[38;5;241m.\u001b[39mextend(\u001b[38;5;241m1\u001b[39m,\u001b[38;5;241m12\u001b[39m)\n\u001b[0;32m      2\u001b[0m \u001b[38;5;28mprint\u001b[39m(l4)\n",
      "\u001b[1;31mTypeError\u001b[0m: list.extend() takes exactly one argument (2 given)"
     ]
    }
   ],
   "source": [
    "l4.extend(1,12)\n",
    "print(l4)"
   ]
  },
  {
   "cell_type": "code",
   "execution_count": 114,
   "id": "b0b00708-14f8-48c3-8c6d-7c027bde8085",
   "metadata": {},
   "outputs": [
    {
     "data": {
      "text/plain": [
       "['a+bj', 'sai', 'sai', 10, 11, 'kiran', 3.4, (2+2j)]"
      ]
     },
     "execution_count": 114,
     "metadata": {},
     "output_type": "execute_result"
    }
   ],
   "source": [
    "l4.insert(1, 'sai') # why double times printing\n",
    "l4"
   ]
  },
  {
   "cell_type": "code",
   "execution_count": 119,
   "id": "8c28e5b7-a990-4372-9060-052c7890531b",
   "metadata": {},
   "outputs": [
    {
     "data": {
      "text/plain": [
       "['a+bj',\n",
       " 'sai',\n",
       " 'sai',\n",
       " 'Vihu',\n",
       " 'Vihu',\n",
       " 'Vihu',\n",
       " 'Vihu',\n",
       " 'Vihu',\n",
       " 10,\n",
       " 11,\n",
       " 'kiran',\n",
       " 3.4,\n",
       " (2+2j)]"
      ]
     },
     "execution_count": 119,
     "metadata": {},
     "output_type": "execute_result"
    }
   ],
   "source": [
    "l4.insert(3, 'Vihu') \n",
    "l4"
   ]
  },
  {
   "cell_type": "code",
   "execution_count": 121,
   "id": "17805281-8de7-4ff8-836a-01d11afb7dcf",
   "metadata": {},
   "outputs": [
    {
     "data": {
      "text/plain": [
       "['a+bj',\n",
       " 'sai',\n",
       " 'sai',\n",
       " 'Vihu',\n",
       " 'Vihu',\n",
       " 'Vihu',\n",
       " 'Vihu',\n",
       " 'Vihu',\n",
       " 'Vihu',\n",
       " 'Vihu',\n",
       " 10,\n",
       " 11,\n",
       " 'kiran',\n",
       " 3.4,\n",
       " (2+2j)]"
      ]
     },
     "execution_count": 121,
     "metadata": {},
     "output_type": "execute_result"
    }
   ],
   "source": [
    "l4.insert(3, 'Vihu') # doubt \n",
    "l4"
   ]
  },
  {
   "cell_type": "code",
   "execution_count": 122,
   "id": "c828ed1f-8256-4f31-8b13-da540098bfd3",
   "metadata": {},
   "outputs": [
    {
     "name": "stdout",
     "output_type": "stream",
     "text": [
      "['a+bj', 'sai', 'sai', 'Vihu', 'Vihu', 'Vihu', 'Vihu', 'Vihu', 'Vihu', 'Vihu', 10, 11, 'kiran', 3.4, (2+2j)]\n"
     ]
    }
   ],
   "source": [
    "print(l4)"
   ]
  },
  {
   "cell_type": "code",
   "execution_count": 123,
   "id": "09525536-88a4-4eda-bc23-5a55dedeed43",
   "metadata": {},
   "outputs": [
    {
     "data": {
      "text/plain": [
       "['a+bj',\n",
       " 'sai',\n",
       " 'sai',\n",
       " 'Vihu',\n",
       " 'Vihu',\n",
       " 'Vihu',\n",
       " 'Vihu',\n",
       " 'Vihu',\n",
       " 'Vihu',\n",
       " 'Vihu',\n",
       " 10,\n",
       " 11,\n",
       " 'kiran',\n",
       " 3.4]"
      ]
     },
     "execution_count": 123,
     "metadata": {},
     "output_type": "execute_result"
    }
   ],
   "source": [
    "l4.pop()\n",
    "l4"
   ]
  },
  {
   "cell_type": "code",
   "execution_count": 131,
   "id": "f368f5b9-fcd3-4cfd-93e6-2c3f0fa6ddbf",
   "metadata": {},
   "outputs": [
    {
     "name": "stdout",
     "output_type": "stream",
     "text": [
      "[30, 40, 81, 60, -70, 30, 30, 30, 30, 30]\n"
     ]
    }
   ],
   "source": [
    "print(l1)\n"
   ]
  },
  {
   "cell_type": "code",
   "execution_count": 132,
   "id": "8ed10a34-5d69-400c-bc7c-6d6d136b37a6",
   "metadata": {},
   "outputs": [
    {
     "data": {
      "text/plain": [
       "30"
      ]
     },
     "execution_count": 132,
     "metadata": {},
     "output_type": "execute_result"
    }
   ],
   "source": [
    "l1.pop()"
   ]
  },
  {
   "cell_type": "code",
   "execution_count": 133,
   "id": "60280e6a-6c15-43cf-8e8e-a779a27acc3a",
   "metadata": {},
   "outputs": [
    {
     "data": {
      "text/plain": [
       "[30, 40, 81, 60, -70, 30, 30, 30, 30]"
      ]
     },
     "execution_count": 133,
     "metadata": {},
     "output_type": "execute_result"
    }
   ],
   "source": [
    "l1"
   ]
  },
  {
   "cell_type": "code",
   "execution_count": 134,
   "id": "9ed74b65-96a0-4094-8cc5-7a2fb225e4b2",
   "metadata": {},
   "outputs": [
    {
     "data": {
      "text/plain": [
       "[22, 33, 44, 55, 'sai', 'oldmonk', 'DilRaju', 'Rajamouli']"
      ]
     },
     "execution_count": 134,
     "metadata": {},
     "output_type": "execute_result"
    }
   ],
   "source": [
    "l5=[22,33,44,55,'sai','oldmonk','DilRaju','Rajamouli']\n",
    "l5"
   ]
  },
  {
   "cell_type": "code",
   "execution_count": 135,
   "id": "cc4bad46-5f9a-4d82-a40b-92e8afda75a9",
   "metadata": {},
   "outputs": [
    {
     "data": {
      "text/plain": [
       "'Rajamouli'"
      ]
     },
     "execution_count": 135,
     "metadata": {},
     "output_type": "execute_result"
    }
   ],
   "source": [
    "l5.pop()"
   ]
  },
  {
   "cell_type": "code",
   "execution_count": 136,
   "id": "48ee440f-df19-41fe-990e-a85150391c75",
   "metadata": {},
   "outputs": [
    {
     "data": {
      "text/plain": [
       "[22, 33, 44, 55, 'sai', 'oldmonk', 'DilRaju']"
      ]
     },
     "execution_count": 136,
     "metadata": {},
     "output_type": "execute_result"
    }
   ],
   "source": [
    "l5"
   ]
  },
  {
   "cell_type": "code",
   "execution_count": 137,
   "id": "c4d4e0c9-16ff-48e3-8e28-e821b21a86f6",
   "metadata": {},
   "outputs": [
    {
     "data": {
      "text/plain": [
       "'DilRaju'"
      ]
     },
     "execution_count": 137,
     "metadata": {},
     "output_type": "execute_result"
    }
   ],
   "source": [
    "l5.pop() # pop will remove the lAst element "
   ]
  },
  {
   "cell_type": "code",
   "execution_count": 138,
   "id": "09b887bc-5538-451b-91bd-908f30a02302",
   "metadata": {},
   "outputs": [
    {
     "data": {
      "text/plain": [
       "[22, 33, 44, 55, 'sai', 'oldmonk']"
      ]
     },
     "execution_count": 138,
     "metadata": {},
     "output_type": "execute_result"
    }
   ],
   "source": [
    "l5"
   ]
  },
  {
   "cell_type": "code",
   "execution_count": 139,
   "id": "2258dd7e-73de-4880-a16e-21d7e556bb5e",
   "metadata": {},
   "outputs": [
    {
     "data": {
      "text/plain": [
       "44"
      ]
     },
     "execution_count": 139,
     "metadata": {},
     "output_type": "execute_result"
    }
   ],
   "source": [
    "l5.pop(2)"
   ]
  },
  {
   "cell_type": "code",
   "execution_count": 140,
   "id": "fe2aa458-13e8-4947-b48f-96da01157810",
   "metadata": {},
   "outputs": [
    {
     "data": {
      "text/plain": [
       "[22, 33, 55, 'sai', 'oldmonk']"
      ]
     },
     "execution_count": 140,
     "metadata": {},
     "output_type": "execute_result"
    }
   ],
   "source": [
    "l5"
   ]
  },
  {
   "cell_type": "code",
   "execution_count": 143,
   "id": "35f35b78-a56f-4660-be25-2548bc9928d2",
   "metadata": {},
   "outputs": [
    {
     "data": {
      "text/plain": [
       "[22, 33, 'Rajamowli', 'Rajamowli', 55, 'sai', 'oldmonk']"
      ]
     },
     "execution_count": 143,
     "metadata": {},
     "output_type": "execute_result"
    }
   ],
   "source": [
    "l5.insert(2,'Rajamowli')\n",
    "l5"
   ]
  },
  {
   "cell_type": "code",
   "execution_count": 152,
   "id": "25c4507f-b6a3-41de-b4c3-20f846aada6c",
   "metadata": {},
   "outputs": [
    {
     "name": "stdout",
     "output_type": "stream",
     "text": [
      "['shahrukh', 'shahrukh', 'shahrukh', 'shahrukh', 'shahrukh', 'shahrukh', 'shahrukh', 'shahrukh', 22, 33, 'Rajamowli', 'Rajamowli', 55, 'sai', 'oldmonk']\n"
     ]
    }
   ],
   "source": [
    "l5.insert(0,'shahrukh')\n",
    "print(l5)\n"
   ]
  },
  {
   "cell_type": "code",
   "execution_count": 154,
   "id": "a800e120-d3f1-4843-b014-611eecf60886",
   "metadata": {},
   "outputs": [
    {
     "data": {
      "text/plain": [
       "['kailash', 'mt.Everest', 12, 44, (1+2j), 3.4, 55, 76]"
      ]
     },
     "execution_count": 154,
     "metadata": {},
     "output_type": "execute_result"
    }
   ],
   "source": [
    "l7=['kailash','mt.Everest',12,44,(1+2j),3.4,55,76]\n",
    "l7"
   ]
  },
  {
   "cell_type": "code",
   "execution_count": 156,
   "id": "1d778306-4440-40c9-b53c-e1013f42a767",
   "metadata": {},
   "outputs": [
    {
     "data": {
      "text/plain": [
       "[55, 66, 77, 'fruits', 'veggies']"
      ]
     },
     "execution_count": 156,
     "metadata": {},
     "output_type": "execute_result"
    }
   ],
   "source": [
    "l8=[55,66,77,'fruits','veggies']\n",
    "l8"
   ]
  },
  {
   "cell_type": "code",
   "execution_count": 157,
   "id": "53633444-832a-4bfc-a153-5128bc6e1fb1",
   "metadata": {},
   "outputs": [
    {
     "data": {
      "text/plain": [
       "[55, 66, 77, 'fruits', 'cool Drinks', 'veggies']"
      ]
     },
     "execution_count": 157,
     "metadata": {},
     "output_type": "execute_result"
    }
   ],
   "source": [
    "l8.insert(4,'cool Drinks')\n",
    "l8"
   ]
  },
  {
   "cell_type": "code",
   "execution_count": 158,
   "id": "3bd444fc-79a7-49fc-9399-da83b85c3518",
   "metadata": {},
   "outputs": [
    {
     "data": {
      "text/plain": [
       "[55, 66, 77, 'fruits', 'cool Drinks', 'cola', 'veggies']"
      ]
     },
     "execution_count": 158,
     "metadata": {},
     "output_type": "execute_result"
    }
   ],
   "source": [
    "l8.insert(5, 'cola')\n",
    "l8"
   ]
  },
  {
   "cell_type": "code",
   "execution_count": 159,
   "id": "04cfcc51-de56-4dec-8f71-6e481e27ac3f",
   "metadata": {},
   "outputs": [
    {
     "data": {
      "text/plain": [
       "'veggies'"
      ]
     },
     "execution_count": 159,
     "metadata": {},
     "output_type": "execute_result"
    }
   ],
   "source": [
    "l8.pop()"
   ]
  },
  {
   "cell_type": "code",
   "execution_count": 160,
   "id": "b3ed483a-11c3-4970-92ac-10d67c0dac2e",
   "metadata": {},
   "outputs": [
    {
     "data": {
      "text/plain": [
       "[55, 66, 77, 'fruits', 'cool Drinks', 'cola']"
      ]
     },
     "execution_count": 160,
     "metadata": {},
     "output_type": "execute_result"
    }
   ],
   "source": [
    "l8"
   ]
  },
  {
   "cell_type": "code",
   "execution_count": 161,
   "id": "76f8bb42-a08a-4d54-9e64-544417ddc45c",
   "metadata": {},
   "outputs": [
    {
     "data": {
      "text/plain": [
       "77"
      ]
     },
     "execution_count": 161,
     "metadata": {},
     "output_type": "execute_result"
    }
   ],
   "source": [
    "l8.pop(2)"
   ]
  },
  {
   "cell_type": "code",
   "execution_count": 162,
   "id": "e00e89ab-7c87-4391-a7b1-f72c531d6819",
   "metadata": {},
   "outputs": [
    {
     "data": {
      "text/plain": [
       "[55, 66, 'fruits', 'cool Drinks', 'cola']"
      ]
     },
     "execution_count": 162,
     "metadata": {},
     "output_type": "execute_result"
    }
   ],
   "source": [
    "l8"
   ]
  },
  {
   "cell_type": "code",
   "execution_count": 165,
   "id": "a9ad7a48-b8d4-4840-bab0-c43a17369e31",
   "metadata": {},
   "outputs": [
    {
     "data": {
      "text/plain": [
       "[55, 'fruits', 'cool Drinks', 'cola']"
      ]
     },
     "execution_count": 165,
     "metadata": {},
     "output_type": "execute_result"
    }
   ],
   "source": [
    "l8.remove(66)\n",
    "l8"
   ]
  },
  {
   "cell_type": "code",
   "execution_count": 12,
   "id": "1b75301e-a655-4569-84bc-50e3f51a4233",
   "metadata": {},
   "outputs": [
    {
     "ename": "NameError",
     "evalue": "name 'l4' is not defined",
     "output_type": "error",
     "traceback": [
      "\u001b[1;31m---------------------------------------------------------------------------\u001b[0m",
      "\u001b[1;31mNameError\u001b[0m                                 Traceback (most recent call last)",
      "Cell \u001b[1;32mIn[12], line 1\u001b[0m\n\u001b[1;32m----> 1\u001b[0m \u001b[38;5;28;01mfor\u001b[39;00m i \u001b[38;5;129;01min\u001b[39;00m l4:\n\u001b[0;32m      2\u001b[0m     \u001b[38;5;28mprint\u001b[39m(i)\n",
      "\u001b[1;31mNameError\u001b[0m: name 'l4' is not defined"
     ]
    }
   ],
   "source": [
    "for i in l4:\n",
    "    print(i)"
   ]
  },
  {
   "cell_type": "code",
   "execution_count": 13,
   "id": "83f5766d-059b-42d9-a814-307c81c36aaf",
   "metadata": {},
   "outputs": [
    {
     "name": "stdout",
     "output_type": "stream",
     "text": [
      "200\n",
      "100\n",
      "400\n",
      "300\n",
      "600\n"
     ]
    }
   ],
   "source": [
    "l9=[200,100,400,300,600]\n",
    "for i in l9:\n",
    "    print(i)"
   ]
  },
  {
   "cell_type": "code",
   "execution_count": 14,
   "id": "f795d541-38f3-4e0c-9d7d-728d346e73e1",
   "metadata": {},
   "outputs": [
    {
     "ename": "NameError",
     "evalue": "name 'l5' is not defined",
     "output_type": "error",
     "traceback": [
      "\u001b[1;31m---------------------------------------------------------------------------\u001b[0m",
      "\u001b[1;31mNameError\u001b[0m                                 Traceback (most recent call last)",
      "Cell \u001b[1;32mIn[14], line 1\u001b[0m\n\u001b[1;32m----> 1\u001b[0m \u001b[38;5;28;01mfor\u001b[39;00m i \u001b[38;5;129;01min\u001b[39;00m l5:\n\u001b[0;32m      2\u001b[0m     \u001b[38;5;28mprint\u001b[39m(i)\n",
      "\u001b[1;31mNameError\u001b[0m: name 'l5' is not defined"
     ]
    }
   ],
   "source": [
    "for i in l5:\n",
    "    print(i)"
   ]
  },
  {
   "cell_type": "code",
   "execution_count": 15,
   "id": "dd9838e7-4659-4065-9dd4-ab75afd300e7",
   "metadata": {},
   "outputs": [
    {
     "name": "stdout",
     "output_type": "stream",
     "text": [
      "(0, 200)\n",
      "(1, 100)\n",
      "(2, 400)\n",
      "(3, 300)\n",
      "(4, 600)\n"
     ]
    }
   ],
   "source": [
    "for i in enumerate(l9):\n",
    "    print(i)  # enumerate function gives paired object"
   ]
  },
  {
   "cell_type": "code",
   "execution_count": null,
   "id": "0d458f23-8f83-4462-9d74-d4db7f2aac4d",
   "metadata": {},
   "outputs": [],
   "source": [
    "# we use enumerate in real time --> when we want to detect \n"
   ]
  },
  {
   "cell_type": "code",
   "execution_count": 18,
   "id": "670bcd5a-c955-4337-92a7-4ac89d73db27",
   "metadata": {},
   "outputs": [
    {
     "name": "stdout",
     "output_type": "stream",
     "text": [
      "19\n"
     ]
    }
   ],
   "source": [
    "print(19)"
   ]
  },
  {
   "cell_type": "code",
   "execution_count": 19,
   "id": "16c5b6cf-9b9c-41d4-9238-fad6ad1c5e91",
   "metadata": {},
   "outputs": [
    {
     "ename": "NameError",
     "evalue": "name 'l8' is not defined",
     "output_type": "error",
     "traceback": [
      "\u001b[1;31m---------------------------------------------------------------------------\u001b[0m",
      "\u001b[1;31mNameError\u001b[0m                                 Traceback (most recent call last)",
      "Cell \u001b[1;32mIn[19], line 1\u001b[0m\n\u001b[1;32m----> 1\u001b[0m \u001b[38;5;28mprint\u001b[39m(l8)\n",
      "\u001b[1;31mNameError\u001b[0m: name 'l8' is not defined"
     ]
    }
   ],
   "source": [
    "print(l8)"
   ]
  },
  {
   "cell_type": "code",
   "execution_count": 20,
   "id": "9f4f9b93-b1da-4b76-a532-a4306a8dc359",
   "metadata": {},
   "outputs": [
    {
     "data": {
      "text/plain": [
       "[200, 100, 400, 300, 600]"
      ]
     },
     "execution_count": 20,
     "metadata": {},
     "output_type": "execute_result"
    }
   ],
   "source": [
    "l9"
   ]
  },
  {
   "cell_type": "code",
   "execution_count": 21,
   "id": "bdf7c210-02a7-48b2-a695-3530ac495ac3",
   "metadata": {},
   "outputs": [
    {
     "ename": "NameError",
     "evalue": "name 'l8' is not defined",
     "output_type": "error",
     "traceback": [
      "\u001b[1;31m---------------------------------------------------------------------------\u001b[0m",
      "\u001b[1;31mNameError\u001b[0m                                 Traceback (most recent call last)",
      "Cell \u001b[1;32mIn[21], line 1\u001b[0m\n\u001b[1;32m----> 1\u001b[0m l8\n",
      "\u001b[1;31mNameError\u001b[0m: name 'l8' is not defined"
     ]
    }
   ],
   "source": [
    "l8"
   ]
  },
  {
   "cell_type": "code",
   "execution_count": 22,
   "id": "d7bf675f-68e6-4637-bf5f-41ab8e1af049",
   "metadata": {},
   "outputs": [
    {
     "ename": "NameError",
     "evalue": "name 'l7' is not defined",
     "output_type": "error",
     "traceback": [
      "\u001b[1;31m---------------------------------------------------------------------------\u001b[0m",
      "\u001b[1;31mNameError\u001b[0m                                 Traceback (most recent call last)",
      "Cell \u001b[1;32mIn[22], line 1\u001b[0m\n\u001b[1;32m----> 1\u001b[0m l7\n",
      "\u001b[1;31mNameError\u001b[0m: name 'l7' is not defined"
     ]
    }
   ],
   "source": [
    "l7"
   ]
  },
  {
   "cell_type": "code",
   "execution_count": 23,
   "id": "114fcbef-8e95-4b3d-8691-8e6345aad4a8",
   "metadata": {},
   "outputs": [
    {
     "ename": "NameError",
     "evalue": "name 'l5' is not defined",
     "output_type": "error",
     "traceback": [
      "\u001b[1;31m---------------------------------------------------------------------------\u001b[0m",
      "\u001b[1;31mNameError\u001b[0m                                 Traceback (most recent call last)",
      "Cell \u001b[1;32mIn[23], line 1\u001b[0m\n\u001b[1;32m----> 1\u001b[0m l5\n",
      "\u001b[1;31mNameError\u001b[0m: name 'l5' is not defined"
     ]
    }
   ],
   "source": [
    "l5"
   ]
  },
  {
   "cell_type": "code",
   "execution_count": 24,
   "id": "41c2a0c5-39a5-443c-bd79-4a26aa129414",
   "metadata": {},
   "outputs": [
    {
     "data": {
      "text/plain": [
       "[200, 100, 400, 300, 600]"
      ]
     },
     "execution_count": 24,
     "metadata": {},
     "output_type": "execute_result"
    }
   ],
   "source": [
    "l9"
   ]
  },
  {
   "cell_type": "code",
   "execution_count": 26,
   "id": "2aed16d1-7864-43f6-8f09-ba6974e2b540",
   "metadata": {},
   "outputs": [
    {
     "data": {
      "text/plain": [
       "[98, 87, 76, 65, 54, 43, 32]"
      ]
     },
     "execution_count": 26,
     "metadata": {},
     "output_type": "execute_result"
    }
   ],
   "source": [
    "l10=[98, 87,76,65,54,43,32]\n",
    "l10"
   ]
  },
  {
   "cell_type": "code",
   "execution_count": 27,
   "id": "57c6ad78-4b81-4ad4-b861-72db909a2338",
   "metadata": {},
   "outputs": [
    {
     "name": "stdout",
     "output_type": "stream",
     "text": [
      "[98, 87, 76, 65, 54, 43, 32, 200, 100, 400, 300, 600]\n"
     ]
    }
   ],
   "source": [
    "l10.extend(l9)\n",
    "print(l10)"
   ]
  },
  {
   "cell_type": "code",
   "execution_count": null,
   "id": "2b730c1a-6360-4dae-a672-cb0ba46a0e0d",
   "metadata": {},
   "outputs": [],
   "source": [
    "l10.sort() # ascending order by defualt system given =parameter tuning\n",
    "print(l10)"
   ]
  },
  {
   "cell_type": "code",
   "execution_count": 31,
   "id": "94bda736-2a5d-4b2a-b7b9-550be189b3d6",
   "metadata": {},
   "outputs": [
    {
     "data": {
      "text/plain": [
       "[600, 400, 300, 200, 100, 98, 87, 76, 65, 54, 43, 32]"
      ]
     },
     "execution_count": 31,
     "metadata": {},
     "output_type": "execute_result"
    }
   ],
   "source": [
    "l10.sort(reverse=True) # user defined is hyperparameter tunning\n",
    "l10"
   ]
  },
  {
   "cell_type": "code",
   "execution_count": null,
   "id": "9786fb85-055f-4acc-b467-40e484148ac8",
   "metadata": {},
   "outputs": [],
   "source": [
    "###### here we applied Sort() function to similar data type but when we try for different data type\n"
   ]
  },
  {
   "cell_type": "code",
   "execution_count": 32,
   "id": "29b01a07-d56d-4bfa-bc1d-f6390e16491b",
   "metadata": {},
   "outputs": [
    {
     "ename": "TypeError",
     "evalue": "'<' not supported between instances of 'int' and 'str'",
     "output_type": "error",
     "traceback": [
      "\u001b[1;31m---------------------------------------------------------------------------\u001b[0m",
      "\u001b[1;31mTypeError\u001b[0m                                 Traceback (most recent call last)",
      "Cell \u001b[1;32mIn[32], line 2\u001b[0m\n\u001b[0;32m      1\u001b[0m m1\u001b[38;5;241m=\u001b[39m[\u001b[38;5;124m'\u001b[39m\u001b[38;5;124mregalia\u001b[39m\u001b[38;5;124m'\u001b[39m , \u001b[38;5;241m100\u001b[39m , \u001b[38;5;124m'\u001b[39m\u001b[38;5;124mloop\u001b[39m\u001b[38;5;124m'\u001b[39m , \u001b[38;5;241m65\u001b[39m, \u001b[38;5;241m67\u001b[39m, \u001b[38;5;241m87\u001b[39m , ]\n\u001b[1;32m----> 2\u001b[0m m1\u001b[38;5;241m.\u001b[39msort()\n\u001b[0;32m      3\u001b[0m \u001b[38;5;28mprint\u001b[39m(m1)\n",
      "\u001b[1;31mTypeError\u001b[0m: '<' not supported between instances of 'int' and 'str'"
     ]
    }
   ],
   "source": [
    "m1=['regalia' , 100 , 'loop' , 65, 67, 87 , ]\n",
    "m1.sort()\n",
    "print(m1)"
   ]
  },
  {
   "cell_type": "code",
   "execution_count": null,
   "id": "77b2df60-8e62-49d1-b471-cd8a67d7cd2f",
   "metadata": {},
   "outputs": [],
   "source": [
    "### so it doesnt support as how can we perform ascending or descending order to mixed data types"
   ]
  },
  {
   "cell_type": "code",
   "execution_count": 34,
   "id": "1680cbc8-6494-4649-b990-c018b52b414a",
   "metadata": {},
   "outputs": [
    {
     "data": {
      "text/plain": [
       "['a', 'b', 'c', 'd', 'g', 'l', 't']"
      ]
     },
     "execution_count": 34,
     "metadata": {},
     "output_type": "execute_result"
    }
   ],
   "source": [
    "m2=['g','t','a','c','b','d','l']\n",
    "m2.sort()\n",
    "m2"
   ]
  },
  {
   "cell_type": "code",
   "execution_count": 36,
   "id": "aa620d19-c5f3-45f6-9c72-960e4b3ed29b",
   "metadata": {},
   "outputs": [
    {
     "data": {
      "text/plain": [
       "['t', 'l', 'g', 'd', 'c', 'b', 'a']"
      ]
     },
     "execution_count": 36,
     "metadata": {},
     "output_type": "execute_result"
    }
   ],
   "source": [
    "m2.sort(reverse=True)\n",
    "m2"
   ]
  },
  {
   "cell_type": "code",
   "execution_count": 37,
   "id": "e4bb8665-089d-4861-a6d2-f91dc79fdf2b",
   "metadata": {},
   "outputs": [
    {
     "data": {
      "text/plain": [
       "['a', 'b', 'c', 'd', 'g', 'l', 't']"
      ]
     },
     "execution_count": 37,
     "metadata": {},
     "output_type": "execute_result"
    }
   ],
   "source": [
    "m2.reverse()\n",
    "m2"
   ]
  },
  {
   "cell_type": "markdown",
   "id": "a798f32b-d41e-44f1-a58f-3a80575944dd",
   "metadata": {},
   "source": [
    "###List Data structure completed"
   ]
  },
  {
   "cell_type": "code",
   "execution_count": null,
   "id": "9d45ded3-dd07-42a1-9cc4-e8a2f618ee92",
   "metadata": {},
   "outputs": [],
   "source": []
  }
 ],
 "metadata": {
  "kernelspec": {
   "display_name": "Python [conda env:base] *",
   "language": "python",
   "name": "conda-base-py"
  },
  "language_info": {
   "codemirror_mode": {
    "name": "ipython",
    "version": 3
   },
   "file_extension": ".py",
   "mimetype": "text/x-python",
   "name": "python",
   "nbconvert_exporter": "python",
   "pygments_lexer": "ipython3",
   "version": "3.12.7"
  }
 },
 "nbformat": 4,
 "nbformat_minor": 5
}
