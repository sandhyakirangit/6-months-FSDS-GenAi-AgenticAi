{
 "cells": [
  {
   "cell_type": "code",
   "execution_count": 4,
   "id": "84b4de93-6f99-4c58-8569-4f4c94d22cb2",
   "metadata": {},
   "outputs": [],
   "source": [
    "import numpy as np\n"
   ]
  },
  {
   "cell_type": "code",
   "execution_count": 5,
   "id": "203e755b-684c-4882-9b14-578df463a821",
   "metadata": {},
   "outputs": [
    {
     "data": {
      "text/plain": [
       "'1.26.4'"
      ]
     },
     "execution_count": 5,
     "metadata": {},
     "output_type": "execute_result"
    }
   ],
   "source": [
    "np. __version__\n"
   ]
  },
  {
   "cell_type": "code",
   "execution_count": 6,
   "id": "6304a888-f88d-48c3-918f-e99cd28cf1e3",
   "metadata": {
    "jupyter": {
     "source_hidden": true
    }
   },
   "outputs": [
    {
     "data": {
      "text/plain": [
       "'3.12.7 | packaged by Anaconda, Inc. | (main, Oct  4 2024, 13:17:27) [MSC v.1929 64 bit (AMD64)]'"
      ]
     },
     "execution_count": 6,
     "metadata": {},
     "output_type": "execute_result"
    }
   ],
   "source": [
    "import sys\n",
    "sys.version"
   ]
  },
  {
   "cell_type": "code",
   "execution_count": 53,
   "id": "2976d478-312f-4081-b00c-b769b8c6d061",
   "metadata": {},
   "outputs": [
    {
     "name": "stdout",
     "output_type": "stream",
     "text": [
      "<class 'list'>\n"
     ]
    }
   ],
   "source": [
    "#### CREATING A LIST HERE \n",
    "\n",
    "my_List=[1,2,3,4,5,6]\n",
    "#my_List\n",
    "print(type(my_List))\n"
   ]
  },
  {
   "cell_type": "code",
   "execution_count": 8,
   "id": "d3a54217-3a49-4bcb-b037-8a6a6a2d0f69",
   "metadata": {},
   "outputs": [
    {
     "data": {
      "text/plain": [
       "list"
      ]
     },
     "execution_count": 8,
     "metadata": {},
     "output_type": "execute_result"
    }
   ],
   "source": [
    "type(my_List)"
   ]
  },
  {
   "cell_type": "code",
   "execution_count": 10,
   "id": "3434ee23-2a20-46d8-9ad7-93960d5f0838",
   "metadata": {},
   "outputs": [
    {
     "data": {
      "text/plain": [
       "array([1, 2, 3, 4, 5, 6])"
      ]
     },
     "execution_count": 10,
     "metadata": {},
     "output_type": "execute_result"
    }
   ],
   "source": [
    "## Converting LIST TO ARRAY \n",
    "\n",
    "\n",
    "arr = np.array(my_List)\n",
    "arr"
   ]
  },
  {
   "cell_type": "code",
   "execution_count": 11,
   "id": "1bf0650c-b91a-4e31-8a3a-2456a2849d9a",
   "metadata": {},
   "outputs": [
    {
     "data": {
      "text/plain": [
       "numpy.ndarray"
      ]
     },
     "execution_count": 11,
     "metadata": {},
     "output_type": "execute_result"
    }
   ],
   "source": [
    "type(arr)"
   ]
  },
  {
   "cell_type": "code",
   "execution_count": 13,
   "id": "a8ab067d-cc2b-41d5-90fd-41c63c272c0c",
   "metadata": {},
   "outputs": [
    {
     "name": "stdout",
     "output_type": "stream",
     "text": [
      "<class 'numpy.ndarray'>\n",
      "<class 'list'>\n"
     ]
    }
   ],
   "source": [
    "print(type(arr))\n",
    "print(type(my_List))"
   ]
  },
  {
   "cell_type": "code",
   "execution_count": 18,
   "id": "aa8a16b4-c4a9-42b2-87aa-f872e290fcaf",
   "metadata": {},
   "outputs": [
    {
     "ename": "TypeError",
     "evalue": "arange() requires stop to be specified.",
     "output_type": "error",
     "traceback": [
      "\u001b[1;31m---------------------------------------------------------------------------\u001b[0m",
      "\u001b[1;31mTypeError\u001b[0m                                 Traceback (most recent call last)",
      "Cell \u001b[1;32mIn[18], line 1\u001b[0m\n\u001b[1;32m----> 1\u001b[0m np\u001b[38;5;241m.\u001b[39marange()\n",
      "\u001b[1;31mTypeError\u001b[0m: arange() requires stop to be specified."
     ]
    }
   ],
   "source": [
    "np.arange()\n"
   ]
  },
  {
   "cell_type": "code",
   "execution_count": 17,
   "id": "ff629b07-fb38-4142-a4ae-1488adde63c7",
   "metadata": {},
   "outputs": [
    {
     "data": {
      "text/plain": [
       "array([0, 1, 2, 3, 4, 5, 6, 7, 8, 9])"
      ]
     },
     "execution_count": 17,
     "metadata": {},
     "output_type": "execute_result"
    }
   ],
   "source": [
    "np.arange(10)"
   ]
  },
  {
   "cell_type": "code",
   "execution_count": 19,
   "id": "4f82845f-ed32-467d-9f3e-60f31908c9a1",
   "metadata": {},
   "outputs": [
    {
     "data": {
      "text/plain": [
       "array([10, 11, 12, 13, 14, 15, 16, 17, 18, 19])"
      ]
     },
     "execution_count": 19,
     "metadata": {},
     "output_type": "execute_result"
    }
   ],
   "source": [
    "np.arange(10,20)"
   ]
  },
  {
   "cell_type": "code",
   "execution_count": 20,
   "id": "0d71f63b-3206-408f-9e45-4e8f2bc8312b",
   "metadata": {},
   "outputs": [
    {
     "data": {
      "text/plain": [
       "array([10, 15, 20, 25, 30, 35, 40, 45])"
      ]
     },
     "execution_count": 20,
     "metadata": {},
     "output_type": "execute_result"
    }
   ],
   "source": [
    "np.arange(10,50,5)"
   ]
  },
  {
   "cell_type": "code",
   "execution_count": 21,
   "id": "5bfd76fa-4760-486a-af9e-5b5c23cb457c",
   "metadata": {},
   "outputs": [
    {
     "data": {
      "text/plain": [
       "array([10, 13, 16, 19, 22, 25, 28, 31, 34, 37, 40, 43, 46, 49])"
      ]
     },
     "execution_count": 21,
     "metadata": {},
     "output_type": "execute_result"
    }
   ],
   "source": [
    "np.arange(10,50,3)"
   ]
  },
  {
   "cell_type": "code",
   "execution_count": 23,
   "id": "0b0c5416-616e-4669-838e-82a57a43c4e5",
   "metadata": {},
   "outputs": [
    {
     "ename": "TypeError",
     "evalue": "Cannot interpret '3' as a data type",
     "output_type": "error",
     "traceback": [
      "\u001b[1;31m---------------------------------------------------------------------------\u001b[0m",
      "\u001b[1;31mTypeError\u001b[0m                                 Traceback (most recent call last)",
      "Cell \u001b[1;32mIn[23], line 1\u001b[0m\n\u001b[1;32m----> 1\u001b[0m np\u001b[38;5;241m.\u001b[39marange(\u001b[38;5;241m10\u001b[39m,\u001b[38;5;241m20\u001b[39m,\u001b[38;5;241m30\u001b[39m, \u001b[38;5;241m3\u001b[39m)\n",
      "\u001b[1;31mTypeError\u001b[0m: Cannot interpret '3' as a data type"
     ]
    }
   ],
   "source": [
    "np.arange(10,20,30, 3) # why means u do shift , Tab it will show explanation"
   ]
  },
  {
   "cell_type": "code",
   "execution_count": null,
   "id": "ec03f458-c576-4dff-9354-a1a78fe88b61",
   "metadata": {},
   "outputs": [],
   "source": [
    "#### Arange() function is only applied to numpy , not List() only in numpy"
   ]
  },
  {
   "cell_type": "code",
   "execution_count": null,
   "id": "d4c70bfc-f1f6-490b-9704-90241f6e0a89",
   "metadata": {},
   "outputs": [],
   "source": [
    "## if you do "
   ]
  },
  {
   "cell_type": "code",
   "execution_count": 25,
   "id": "0d1f92a3-c2c6-4dbc-987d-6619f53f7b4b",
   "metadata": {},
   "outputs": [
    {
     "data": {
      "text/plain": [
       "array([ 8,  9, 10, 11, 12, 13, 14, 15, 16, 17, 18, 19])"
      ]
     },
     "execution_count": 25,
     "metadata": {},
     "output_type": "execute_result"
    }
   ],
   "source": [
    "np.arange(8,20)"
   ]
  },
  {
   "cell_type": "code",
   "execution_count": null,
   "id": "fe9e96ea-a34b-45f6-82fd-aa4a9ec69c0b",
   "metadata": {},
   "outputs": [],
   "source": [
    "np.arange(20,8)"
   ]
  },
  {
   "cell_type": "code",
   "execution_count": 24,
   "id": "bc678c17-1f7c-4807-b2ab-03a389e2f9ff",
   "metadata": {},
   "outputs": [
    {
     "data": {
      "text/plain": [
       "array([], dtype=int32)"
      ]
     },
     "execution_count": 24,
     "metadata": {},
     "output_type": "execute_result"
    }
   ],
   "source": [
    "### but when you do np.arange(20,8)"
   ]
  },
  {
   "cell_type": "code",
   "execution_count": null,
   "id": "85d37e0a-c9f8-44d6-b6d5-f3c2335237e1",
   "metadata": {},
   "outputs": [],
   "source": [
    "## first argument should be always less then second argument then it will print array metrics\n",
    "\n",
    "## second argument is greater then first , u will get error or some other output"
   ]
  },
  {
   "cell_type": "code",
   "execution_count": 54,
   "id": "d01542f7-efe1-488c-ac11-cc90fb0b2059",
   "metadata": {},
   "outputs": [
    {
     "data": {
      "text/plain": [
       "array([-20, -19, -18, -17, -16, -15, -14, -13, -12, -11, -10,  -9,  -8,\n",
       "        -7,  -6,  -5,  -4,  -3,  -2,  -1,   0,   1,   2,   3,   4,   5,\n",
       "         6,   7])"
      ]
     },
     "execution_count": 54,
     "metadata": {},
     "output_type": "execute_result"
    }
   ],
   "source": [
    "np.arange(-20,8)"
   ]
  },
  {
   "cell_type": "code",
   "execution_count": null,
   "id": "16d4c8a5-79dd-4536-a3e5-bdde41ee6758",
   "metadata": {},
   "outputs": [],
   "source": [
    "## so in np.arange() always 1 arg  >>   2 arg"
   ]
  },
  {
   "cell_type": "code",
   "execution_count": null,
   "id": "18da4431-92b5-4083-be33-c22ca608592d",
   "metadata": {},
   "outputs": [],
   "source": [
    "## so everytime we are writing np.arange()  WE CAN REFER TO OBEJCT LIKE BELOW"
   ]
  },
  {
   "cell_type": "code",
   "execution_count": 28,
   "id": "a385cf91-0dbe-4aaf-b88b-b6b122d4e6d2",
   "metadata": {},
   "outputs": [
    {
     "data": {
      "text/plain": [
       "array([2, 3, 4, 5, 6, 7])"
      ]
     },
     "execution_count": 28,
     "metadata": {},
     "output_type": "execute_result"
    }
   ],
   "source": [
    "n= np.arange(2,8)\n",
    "np."
   ]
  },
  {
   "cell_type": "code",
   "execution_count": 29,
   "id": "11798974-8643-491a-a3fd-473bb539a6d1",
   "metadata": {},
   "outputs": [
    {
     "data": {
      "text/plain": [
       "array([0., 0., 0.])"
      ]
     },
     "execution_count": 29,
     "metadata": {},
     "output_type": "execute_result"
    }
   ],
   "source": [
    "np.zeros(3) ### parameter tuning means we get out put as float"
   ]
  },
  {
   "cell_type": "code",
   "execution_count": 32,
   "id": "8486533e-caf0-4833-ba79-b48d267011d4",
   "metadata": {},
   "outputs": [
    {
     "data": {
      "text/plain": [
       "array([0, 0, 0])"
      ]
     },
     "execution_count": 32,
     "metadata": {},
     "output_type": "execute_result"
    }
   ],
   "source": [
    "np.zeros(3,dtype=int) ##hHyper parameter tuning , in LLM its called FineTune  that means here we are changing system \n",
    "                      ## we are changing system parameter"
   ]
  },
  {
   "cell_type": "code",
   "execution_count": null,
   "id": "1b970ff2-8a49-4d59-b486-5685c81648c0",
   "metadata": {},
   "outputs": [],
   "source": [
    "### when u shift Tab , the system gives you its a float type , but when\n",
    "\n"
   ]
  },
  {
   "cell_type": "code",
   "execution_count": 33,
   "id": "02591b61-53ed-481f-87cb-8a22909fdc37",
   "metadata": {},
   "outputs": [
    {
     "data": {
      "text/plain": [
       "array([0., 0., 0., 0., 0.])"
      ]
     },
     "execution_count": 33,
     "metadata": {},
     "output_type": "execute_result"
    }
   ],
   "source": [
    "z=np.zeros(5)\n",
    "z"
   ]
  },
  {
   "cell_type": "code",
   "execution_count": 42,
   "id": "5acfd862-a767-4ac5-a9ef-70eb17a33a28",
   "metadata": {},
   "outputs": [
    {
     "data": {
      "text/plain": [
       "array([[0., 0., 0., 0., 0., 0., 0., 0., 0.],\n",
       "       [0., 0., 0., 0., 0., 0., 0., 0., 0.],\n",
       "       [0., 0., 0., 0., 0., 0., 0., 0., 0.],\n",
       "       [0., 0., 0., 0., 0., 0., 0., 0., 0.],\n",
       "       [0., 0., 0., 0., 0., 0., 0., 0., 0.]])"
      ]
     },
     "execution_count": 42,
     "metadata": {},
     "output_type": "execute_result"
    }
   ],
   "source": [
    "z=np.zeros((5,9))\n",
    "z"
   ]
  },
  {
   "cell_type": "code",
   "execution_count": 45,
   "id": "b7874b74-b780-45f5-b7cd-17c57d160e88",
   "metadata": {},
   "outputs": [
    {
     "data": {
      "text/plain": [
       "array([[0, 0, 0, 0, 0, 0, 0, 0, 0],\n",
       "       [0, 0, 0, 0, 0, 0, 0, 0, 0],\n",
       "       [0, 0, 0, 0, 0, 0, 0, 0, 0],\n",
       "       [0, 0, 0, 0, 0, 0, 0, 0, 0],\n",
       "       [0, 0, 0, 0, 0, 0, 0, 0, 0]])"
      ]
     },
     "execution_count": 45,
     "metadata": {},
     "output_type": "execute_result"
    }
   ],
   "source": [
    "z=np.zeros((5,9) , dtype=int)\n",
    "z"
   ]
  },
  {
   "cell_type": "code",
   "execution_count": 46,
   "id": "f6b90b90-de93-4fd2-8405-be24f533e898",
   "metadata": {},
   "outputs": [
    {
     "data": {
      "text/plain": [
       "5"
      ]
     },
     "execution_count": 46,
     "metadata": {},
     "output_type": "execute_result"
    }
   ],
   "source": [
    "len(z)"
   ]
  },
  {
   "cell_type": "code",
   "execution_count": 47,
   "id": "b6330f8e-1b0c-4667-8a00-1e71ed9e509f",
   "metadata": {},
   "outputs": [
    {
     "data": {
      "text/plain": [
       "array([1., 1., 1.])"
      ]
     },
     "execution_count": 47,
     "metadata": {},
     "output_type": "execute_result"
    }
   ],
   "source": [
    "np.ones(3)"
   ]
  },
  {
   "cell_type": "code",
   "execution_count": 48,
   "id": "52002709-8670-485b-b149-0aefb7caf880",
   "metadata": {},
   "outputs": [
    {
     "data": {
      "text/plain": [
       "array([1, 1, 1])"
      ]
     },
     "execution_count": 48,
     "metadata": {},
     "output_type": "execute_result"
    }
   ],
   "source": [
    "np.ones(3 , dtype=int)"
   ]
  },
  {
   "cell_type": "code",
   "execution_count": 49,
   "id": "a7d48ab4-9eac-49ff-85fd-b22eeb7955d5",
   "metadata": {},
   "outputs": [
    {
     "data": {
      "text/plain": [
       "array([[1, 1, 1, 1, 1, 1, 1, 1, 1, 1],\n",
       "       [1, 1, 1, 1, 1, 1, 1, 1, 1, 1],\n",
       "       [1, 1, 1, 1, 1, 1, 1, 1, 1, 1],\n",
       "       [1, 1, 1, 1, 1, 1, 1, 1, 1, 1],\n",
       "       [1, 1, 1, 1, 1, 1, 1, 1, 1, 1],\n",
       "       [1, 1, 1, 1, 1, 1, 1, 1, 1, 1],\n",
       "       [1, 1, 1, 1, 1, 1, 1, 1, 1, 1],\n",
       "       [1, 1, 1, 1, 1, 1, 1, 1, 1, 1],\n",
       "       [1, 1, 1, 1, 1, 1, 1, 1, 1, 1],\n",
       "       [1, 1, 1, 1, 1, 1, 1, 1, 1, 1]])"
      ]
     },
     "execution_count": 49,
     "metadata": {},
     "output_type": "execute_result"
    }
   ],
   "source": [
    "np.ones((10,10) , dtype=int)"
   ]
  },
  {
   "cell_type": "code",
   "execution_count": null,
   "id": "4bfea6f4-af6c-4afc-aa9f-aae3bd451bb4",
   "metadata": {},
   "outputs": [],
   "source": [
    "### the above one is N dimension array "
   ]
  },
  {
   "cell_type": "code",
   "execution_count": null,
   "id": "80fb10bd-bfb6-49cf-a6ed-59c55128990d",
   "metadata": {},
   "outputs": [],
   "source": [
    "## we cannot use any other digit other then Zeros and Ones , as this would be like pixel format"
   ]
  },
  {
   "cell_type": "code",
   "execution_count": null,
   "id": "75ab68c8-7c70-4126-b96a-fbd61be437f8",
   "metadata": {},
   "outputs": [],
   "source": [
    "### if you want we can check with by doing np.tab  (you can zeros and ones)"
   ]
  },
  {
   "cell_type": "code",
   "execution_count": 50,
   "id": "67ddf9a1-a8c3-4edd-8179-28888bb54681",
   "metadata": {},
   "outputs": [
    {
     "ename": "AttributeError",
     "evalue": "module 'numpy' has no attribute 'three'",
     "output_type": "error",
     "traceback": [
      "\u001b[1;31m---------------------------------------------------------------------------\u001b[0m",
      "\u001b[1;31mAttributeError\u001b[0m                            Traceback (most recent call last)",
      "Cell \u001b[1;32mIn[50], line 3\u001b[0m\n\u001b[0;32m      1\u001b[0m \u001b[38;5;66;03m## lets try \u001b[39;00m\n\u001b[1;32m----> 3\u001b[0m np\u001b[38;5;241m.\u001b[39mthree(\u001b[38;5;241m4\u001b[39m,\u001b[38;5;241m5\u001b[39m)\n",
      "File \u001b[1;32m~\\anaconda3\\Lib\\site-packages\\numpy\\__init__.py:333\u001b[0m, in \u001b[0;36m__getattr__\u001b[1;34m(attr)\u001b[0m\n\u001b[0;32m    330\u001b[0m     \u001b[38;5;124m\"\u001b[39m\u001b[38;5;124mRemoved in NumPy 1.25.0\u001b[39m\u001b[38;5;124m\"\u001b[39m\n\u001b[0;32m    331\u001b[0m     \u001b[38;5;28;01mraise\u001b[39;00m \u001b[38;5;167;01mRuntimeError\u001b[39;00m(\u001b[38;5;124m\"\u001b[39m\u001b[38;5;124mTester was removed in NumPy 1.25.\u001b[39m\u001b[38;5;124m\"\u001b[39m)\n\u001b[1;32m--> 333\u001b[0m \u001b[38;5;28;01mraise\u001b[39;00m \u001b[38;5;167;01mAttributeError\u001b[39;00m(\u001b[38;5;124m\"\u001b[39m\u001b[38;5;124mmodule \u001b[39m\u001b[38;5;132;01m{!r}\u001b[39;00m\u001b[38;5;124m has no attribute \u001b[39m\u001b[38;5;124m\"\u001b[39m\n\u001b[0;32m    334\u001b[0m                      \u001b[38;5;124m\"\u001b[39m\u001b[38;5;132;01m{!r}\u001b[39;00m\u001b[38;5;124m\"\u001b[39m\u001b[38;5;241m.\u001b[39mformat(\u001b[38;5;18m__name__\u001b[39m, attr))\n",
      "\u001b[1;31mAttributeError\u001b[0m: module 'numpy' has no attribute 'three'"
     ]
    }
   ],
   "source": [
    "## lets try \n",
    "\n",
    "np.three(4,5)"
   ]
  },
  {
   "cell_type": "code",
   "execution_count": 55,
   "id": "24e2f7cf-876c-48e0-a334-105f64e00349",
   "metadata": {},
   "outputs": [
    {
     "data": {
      "text/plain": [
       "array([10, 12, 14, 16, 18])"
      ]
     },
     "execution_count": 55,
     "metadata": {},
     "output_type": "execute_result"
    }
   ],
   "source": [
    "np.arange(10,20,2)"
   ]
  },
  {
   "cell_type": "code",
   "execution_count": 56,
   "id": "7c32fb0a-dbcf-44e0-86c4-409e0e8cfe4d",
   "metadata": {},
   "outputs": [
    {
     "data": {
      "text/plain": [
       "array([0., 0., 0., 0., 0.])"
      ]
     },
     "execution_count": 56,
     "metadata": {},
     "output_type": "execute_result"
    }
   ],
   "source": [
    "np.zeros(5)"
   ]
  },
  {
   "cell_type": "code",
   "execution_count": 57,
   "id": "e65833ab-2793-48b4-85f4-4e1d05c7234b",
   "metadata": {},
   "outputs": [
    {
     "data": {
      "text/plain": [
       "array([0, 0, 0, 0, 0, 0, 0, 0, 0, 0])"
      ]
     },
     "execution_count": 57,
     "metadata": {},
     "output_type": "execute_result"
    }
   ],
   "source": [
    "np.zeros(10,dtype=int)"
   ]
  },
  {
   "cell_type": "code",
   "execution_count": 58,
   "id": "3a4ffcc6-c3f6-4b0d-ba8d-1802c4714e60",
   "metadata": {},
   "outputs": [
    {
     "data": {
      "text/plain": [
       "array([1., 1., 1.])"
      ]
     },
     "execution_count": 58,
     "metadata": {},
     "output_type": "execute_result"
    }
   ],
   "source": [
    "np.ones(3)"
   ]
  },
  {
   "cell_type": "code",
   "execution_count": 59,
   "id": "77e1a175-3200-41a0-89d2-f26d3a92e16f",
   "metadata": {},
   "outputs": [
    {
     "data": {
      "text/plain": [
       "array([1, 1, 1, 1, 1, 1])"
      ]
     },
     "execution_count": 59,
     "metadata": {},
     "output_type": "execute_result"
    }
   ],
   "source": [
    "np.ones(6,dtype=int)"
   ]
  },
  {
   "cell_type": "code",
   "execution_count": 61,
   "id": "40fca8f6-31fc-4213-a0ec-f0b29f2bf0e0",
   "metadata": {},
   "outputs": [
    {
     "ename": "NameError",
     "evalue": "name 'renu' is not defined",
     "output_type": "error",
     "traceback": [
      "\u001b[1;31m---------------------------------------------------------------------------\u001b[0m",
      "\u001b[1;31mNameError\u001b[0m                                 Traceback (most recent call last)",
      "Cell \u001b[1;32mIn[61], line 1\u001b[0m\n\u001b[1;32m----> 1\u001b[0m np\u001b[38;5;241m.\u001b[39mones(renu,dtype\u001b[38;5;241m=\u001b[39mstring)\n",
      "\u001b[1;31mNameError\u001b[0m: name 'renu' is not defined"
     ]
    }
   ],
   "source": [
    "###np.ones(renu,dtype=string)"
   ]
  },
  {
   "cell_type": "code",
   "execution_count": 62,
   "id": "8e1fb1b4-4b57-40a3-9b16-8a90a0ce9ce1",
   "metadata": {},
   "outputs": [
    {
     "ename": "NameError",
     "evalue": "name 'rand' is not defined",
     "output_type": "error",
     "traceback": [
      "\u001b[1;31m---------------------------------------------------------------------------\u001b[0m",
      "\u001b[1;31mNameError\u001b[0m                                 Traceback (most recent call last)",
      "Cell \u001b[1;32mIn[62], line 1\u001b[0m\n\u001b[1;32m----> 1\u001b[0m rand(\u001b[38;5;241m3\u001b[39m,\u001b[38;5;241m2\u001b[39m)\n",
      "\u001b[1;31mNameError\u001b[0m: name 'rand' is not defined"
     ]
    }
   ],
   "source": [
    " rand(3,2)"
   ]
  },
  {
   "cell_type": "code",
   "execution_count": 63,
   "id": "29c0bf3f-df20-49fa-b4eb-9d8c3600cce8",
   "metadata": {},
   "outputs": [
    {
     "data": {
      "text/plain": [
       "array([0.62561929, 0.94647721, 0.94060678, 0.60362107])"
      ]
     },
     "execution_count": 63,
     "metadata": {},
     "output_type": "execute_result"
    }
   ],
   "source": [
    "np.random.rand(4)"
   ]
  },
  {
   "cell_type": "code",
   "execution_count": 66,
   "id": "e7bf186d-dec9-45d9-b2c1-9472df7e22e4",
   "metadata": {},
   "outputs": [
    {
     "ename": "TypeError",
     "evalue": "rand() got an unexpected keyword argument 'dtype'",
     "output_type": "error",
     "traceback": [
      "\u001b[1;31m---------------------------------------------------------------------------\u001b[0m",
      "\u001b[1;31mTypeError\u001b[0m                                 Traceback (most recent call last)",
      "Cell \u001b[1;32mIn[66], line 1\u001b[0m\n\u001b[1;32m----> 1\u001b[0m np\u001b[38;5;241m.\u001b[39mrandom\u001b[38;5;241m.\u001b[39mrand(\u001b[38;5;241m4\u001b[39m,dtype\u001b[38;5;241m=\u001b[39m\u001b[38;5;28mint\u001b[39m)\n",
      "\u001b[1;31mTypeError\u001b[0m: rand() got an unexpected keyword argument 'dtype'"
     ]
    }
   ],
   "source": [
    "np.random.rand(4,dtype=int)"
   ]
  },
  {
   "cell_type": "code",
   "execution_count": 67,
   "id": "d7ed38d6-f19b-4242-85a5-d402a39415b2",
   "metadata": {},
   "outputs": [
    {
     "data": {
      "text/plain": [
       "array([[0.86469974, 0.05721204, 0.91079722],\n",
       "       [0.20055839, 0.340491  , 0.23747349],\n",
       "       [0.84855648, 0.82883505, 0.73162199],\n",
       "       [0.67898928, 0.05366355, 0.13577264]])"
      ]
     },
     "execution_count": 67,
     "metadata": {},
     "output_type": "execute_result"
    }
   ],
   "source": [
    "np.random.rand(4,3)"
   ]
  },
  {
   "cell_type": "code",
   "execution_count": 71,
   "id": "9315a6e1-3d8f-4f52-ae71-5b799ba3d9ec",
   "metadata": {},
   "outputs": [
    {
     "data": {
      "text/plain": [
       "1"
      ]
     },
     "execution_count": 71,
     "metadata": {},
     "output_type": "execute_result"
    }
   ],
   "source": [
    "np.random.randint(3)"
   ]
  },
  {
   "cell_type": "code",
   "execution_count": 77,
   "id": "e6cf1655-3f61-4b0f-a028-aa195824ebcc",
   "metadata": {},
   "outputs": [
    {
     "data": {
      "text/plain": [
       "array([12, 14, 18, 18,  3])"
      ]
     },
     "execution_count": 77,
     "metadata": {},
     "output_type": "execute_result"
    }
   ],
   "source": [
    "np.random.randint(3,20,5)"
   ]
  },
  {
   "cell_type": "code",
   "execution_count": 81,
   "id": "3304807d-ecc2-4cce-96aa-a4de23639dda",
   "metadata": {},
   "outputs": [
    {
     "data": {
      "text/plain": [
       "array([[143, 252, 177,  74, 128,  79, 192, 205,  16, 145, 172, 217, 271,\n",
       "        182, 218,  68, 113, 292,  23, 146, 162, 279, 232,  53, 180,  14,\n",
       "        266, 117, 289, 243,  78, 263,  19, 216,  50, 180, 253, 143, 183,\n",
       "        191, 164,  92, 122,  60, 212, 204, 152,  80, 188, 122],\n",
       "       [ 59, 226,  16, 176,  32, 220, 179, 295, 292,  29, 151, 173,  65,\n",
       "        111, 185, 146,  90, 200,  58, 138, 215,  99,  97, 136, 151, 125,\n",
       "        147, 174, 254, 110, 135, 238, 199, 223, 254, 119, 119, 282, 116,\n",
       "        271, 135, 175,  57,  19,  28, 127, 232, 115, 157,  37],\n",
       "       [ 26, 298, 121, 123,  54,  33, 286, 104, 215,  54,  31, 267, 191,\n",
       "        162, 295, 146, 237, 142,  81, 282, 141, 144, 293, 297,  17, 231,\n",
       "        105, 102, 131, 166, 189, 243,  82, 120, 161, 144,  20, 207, 131,\n",
       "         22, 147,  27, 223,  56, 261, 239,  38, 234,  98, 220],\n",
       "       [157, 251,  43, 231, 166, 131, 195, 142,  59, 119,  65, 243, 258,\n",
       "        224, 283, 219,  86, 166,  90, 111, 264, 170, 135, 111, 140, 285,\n",
       "         10, 134, 183, 118, 198, 216, 211, 165, 186, 132, 283,  13, 292,\n",
       "         89, 117, 236,  45, 252,  99, 222, 196, 229,  34, 271],\n",
       "       [232,  48, 258, 230, 296, 131, 234, 152,  55, 205,  41, 255, 164,\n",
       "        189, 177, 173, 259, 126, 102, 116, 280, 296, 169,  35,  30, 181,\n",
       "        132, 198, 188, 255, 114,  16, 237,  58,  50,  41,  68,  61, 159,\n",
       "        290,  91, 205, 139,  99, 195, 138, 289,  75, 151,  98],\n",
       "       [295,  72,  59, 124,  52, 207,  76, 198, 219, 244,  63, 290, 107,\n",
       "        266, 114,  31, 287, 239, 207, 190, 108, 191, 192,  15, 198, 217,\n",
       "        104,  80, 216, 172, 188, 262,  84,  64,  82,  40, 179,  45, 196,\n",
       "        107,  52, 291, 273, 229, 147, 121,  69, 255, 261,  87],\n",
       "       [ 41, 145,  94, 188, 135, 248,  49, 132,  98,  93, 247, 157,  26,\n",
       "         98, 187,  92,  32, 191, 158, 106,  59, 159, 262, 187,  92, 172,\n",
       "        198,  24, 238, 267, 236, 156,  57, 210, 206,  61, 129, 239,  65,\n",
       "        126, 129, 210, 141,  75, 113, 100, 120,  66, 170, 228],\n",
       "       [176, 220, 259,  84,  87,  43, 165, 105, 250,  44,  31,  85,  72,\n",
       "        273, 162, 192, 293, 287, 230, 250,  38,  55, 221, 218, 222,  52,\n",
       "        190, 100,  94,  46, 196, 160, 239, 179, 164,  65, 257, 225, 159,\n",
       "         61, 282, 198, 239, 238,  42, 224, 104,  95, 223, 253],\n",
       "       [213, 296, 196, 278, 255, 200, 103, 145, 196, 253,  86, 166,  41,\n",
       "        233, 291, 127, 241, 195,  99, 196, 218, 284, 140,  88,  87, 139,\n",
       "        140, 185, 247,  34, 264,  13,  44, 168, 278, 297, 230, 101,  43,\n",
       "         39, 105, 159, 240, 154,  70, 135, 254, 221, 250, 222],\n",
       "       [ 82, 121, 273, 134, 151, 173, 279, 259, 235, 262, 153, 130, 117,\n",
       "         41, 106, 138, 244,  86, 221,  64,  23, 260,  44, 208, 144, 151,\n",
       "         83,  77,  79, 257, 179,  17,  82, 136, 230, 224, 236, 161, 189,\n",
       "         13,  29,  45, 272, 138,  27,  65, 102,  84, 133,  23]])"
      ]
     },
     "execution_count": 81,
     "metadata": {},
     "output_type": "execute_result"
    }
   ],
   "source": [
    "np.random.randint(10,300,(10,50))"
   ]
  },
  {
   "cell_type": "code",
   "execution_count": 82,
   "id": "52c3dcad-770a-4f51-99d4-6a721f583cc4",
   "metadata": {},
   "outputs": [
    {
     "data": {
      "text/plain": [
       "array([1, 2, 3, 4, 5, 6])"
      ]
     },
     "execution_count": 82,
     "metadata": {},
     "output_type": "execute_result"
    }
   ],
   "source": [
    "arr"
   ]
  },
  {
   "cell_type": "code",
   "execution_count": null,
   "id": "d00ee457-5e36-4cc4-8e5b-85c5f640eed4",
   "metadata": {},
   "outputs": [],
   "source": []
  },
  {
   "cell_type": "code",
   "execution_count": 83,
   "id": "12615b82-9614-4886-9799-db99c9e9bb14",
   "metadata": {},
   "outputs": [
    {
     "data": {
      "text/plain": [
       "array([[1],\n",
       "       [2],\n",
       "       [3],\n",
       "       [4],\n",
       "       [5],\n",
       "       [6]])"
      ]
     },
     "execution_count": 83,
     "metadata": {},
     "output_type": "execute_result"
    }
   ],
   "source": [
    "arr.reshape(6,1)"
   ]
  },
  {
   "cell_type": "code",
   "execution_count": 84,
   "id": "217e673f-3571-4c33-9e95-10629951d77d",
   "metadata": {},
   "outputs": [
    {
     "ename": "ValueError",
     "evalue": "cannot reshape array of size 6 into shape (3,3)",
     "output_type": "error",
     "traceback": [
      "\u001b[1;31m---------------------------------------------------------------------------\u001b[0m",
      "\u001b[1;31mValueError\u001b[0m                                Traceback (most recent call last)",
      "Cell \u001b[1;32mIn[84], line 1\u001b[0m\n\u001b[1;32m----> 1\u001b[0m arr\u001b[38;5;241m.\u001b[39mreshape(\u001b[38;5;241m3\u001b[39m,\u001b[38;5;241m3\u001b[39m)\n",
      "\u001b[1;31mValueError\u001b[0m: cannot reshape array of size 6 into shape (3,3)"
     ]
    }
   ],
   "source": [
    "arr.reshape(3,3)"
   ]
  },
  {
   "cell_type": "code",
   "execution_count": 85,
   "id": "131f3411-9588-49ef-8c63-810c45cac995",
   "metadata": {},
   "outputs": [
    {
     "data": {
      "text/plain": [
       "array([[1],\n",
       "       [2],\n",
       "       [3],\n",
       "       [4],\n",
       "       [5],\n",
       "       [6]])"
      ]
     },
     "execution_count": 85,
     "metadata": {},
     "output_type": "execute_result"
    }
   ],
   "source": [
    "arr.reshape(6,1)\n"
   ]
  },
  {
   "cell_type": "code",
   "execution_count": 86,
   "id": "163da746-30e9-4a86-ba5a-fdd0c8fdfbeb",
   "metadata": {},
   "outputs": [],
   "source": [
    "arr=(1,2,3,4,5,6,7,8,9)"
   ]
  },
  {
   "cell_type": "code",
   "execution_count": 87,
   "id": "b02b73a7-3c3c-45d4-82a8-236cb38d2397",
   "metadata": {},
   "outputs": [
    {
     "data": {
      "text/plain": [
       "(1, 2, 3, 4, 5, 6, 7, 8, 9)"
      ]
     },
     "execution_count": 87,
     "metadata": {},
     "output_type": "execute_result"
    }
   ],
   "source": [
    "arr"
   ]
  },
  {
   "cell_type": "code",
   "execution_count": 88,
   "id": "c5ba8a9e-38f2-495f-a935-eada434f117b",
   "metadata": {},
   "outputs": [],
   "source": [
    "arr=[1,2,3,4,5,6,7,8,9]"
   ]
  },
  {
   "cell_type": "code",
   "execution_count": 89,
   "id": "8b626193-1fe3-4a76-bbd0-69f26929950c",
   "metadata": {},
   "outputs": [
    {
     "data": {
      "text/plain": [
       "[1, 2, 3, 4, 5, 6, 7, 8, 9]"
      ]
     },
     "execution_count": 89,
     "metadata": {},
     "output_type": "execute_result"
    }
   ],
   "source": [
    "arr"
   ]
  },
  {
   "cell_type": "code",
   "execution_count": 90,
   "id": "e86ae8e6-0edd-4ce7-b8fd-48dc9a1b81f6",
   "metadata": {},
   "outputs": [
    {
     "ename": "ValueError",
     "evalue": "cannot reshape array of size 1 into shape (3,)",
     "output_type": "error",
     "traceback": [
      "\u001b[1;31m---------------------------------------------------------------------------\u001b[0m",
      "\u001b[1;31mValueError\u001b[0m                                Traceback (most recent call last)",
      "Cell \u001b[1;32mIn[90], line 1\u001b[0m\n\u001b[1;32m----> 1\u001b[0m np\u001b[38;5;241m.\u001b[39mreshape(\u001b[38;5;241m3\u001b[39m,\u001b[38;5;241m3\u001b[39m)\n",
      "File \u001b[1;32m~\\anaconda3\\Lib\\site-packages\\numpy\\core\\fromnumeric.py:285\u001b[0m, in \u001b[0;36mreshape\u001b[1;34m(a, newshape, order)\u001b[0m\n\u001b[0;32m    200\u001b[0m \u001b[38;5;129m@array_function_dispatch\u001b[39m(_reshape_dispatcher)\n\u001b[0;32m    201\u001b[0m \u001b[38;5;28;01mdef\u001b[39;00m \u001b[38;5;21mreshape\u001b[39m(a, newshape, order\u001b[38;5;241m=\u001b[39m\u001b[38;5;124m'\u001b[39m\u001b[38;5;124mC\u001b[39m\u001b[38;5;124m'\u001b[39m):\n\u001b[0;32m    202\u001b[0m \u001b[38;5;250m    \u001b[39m\u001b[38;5;124;03m\"\"\"\u001b[39;00m\n\u001b[0;32m    203\u001b[0m \u001b[38;5;124;03m    Gives a new shape to an array without changing its data.\u001b[39;00m\n\u001b[0;32m    204\u001b[0m \n\u001b[1;32m   (...)\u001b[0m\n\u001b[0;32m    283\u001b[0m \u001b[38;5;124;03m           [5, 6]])\u001b[39;00m\n\u001b[0;32m    284\u001b[0m \u001b[38;5;124;03m    \"\"\"\u001b[39;00m\n\u001b[1;32m--> 285\u001b[0m     \u001b[38;5;28;01mreturn\u001b[39;00m _wrapfunc(a, \u001b[38;5;124m'\u001b[39m\u001b[38;5;124mreshape\u001b[39m\u001b[38;5;124m'\u001b[39m, newshape, order\u001b[38;5;241m=\u001b[39morder)\n",
      "File \u001b[1;32m~\\anaconda3\\Lib\\site-packages\\numpy\\core\\fromnumeric.py:56\u001b[0m, in \u001b[0;36m_wrapfunc\u001b[1;34m(obj, method, *args, **kwds)\u001b[0m\n\u001b[0;32m     54\u001b[0m bound \u001b[38;5;241m=\u001b[39m \u001b[38;5;28mgetattr\u001b[39m(obj, method, \u001b[38;5;28;01mNone\u001b[39;00m)\n\u001b[0;32m     55\u001b[0m \u001b[38;5;28;01mif\u001b[39;00m bound \u001b[38;5;129;01mis\u001b[39;00m \u001b[38;5;28;01mNone\u001b[39;00m:\n\u001b[1;32m---> 56\u001b[0m     \u001b[38;5;28;01mreturn\u001b[39;00m _wrapit(obj, method, \u001b[38;5;241m*\u001b[39margs, \u001b[38;5;241m*\u001b[39m\u001b[38;5;241m*\u001b[39mkwds)\n\u001b[0;32m     58\u001b[0m \u001b[38;5;28;01mtry\u001b[39;00m:\n\u001b[0;32m     59\u001b[0m     \u001b[38;5;28;01mreturn\u001b[39;00m bound(\u001b[38;5;241m*\u001b[39margs, \u001b[38;5;241m*\u001b[39m\u001b[38;5;241m*\u001b[39mkwds)\n",
      "File \u001b[1;32m~\\anaconda3\\Lib\\site-packages\\numpy\\core\\fromnumeric.py:45\u001b[0m, in \u001b[0;36m_wrapit\u001b[1;34m(obj, method, *args, **kwds)\u001b[0m\n\u001b[0;32m     43\u001b[0m \u001b[38;5;28;01mexcept\u001b[39;00m \u001b[38;5;167;01mAttributeError\u001b[39;00m:\n\u001b[0;32m     44\u001b[0m     wrap \u001b[38;5;241m=\u001b[39m \u001b[38;5;28;01mNone\u001b[39;00m\n\u001b[1;32m---> 45\u001b[0m result \u001b[38;5;241m=\u001b[39m \u001b[38;5;28mgetattr\u001b[39m(asarray(obj), method)(\u001b[38;5;241m*\u001b[39margs, \u001b[38;5;241m*\u001b[39m\u001b[38;5;241m*\u001b[39mkwds)\n\u001b[0;32m     46\u001b[0m \u001b[38;5;28;01mif\u001b[39;00m wrap:\n\u001b[0;32m     47\u001b[0m     \u001b[38;5;28;01mif\u001b[39;00m \u001b[38;5;129;01mnot\u001b[39;00m \u001b[38;5;28misinstance\u001b[39m(result, mu\u001b[38;5;241m.\u001b[39mndarray):\n",
      "\u001b[1;31mValueError\u001b[0m: cannot reshape array of size 1 into shape (3,)"
     ]
    }
   ],
   "source": [
    "np.reshape(3,3)"
   ]
  },
  {
   "cell_type": "code",
   "execution_count": 91,
   "id": "77790c18-a7cb-4ea2-964b-dbae6164f853",
   "metadata": {},
   "outputs": [],
   "source": [
    "arr1 = np.array(arr)"
   ]
  },
  {
   "cell_type": "code",
   "execution_count": 92,
   "id": "18e157b9-efe3-4cb6-b1ba-c56887ac7b53",
   "metadata": {},
   "outputs": [
    {
     "data": {
      "text/plain": [
       "array([1, 2, 3, 4, 5, 6, 7, 8, 9])"
      ]
     },
     "execution_count": 92,
     "metadata": {},
     "output_type": "execute_result"
    }
   ],
   "source": [
    "arr1"
   ]
  },
  {
   "cell_type": "code",
   "execution_count": 93,
   "id": "f562597b-f881-4a91-9487-af91a78f2c91",
   "metadata": {},
   "outputs": [
    {
     "data": {
      "text/plain": [
       "array([[1, 2, 3],\n",
       "       [4, 5, 6],\n",
       "       [7, 8, 9]])"
      ]
     },
     "execution_count": 93,
     "metadata": {},
     "output_type": "execute_result"
    }
   ],
   "source": [
    "arr1.reshape(3,3)"
   ]
  },
  {
   "cell_type": "code",
   "execution_count": 94,
   "id": "1a8b2544-50fd-40ce-9321-a2a2770feb41",
   "metadata": {},
   "outputs": [
    {
     "ename": "AttributeError",
     "evalue": "module 'numpy.random' has no attribute 'randomint'",
     "output_type": "error",
     "traceback": [
      "\u001b[1;31m---------------------------------------------------------------------------\u001b[0m",
      "\u001b[1;31mAttributeError\u001b[0m                            Traceback (most recent call last)",
      "Cell \u001b[1;32mIn[94], line 1\u001b[0m\n\u001b[1;32m----> 1\u001b[0m b\u001b[38;5;241m=\u001b[39mnp\u001b[38;5;241m.\u001b[39mrandom\u001b[38;5;241m.\u001b[39mrandomint(\u001b[38;5;241m4\u001b[39m,\u001b[38;5;241m10\u001b[39m,(\u001b[38;5;241m2\u001b[39m,\u001b[38;5;241m3\u001b[39m))\n",
      "\u001b[1;31mAttributeError\u001b[0m: module 'numpy.random' has no attribute 'randomint'"
     ]
    }
   ],
   "source": [
    "b=np.random.randomint(4,10,(2,3))"
   ]
  },
  {
   "cell_type": "code",
   "execution_count": 95,
   "id": "a00b008a-3fc4-4154-90cd-84b62ede305c",
   "metadata": {},
   "outputs": [
    {
     "ename": "AttributeError",
     "evalue": "module 'numpy.random' has no attribute 'randomint'",
     "output_type": "error",
     "traceback": [
      "\u001b[1;31m---------------------------------------------------------------------------\u001b[0m",
      "\u001b[1;31mAttributeError\u001b[0m                            Traceback (most recent call last)",
      "Cell \u001b[1;32mIn[95], line 1\u001b[0m\n\u001b[1;32m----> 1\u001b[0m b \u001b[38;5;241m=\u001b[39m np\u001b[38;5;241m.\u001b[39mrandom\u001b[38;5;241m.\u001b[39mrandomint(\u001b[38;5;241m10\u001b[39m,\u001b[38;5;241m20\u001b[39m,(\u001b[38;5;241m5\u001b[39m,\u001b[38;5;241m4\u001b[39m))\n",
      "\u001b[1;31mAttributeError\u001b[0m: module 'numpy.random' has no attribute 'randomint'"
     ]
    }
   ],
   "source": [
    "b = np.random.randomint(10,20,(5,4))"
   ]
  },
  {
   "cell_type": "code",
   "execution_count": 96,
   "id": "754fa3ec-430b-4c0b-aaaf-2f17f5d2aa9c",
   "metadata": {},
   "outputs": [],
   "source": [
    "b=np.random.randint(10,20,(5,4))"
   ]
  },
  {
   "cell_type": "code",
   "execution_count": 97,
   "id": "464fd1f8-2305-4bc8-9229-8dcddb4844ea",
   "metadata": {},
   "outputs": [
    {
     "data": {
      "text/plain": [
       "array([[16, 12, 11, 18],\n",
       "       [16, 13, 11, 13],\n",
       "       [11, 19, 12, 12],\n",
       "       [16, 18, 14, 14],\n",
       "       [14, 13, 10, 14]])"
      ]
     },
     "execution_count": 97,
     "metadata": {},
     "output_type": "execute_result"
    }
   ],
   "source": [
    "b"
   ]
  },
  {
   "cell_type": "code",
   "execution_count": 98,
   "id": "6abb1059-2939-494f-9cd8-3e79b27f9643",
   "metadata": {},
   "outputs": [
    {
     "ename": "IndexError",
     "evalue": "index 4 is out of bounds for axis 1 with size 4",
     "output_type": "error",
     "traceback": [
      "\u001b[1;31m---------------------------------------------------------------------------\u001b[0m",
      "\u001b[1;31mIndexError\u001b[0m                                Traceback (most recent call last)",
      "Cell \u001b[1;32mIn[98], line 1\u001b[0m\n\u001b[1;32m----> 1\u001b[0m b[\u001b[38;5;241m4\u001b[39m,\u001b[38;5;241m4\u001b[39m]\n",
      "\u001b[1;31mIndexError\u001b[0m: index 4 is out of bounds for axis 1 with size 4"
     ]
    }
   ],
   "source": [
    "b[4,4]"
   ]
  },
  {
   "cell_type": "code",
   "execution_count": 99,
   "id": "361fd2ab-6a98-4989-9eff-cda3f33b80d1",
   "metadata": {},
   "outputs": [
    {
     "data": {
      "text/plain": [
       "array([], shape=(0, 4), dtype=int32)"
      ]
     },
     "execution_count": 99,
     "metadata": {},
     "output_type": "execute_result"
    }
   ],
   "source": [
    "b[4:4]\n"
   ]
  },
  {
   "cell_type": "code",
   "execution_count": 100,
   "id": "c6960664-1fa4-473a-87a7-e03075c36e50",
   "metadata": {},
   "outputs": [
    {
     "data": {
      "text/plain": [
       "array([[11, 19, 12, 12]])"
      ]
     },
     "execution_count": 100,
     "metadata": {},
     "output_type": "execute_result"
    }
   ],
   "source": [
    "b[2:3]"
   ]
  },
  {
   "cell_type": "code",
   "execution_count": 101,
   "id": "92fc1bd1-636c-4ebb-b4d1-1ceabaa39331",
   "metadata": {},
   "outputs": [
    {
     "data": {
      "text/plain": [
       "array([], shape=(0, 4), dtype=int32)"
      ]
     },
     "execution_count": 101,
     "metadata": {},
     "output_type": "execute_result"
    }
   ],
   "source": [
    "b[2:2]"
   ]
  },
  {
   "cell_type": "code",
   "execution_count": 102,
   "id": "91dd92c3-7dbb-4766-8bb3-79d7d14e0e4a",
   "metadata": {},
   "outputs": [
    {
     "data": {
      "text/plain": [
       "array([[16, 13, 11, 13]])"
      ]
     },
     "execution_count": 102,
     "metadata": {},
     "output_type": "execute_result"
    }
   ],
   "source": [
    "b[1:2]"
   ]
  },
  {
   "cell_type": "code",
   "execution_count": 103,
   "id": "2ee48ae3-d3cc-4fa8-b989-b50964b56c44",
   "metadata": {},
   "outputs": [
    {
     "data": {
      "text/plain": [
       "array([[16, 13, 11, 13],\n",
       "       [11, 19, 12, 12],\n",
       "       [16, 18, 14, 14],\n",
       "       [14, 13, 10, 14]])"
      ]
     },
     "execution_count": 103,
     "metadata": {},
     "output_type": "execute_result"
    }
   ],
   "source": [
    "b[1:]"
   ]
  },
  {
   "cell_type": "code",
   "execution_count": 104,
   "id": "dfc2b4db-296e-4b2c-91d8-73cea201d52a",
   "metadata": {},
   "outputs": [
    {
     "data": {
      "text/plain": [
       "array([[16, 13, 11, 13],\n",
       "       [11, 19, 12, 12],\n",
       "       [16, 18, 14, 14]])"
      ]
     },
     "execution_count": 104,
     "metadata": {},
     "output_type": "execute_result"
    }
   ],
   "source": [
    "b[1:4]"
   ]
  },
  {
   "cell_type": "code",
   "execution_count": null,
   "id": "39729f57-c9e8-4c56-946b-db52debe6b44",
   "metadata": {},
   "outputs": [],
   "source": []
  },
  {
   "cell_type": "code",
   "execution_count": 8,
   "id": "dc2706ed-a681-46d3-9d78-a305be9d00b5",
   "metadata": {},
   "outputs": [
    {
     "ename": "NameError",
     "evalue": "name 'b' is not defined",
     "output_type": "error",
     "traceback": [
      "\u001b[1;31m---------------------------------------------------------------------------\u001b[0m",
      "\u001b[1;31mNameError\u001b[0m                                 Traceback (most recent call last)",
      "Cell \u001b[1;32mIn[8], line 1\u001b[0m\n\u001b[1;32m----> 1\u001b[0m b\n",
      "\u001b[1;31mNameError\u001b[0m: name 'b' is not defined"
     ]
    }
   ],
   "source": [
    "b\n"
   ]
  },
  {
   "cell_type": "code",
   "execution_count": 106,
   "id": "9de92a96-047e-4b8a-86e8-0d1bd2609092",
   "metadata": {},
   "outputs": [
    {
     "data": {
      "text/plain": [
       "array([[11, 19, 12, 12],\n",
       "       [16, 18, 14, 14]])"
      ]
     },
     "execution_count": 106,
     "metadata": {},
     "output_type": "execute_result"
    }
   ],
   "source": [
    "b[2:4]"
   ]
  },
  {
   "cell_type": "code",
   "execution_count": null,
   "id": "d8bcf933-ee3c-44f2-8e65-60fc163f9f7e",
   "metadata": {},
   "outputs": [],
   "source": [
    "#### Difference between slicing and Come --> Slicing will give entire Row \n",
    "## when you put come , it will vgive specific number like below\n"
   ]
  },
  {
   "cell_type": "code",
   "execution_count": null,
   "id": "b637672e-f9d6-47b0-ad59-fec1e260db30",
   "metadata": {},
   "outputs": [],
   "source": [
    "### same example we wil take now "
   ]
  },
  {
   "cell_type": "code",
   "execution_count": 4,
   "id": "de3ae137-2ec6-434d-8c1e-17970953c376",
   "metadata": {},
   "outputs": [
    {
     "ename": "NameError",
     "evalue": "name 'np' is not defined",
     "output_type": "error",
     "traceback": [
      "\u001b[1;31m---------------------------------------------------------------------------\u001b[0m",
      "\u001b[1;31mNameError\u001b[0m                                 Traceback (most recent call last)",
      "Cell \u001b[1;32mIn[4], line 1\u001b[0m\n\u001b[1;32m----> 1\u001b[0m a\u001b[38;5;241m=\u001b[39mnp\u001b[38;5;241m.\u001b[39mrandom\u001b[38;5;241m.\u001b[39mrandint(\u001b[38;5;241m10\u001b[39m,\u001b[38;5;241m20\u001b[39m,(\u001b[38;5;241m5\u001b[39m,\u001b[38;5;241m4\u001b[39m))\n",
      "\u001b[1;31mNameError\u001b[0m: name 'np' is not defined"
     ]
    }
   ],
   "source": [
    "a=np.random.randint(10,20,(5,4))"
   ]
  },
  {
   "cell_type": "code",
   "execution_count": 6,
   "id": "ac275a05-3132-49b7-bc94-a68b214badcb",
   "metadata": {},
   "outputs": [
    {
     "ename": "NameError",
     "evalue": "name 'b' is not defined",
     "output_type": "error",
     "traceback": [
      "\u001b[1;31m---------------------------------------------------------------------------\u001b[0m",
      "\u001b[1;31mNameError\u001b[0m                                 Traceback (most recent call last)",
      "Cell \u001b[1;32mIn[6], line 1\u001b[0m\n\u001b[1;32m----> 1\u001b[0m \u001b[38;5;28mprint\u001b[39m(b)\n",
      "\u001b[1;31mNameError\u001b[0m: name 'b' is not defined"
     ]
    }
   ],
   "source": [
    "print(b)"
   ]
  },
  {
   "cell_type": "code",
   "execution_count": 9,
   "id": "cf010894-dc14-4c62-b5fa-ff78792c3194",
   "metadata": {},
   "outputs": [
    {
     "ename": "NameError",
     "evalue": "name 'np' is not defined",
     "output_type": "error",
     "traceback": [
      "\u001b[1;31m---------------------------------------------------------------------------\u001b[0m",
      "\u001b[1;31mNameError\u001b[0m                                 Traceback (most recent call last)",
      "Cell \u001b[1;32mIn[9], line 1\u001b[0m\n\u001b[1;32m----> 1\u001b[0m a\u001b[38;5;241m=\u001b[39mnp\u001b[38;5;241m.\u001b[39mrandom\u001b[38;5;241m.\u001b[39mrandint(\u001b[38;5;241m10\u001b[39m,\u001b[38;5;241m20\u001b[39m,(\u001b[38;5;241m5\u001b[39m,\u001b[38;5;241m4\u001b[39m))\n",
      "\u001b[1;31mNameError\u001b[0m: name 'np' is not defined"
     ]
    }
   ],
   "source": [
    "a=np.random.randint(10,20,(5,4))"
   ]
  },
  {
   "cell_type": "code",
   "execution_count": 13,
   "id": "b1e823cb-295b-4ee1-b25b-7765690923e9",
   "metadata": {},
   "outputs": [],
   "source": [
    "import numpy as np"
   ]
  },
  {
   "cell_type": "code",
   "execution_count": 14,
   "id": "fa1818d8-8cac-43df-b420-e290d113bd17",
   "metadata": {},
   "outputs": [],
   "source": [
    "a=np.random.randint(10,20,(5,4))"
   ]
  },
  {
   "cell_type": "code",
   "execution_count": 15,
   "id": "6559b6a5-193d-4d23-9841-a79152bb704e",
   "metadata": {},
   "outputs": [
    {
     "data": {
      "text/plain": [
       "array([[13, 15, 16, 15],\n",
       "       [19, 11, 18, 10],\n",
       "       [13, 19, 19, 15],\n",
       "       [12, 15, 10, 11],\n",
       "       [13, 10, 19, 10]])"
      ]
     },
     "execution_count": 15,
     "metadata": {},
     "output_type": "execute_result"
    }
   ],
   "source": [
    "a"
   ]
  },
  {
   "cell_type": "code",
   "execution_count": 16,
   "id": "0c2dab25-92c6-482f-8899-89c5f8b733da",
   "metadata": {},
   "outputs": [
    {
     "data": {
      "text/plain": [
       "18"
      ]
     },
     "execution_count": 16,
     "metadata": {},
     "output_type": "execute_result"
    }
   ],
   "source": [
    "a[1,2]"
   ]
  },
  {
   "cell_type": "code",
   "execution_count": null,
   "id": "647ce7b5-99a0-4bcc-b467-fcc68617c0b8",
   "metadata": {},
   "outputs": [],
   "source": [
    "### slicing gives you complete row , and coma gives you specific value"
   ]
  },
  {
   "cell_type": "code",
   "execution_count": 17,
   "id": "6be17d5b-d872-42d7-8a26-d3289ab8e811",
   "metadata": {},
   "outputs": [
    {
     "data": {
      "text/plain": [
       "10"
      ]
     },
     "execution_count": 17,
     "metadata": {},
     "output_type": "execute_result"
    }
   ],
   "source": [
    "a[1,-1]"
   ]
  },
  {
   "cell_type": "code",
   "execution_count": 18,
   "id": "09a48413-8db2-42e3-88bd-88de3f6a7904",
   "metadata": {},
   "outputs": [
    {
     "data": {
      "text/plain": [
       "18"
      ]
     },
     "execution_count": 18,
     "metadata": {},
     "output_type": "execute_result"
    }
   ],
   "source": [
    "a[1,-2]"
   ]
  },
  {
   "cell_type": "code",
   "execution_count": null,
   "id": "a86b5a84-7fc2-4446-8728-a3d37a62a2c6",
   "metadata": {},
   "outputs": [],
   "source": []
  },
  {
   "cell_type": "code",
   "execution_count": null,
   "id": "b15b448d-6785-418a-8894-4255d7b8707e",
   "metadata": {},
   "outputs": [],
   "source": []
  },
  {
   "cell_type": "code",
   "execution_count": null,
   "id": "1a72b395-d9b2-405f-853a-bbd384247f87",
   "metadata": {},
   "outputs": [],
   "source": []
  },
  {
   "cell_type": "code",
   "execution_count": null,
   "id": "0e2ab5cd-7025-452c-9413-1c86d0e29d05",
   "metadata": {},
   "outputs": [],
   "source": []
  },
  {
   "cell_type": "code",
   "execution_count": null,
   "id": "36d6e683-6070-4314-9623-96d458d153be",
   "metadata": {},
   "outputs": [],
   "source": []
  },
  {
   "cell_type": "code",
   "execution_count": null,
   "id": "77014662-8d2f-443f-91c8-88580fec2eca",
   "metadata": {},
   "outputs": [],
   "source": []
  },
  {
   "cell_type": "code",
   "execution_count": null,
   "id": "e3208185-0e1a-4d9b-ab4b-4fa8619bdfb8",
   "metadata": {},
   "outputs": [],
   "source": []
  },
  {
   "cell_type": "code",
   "execution_count": null,
   "id": "e476aeec-3daf-483a-abd8-120b52292d43",
   "metadata": {},
   "outputs": [],
   "source": []
  },
  {
   "cell_type": "code",
   "execution_count": null,
   "id": "daccc2ef-49ee-4299-9081-a93b137728c8",
   "metadata": {},
   "outputs": [],
   "source": []
  },
  {
   "cell_type": "code",
   "execution_count": null,
   "id": "f896b999-c712-4d52-860a-cbbcc00ed9ef",
   "metadata": {},
   "outputs": [],
   "source": []
  }
 ],
 "metadata": {
  "kernelspec": {
   "display_name": "Python [conda env:base] *",
   "language": "python",
   "name": "conda-base-py"
  },
  "language_info": {
   "codemirror_mode": {
    "name": "ipython",
    "version": 3
   },
   "file_extension": ".py",
   "mimetype": "text/x-python",
   "name": "python",
   "nbconvert_exporter": "python",
   "pygments_lexer": "ipython3",
   "version": "3.12.7"
  }
 },
 "nbformat": 4,
 "nbformat_minor": 5
}
