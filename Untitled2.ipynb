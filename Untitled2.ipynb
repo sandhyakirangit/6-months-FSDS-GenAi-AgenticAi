{
 "cells": [
  {
   "cell_type": "code",
   "execution_count": null,
   "id": "488f00ce-a8b5-486a-b983-83f2610b3720",
   "metadata": {},
   "outputs": [],
   "source": [
    "### TUPLE "
   ]
  },
  {
   "cell_type": "code",
   "execution_count": 2,
   "id": "a33a8e02-16b0-49c5-862e-3e5c5a2ea110",
   "metadata": {},
   "outputs": [
    {
     "data": {
      "text/plain": [
       "('alex', 123456, 'ciz4567', 6543)"
      ]
     },
     "execution_count": 2,
     "metadata": {},
     "output_type": "execute_result"
    }
   ],
   "source": [
    "t=('alex',123456,'ciz4567',6543)\n",
    "t"
   ]
  },
  {
   "cell_type": "code",
   "execution_count": 3,
   "id": "6e793525-2a25-4875-b57a-b8d01e112637",
   "metadata": {},
   "outputs": [
    {
     "ename": "TypeError",
     "evalue": "'tuple' object does not support item assignment",
     "output_type": "error",
     "traceback": [
      "\u001b[1;31m---------------------------------------------------------------------------\u001b[0m",
      "\u001b[1;31mTypeError\u001b[0m                                 Traceback (most recent call last)",
      "Cell \u001b[1;32mIn[3], line 1\u001b[0m\n\u001b[1;32m----> 1\u001b[0m t[\u001b[38;5;241m1\u001b[39m]\u001b[38;5;241m=\u001b[39m\u001b[38;5;241m786543\u001b[39m\n\u001b[0;32m      2\u001b[0m \u001b[38;5;28mprint\u001b[39m(t)\n",
      "\u001b[1;31mTypeError\u001b[0m: 'tuple' object does not support item assignment"
     ]
    }
   ],
   "source": [
    "t[1]=786543\n",
    "print(t)"
   ]
  },
  {
   "cell_type": "code",
   "execution_count": null,
   "id": "7cebd537-0e3b-4252-a46f-451924943a19",
   "metadata": {},
   "outputs": [],
   "source": [
    "## Tuple is immutable means we cannot change , we mainly use for data privacy"
   ]
  },
  {
   "cell_type": "code",
   "execution_count": 7,
   "id": "ff5ef6bd-b0c2-4124-b282-723f626b8d4d",
   "metadata": {},
   "outputs": [
    {
     "name": "stdout",
     "output_type": "stream",
     "text": [
      "(45, 64, 87, 56, 43)\n"
     ]
    }
   ],
   "source": [
    "t1=(45,64,87,56,43)\n",
    "t1.count(87)\n",
    "print(t1)"
   ]
  },
  {
   "cell_type": "code",
   "execution_count": 8,
   "id": "e6a122d2-02bf-49ab-843a-7c2f953ea612",
   "metadata": {},
   "outputs": [
    {
     "data": {
      "text/plain": [
       "1"
      ]
     },
     "execution_count": 8,
     "metadata": {},
     "output_type": "execute_result"
    }
   ],
   "source": [
    "t1.count(64)"
   ]
  },
  {
   "cell_type": "code",
   "execution_count": 9,
   "id": "9e98c11a-a586-4684-9618-11a5f604cf4b",
   "metadata": {},
   "outputs": [
    {
     "data": {
      "text/plain": [
       "2"
      ]
     },
     "execution_count": 9,
     "metadata": {},
     "output_type": "execute_result"
    }
   ],
   "source": [
    "t1.index(87)"
   ]
  },
  {
   "cell_type": "code",
   "execution_count": 10,
   "id": "908117fd-04eb-4ee4-a180-3b3d701d0602",
   "metadata": {},
   "outputs": [
    {
     "name": "stdout",
     "output_type": "stream",
     "text": [
      "45\n",
      "64\n",
      "87\n",
      "56\n",
      "43\n"
     ]
    }
   ],
   "source": [
    "for i in t1:\n",
    "    print(i)"
   ]
  },
  {
   "cell_type": "code",
   "execution_count": 11,
   "id": "e0c17f82-0682-4b3b-a726-e9a9e6844b8b",
   "metadata": {},
   "outputs": [
    {
     "name": "stdout",
     "output_type": "stream",
     "text": [
      "(0, 45)\n",
      "(1, 64)\n",
      "(2, 87)\n",
      "(3, 56)\n",
      "(4, 43)\n"
     ]
    }
   ],
   "source": [
    "for i in enumerate(t1):\n",
    "    print(i)"
   ]
  },
  {
   "cell_type": "code",
   "execution_count": 14,
   "id": "eb3cade5-548a-4057-8c04-ae32861edae7",
   "metadata": {},
   "outputs": [
    {
     "name": "stdout",
     "output_type": "stream",
     "text": [
      "(45, 64, 87, 56, 43, 45, 64, 87, 56, 43, 45, 64, 87, 56, 43)\n"
     ]
    }
   ],
   "source": [
    "t2=t1*3\n",
    "print(t2) # here it will not multiply becoz Tuple values cannot be changed its immutable so thats why it will print 3 times "
   ]
  },
  {
   "cell_type": "code",
   "execution_count": null,
   "id": "599fb2c4-5faa-4bf7-a94f-d15a1d9c013e",
   "metadata": {},
   "outputs": [],
   "source": []
  }
 ],
 "metadata": {
  "kernelspec": {
   "display_name": "Python [conda env:base] *",
   "language": "python",
   "name": "conda-base-py"
  },
  "language_info": {
   "codemirror_mode": {
    "name": "ipython",
    "version": 3
   },
   "file_extension": ".py",
   "mimetype": "text/x-python",
   "name": "python",
   "nbconvert_exporter": "python",
   "pygments_lexer": "ipython3",
   "version": "3.12.7"
  }
 },
 "nbformat": 4,
 "nbformat_minor": 5
}
