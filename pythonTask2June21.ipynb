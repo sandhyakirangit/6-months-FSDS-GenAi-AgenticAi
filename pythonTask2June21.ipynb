{
 "cells": [
  {
   "cell_type": "code",
   "execution_count": 2,
   "id": "d0c7d414-a450-44a8-ba4e-cd30f5714723",
   "metadata": {},
   "outputs": [
    {
     "data": {
      "text/plain": [
       "4"
      ]
     },
     "execution_count": 2,
     "metadata": {},
     "output_type": "execute_result"
    }
   ],
   "source": [
    "v=2+2\n",
    "v"
   ]
  },
  {
   "cell_type": "markdown",
   "id": "4de70591-ad53-44a9-986b-23e488fdf0d9",
   "metadata": {},
   "source": [
    "v=75*4"
   ]
  },
  {
   "cell_type": "code",
   "execution_count": 3,
   "id": "0f84c4d4-078f-4070-82e7-e45be712a700",
   "metadata": {},
   "outputs": [
    {
     "data": {
      "text/plain": [
       "4"
      ]
     },
     "execution_count": 3,
     "metadata": {},
     "output_type": "execute_result"
    }
   ],
   "source": [
    "v"
   ]
  },
  {
   "cell_type": "code",
   "execution_count": 4,
   "id": "b6bf5c7b-9a70-4c83-8dc3-3036973dd0e0",
   "metadata": {},
   "outputs": [],
   "source": [
    "v1=78*23"
   ]
  },
  {
   "cell_type": "code",
   "execution_count": 5,
   "id": "714867d0-e599-4c45-97f1-3d1b4a3c2dd4",
   "metadata": {},
   "outputs": [
    {
     "data": {
      "text/plain": [
       "1794"
      ]
     },
     "execution_count": 5,
     "metadata": {},
     "output_type": "execute_result"
    }
   ],
   "source": [
    "v1"
   ]
  },
  {
   "cell_type": "code",
   "execution_count": 7,
   "id": "40f58bc1-88c1-4483-8a30-79bf4990e528",
   "metadata": {},
   "outputs": [
    {
     "data": {
      "text/plain": [
       "47.65"
      ]
     },
     "execution_count": 7,
     "metadata": {},
     "output_type": "execute_result"
    }
   ],
   "source": [
    "Div = 95.3 / 2\n",
    "Div"
   ]
  },
  {
   "cell_type": "code",
   "execution_count": 8,
   "id": "ce216225-fe17-4a34-9cbb-e33b812eece0",
   "metadata": {},
   "outputs": [
    {
     "data": {
      "text/plain": [
       "15.0"
      ]
     },
     "execution_count": 8,
     "metadata": {},
     "output_type": "execute_result"
    }
   ],
   "source": [
    "Div2 = 45.7//3\n",
    "Div2"
   ]
  },
  {
   "cell_type": "code",
   "execution_count": 9,
   "id": "6884da5e-527c-4d23-bc46-bdb44ed5ee18",
   "metadata": {},
   "outputs": [
    {
     "data": {
      "text/plain": [
       "33.56"
      ]
     },
     "execution_count": 9,
     "metadata": {},
     "output_type": "execute_result"
    }
   ],
   "source": [
    "float = 67.12/2\n",
    "float"
   ]
  },
  {
   "cell_type": "code",
   "execution_count": 10,
   "id": "e954b5a9-1b6d-447b-a356-80865cfdefb0",
   "metadata": {},
   "outputs": [
    {
     "data": {
      "text/plain": [
       "37.7"
      ]
     },
     "execution_count": 10,
     "metadata": {},
     "output_type": "execute_result"
    }
   ],
   "source": [
    "int= 75.4/2\n",
    "int"
   ]
  },
  {
   "cell_type": "code",
   "execution_count": 11,
   "id": "ce36dbf3-031a-4802-b550-ff947d1194ec",
   "metadata": {},
   "outputs": [
    {
     "data": {
      "text/plain": [
       "37.0"
      ]
     },
     "execution_count": 11,
     "metadata": {},
     "output_type": "execute_result"
    }
   ],
   "source": [
    "int=75.4//2\n",
    "int"
   ]
  },
  {
   "cell_type": "code",
   "execution_count": 14,
   "id": "cb20c6f3-2ff2-4f0e-8d00-468deddde93e",
   "metadata": {},
   "outputs": [
    {
     "data": {
      "text/plain": [
       "'welcome to the universe'"
      ]
     },
     "execution_count": 14,
     "metadata": {},
     "output_type": "execute_result"
    }
   ],
   "source": [
    "s1='welcome' +' to the universe'\n",
    "s1"
   ]
  },
  {
   "cell_type": "code",
   "execution_count": 12,
   "id": "49370e39-ea1f-4181-a915-6d367792fefe",
   "metadata": {},
   "outputs": [
    {
     "ename": "NameError",
     "evalue": "name 's1' is not defined",
     "output_type": "error",
     "traceback": [
      "\u001b[1;31m---------------------------------------------------------------------------\u001b[0m",
      "\u001b[1;31mNameError\u001b[0m                                 Traceback (most recent call last)",
      "Cell \u001b[1;32mIn[12], line 1\u001b[0m\n\u001b[1;32m----> 1\u001b[0m s1\n",
      "\u001b[1;31mNameError\u001b[0m: name 's1' is not defined"
     ]
    }
   ],
   "source": [
    "s1"
   ]
  },
  {
   "cell_type": "code",
   "execution_count": 20,
   "id": "6d728e90-f1d8-4b79-8973-76bf43fa92e7",
   "metadata": {},
   "outputs": [
    {
     "data": {
      "text/plain": [
       "'helloworld\\n\\n renu'"
      ]
     },
     "execution_count": 20,
     "metadata": {},
     "output_type": "execute_result"
    }
   ],
   "source": [
    "newline = 'hello ' + '  world\\n' + '\\n renu'\n",
    "newline"
   ]
  },
  {
   "cell_type": "code",
   "execution_count": 22,
   "id": "5e5f06b9-ae89-4e30-a33d-9e9bc818961b",
   "metadata": {},
   "outputs": [
    {
     "name": "stdout",
     "output_type": "stream",
     "text": [
      "helloworld\n",
      "\n",
      " renu\n"
     ]
    }
   ],
   "source": [
    "print(newline)"
   ]
  },
  {
   "cell_type": "code",
   "execution_count": 25,
   "id": "6245a57f-aaf4-4b8c-acb9-177df31e62a5",
   "metadata": {},
   "outputs": [
    {
     "name": "stdout",
     "output_type": "stream",
     "text": [
      "helloworld\n",
      "\n",
      " renu\n"
     ]
    }
   ],
   "source": [
    "print(newline)"
   ]
  },
  {
   "cell_type": "code",
   "execution_count": 26,
   "id": "89303892-2231-4e4b-b561-fff1ba318f0f",
   "metadata": {},
   "outputs": [
    {
     "name": "stdout",
     "output_type": "stream",
     "text": [
      "helloworld\n",
      "\n",
      " renu\n"
     ]
    }
   ],
   "source": [
    "print(newline)"
   ]
  },
  {
   "cell_type": "code",
   "execution_count": 27,
   "id": "df53dc11-e0d6-4fdf-ae32-cfb7fb9010ed",
   "metadata": {},
   "outputs": [
    {
     "name": "stdout",
     "output_type": "stream",
     "text": [
      "hello   world\n",
      " renu\n"
     ]
    }
   ],
   "source": [
    "newline1= 'hello ' + '  world' + '\\n renu'\n",
    "print(newline1)"
   ]
  },
  {
   "cell_type": "code",
   "execution_count": 28,
   "id": "7d5974a3-799e-40af-bab0-3bc41d2d3e82",
   "metadata": {},
   "outputs": [
    {
     "data": {
      "text/plain": [
       "19"
      ]
     },
     "execution_count": 28,
     "metadata": {},
     "output_type": "execute_result"
    }
   ],
   "source": [
    "len(newline1)"
   ]
  },
  {
   "cell_type": "code",
   "execution_count": 29,
   "id": "d2d79acc-fed8-4592-843c-1495169ea53d",
   "metadata": {},
   "outputs": [
    {
     "data": {
      "text/plain": [
       "4514"
      ]
     },
     "execution_count": 29,
     "metadata": {},
     "output_type": "execute_result"
    }
   ],
   "source": [
    "tax=45 \n",
    "price=100.3\n",
    "finalprice=price*tax\n",
    "round(finalprice)"
   ]
  },
  {
   "cell_type": "code",
   "execution_count": 30,
   "id": "8008ae0c-4bdc-4ba9-8736-5949e5dc3ed7",
   "metadata": {},
   "outputs": [
    {
     "ename": "TypeError",
     "evalue": "type str doesn't define __round__ method",
     "output_type": "error",
     "traceback": [
      "\u001b[1;31m---------------------------------------------------------------------------\u001b[0m",
      "\u001b[1;31mTypeError\u001b[0m                                 Traceback (most recent call last)",
      "Cell \u001b[1;32mIn[30], line 1\u001b[0m\n\u001b[1;32m----> 1\u001b[0m \u001b[38;5;28mround\u001b[39m(_,\u001b[38;5;241m2\u001b[39m)\n",
      "\u001b[1;31mTypeError\u001b[0m: type str doesn't define __round__ method"
     ]
    }
   ],
   "source": [
    "round(_,2)\n"
   ]
  },
  {
   "cell_type": "code",
   "execution_count": 31,
   "id": "44ac7f5a-8683-43fa-8835-3a3d30a0bcff",
   "metadata": {},
   "outputs": [
    {
     "data": {
      "text/plain": [
       "4513.5"
      ]
     },
     "execution_count": 31,
     "metadata": {},
     "output_type": "execute_result"
    }
   ],
   "source": [
    "tax=45 \n",
    "price=100.3\n",
    "finalprice1=price*tax\n",
    "round(finalprice1,2)"
   ]
  },
  {
   "cell_type": "code",
   "execution_count": 32,
   "id": "f3e654e0-f813-4be6-8a5e-cc196c637399",
   "metadata": {},
   "outputs": [
    {
     "ename": "TypeError",
     "evalue": "type str doesn't define __round__ method",
     "output_type": "error",
     "traceback": [
      "\u001b[1;31m---------------------------------------------------------------------------\u001b[0m",
      "\u001b[1;31mTypeError\u001b[0m                                 Traceback (most recent call last)",
      "Cell \u001b[1;32mIn[32], line 1\u001b[0m\n\u001b[1;32m----> 1\u001b[0m \u001b[38;5;28mround\u001b[39m(_,\u001b[38;5;241m2\u001b[39m)\n",
      "\u001b[1;31mTypeError\u001b[0m: type str doesn't define __round__ method"
     ]
    }
   ],
   "source": [
    "round(_,2)"
   ]
  },
  {
   "cell_type": "code",
   "execution_count": 33,
   "id": "55013976-2db2-43ad-b238-208da5814086",
   "metadata": {},
   "outputs": [
    {
     "ename": "TypeError",
     "evalue": "type str doesn't define __round__ method",
     "output_type": "error",
     "traceback": [
      "\u001b[1;31m---------------------------------------------------------------------------\u001b[0m",
      "\u001b[1;31mTypeError\u001b[0m                                 Traceback (most recent call last)",
      "Cell \u001b[1;32mIn[33], line 1\u001b[0m\n\u001b[1;32m----> 1\u001b[0m \u001b[38;5;28mround\u001b[39m(_,\u001b[38;5;241m1\u001b[39m)\n",
      "\u001b[1;31mTypeError\u001b[0m: type str doesn't define __round__ method"
     ]
    }
   ],
   "source": [
    "round(_,1)"
   ]
  },
  {
   "cell_type": "code",
   "execution_count": 38,
   "id": "2e5dc389-c756-49fb-b46f-43a25019996b",
   "metadata": {},
   "outputs": [],
   "source": [
    "tax1=12.5/100\n",
    "price2=100.50\n",
    "price2*tax1\n",
    "\n"
   ]
  },
  {
   "cell_type": "code",
   "execution_count": 39,
   "id": "dcd7ea8b-037d-46b0-9ca6-d40094795c6c",
   "metadata": {},
   "outputs": [
    {
     "data": {
      "text/plain": [
       "12.5625"
      ]
     },
     "execution_count": 39,
     "metadata": {},
     "output_type": "execute_result"
    }
   ],
   "source": [
    "tax1=12.5/100\n",
    "price2=100.50\n",
    "price2*tax1\n"
   ]
  },
  {
   "cell_type": "code",
   "execution_count": 40,
   "id": "bc433bd7-a301-42d9-adc9-3d64d51bdc11",
   "metadata": {},
   "outputs": [
    {
     "ename": "TypeError",
     "evalue": "type str doesn't define __round__ method",
     "output_type": "error",
     "traceback": [
      "\u001b[1;31m---------------------------------------------------------------------------\u001b[0m",
      "\u001b[1;31mTypeError\u001b[0m                                 Traceback (most recent call last)",
      "Cell \u001b[1;32mIn[40], line 1\u001b[0m\n\u001b[1;32m----> 1\u001b[0m \u001b[38;5;28mround\u001b[39m(_,\u001b[38;5;241m2\u001b[39m)\n",
      "\u001b[1;31mTypeError\u001b[0m: type str doesn't define __round__ method"
     ]
    }
   ],
   "source": [
    "round(_,2)"
   ]
  },
  {
   "cell_type": "code",
   "execution_count": 41,
   "id": "723f4e8c-cb1e-4363-bb35-671719178ce0",
   "metadata": {},
   "outputs": [
    {
     "ename": "SyntaxError",
     "evalue": "unterminated string literal (detected at line 1) (2256485107.py, line 1)",
     "output_type": "error",
     "traceback": [
      "\u001b[1;36m  Cell \u001b[1;32mIn[41], line 1\u001b[1;36m\u001b[0m\n\u001b[1;33m    'does\\n't'\u001b[0m\n\u001b[1;37m             ^\u001b[0m\n\u001b[1;31mSyntaxError\u001b[0m\u001b[1;31m:\u001b[0m unterminated string literal (detected at line 1)\n"
     ]
    }
   ],
   "source": [
    "'does\\n't'"
   ]
  },
  {
   "cell_type": "code",
   "execution_count": 43,
   "id": "bee2af66-a048-4680-bb05-d48bb0da5016",
   "metadata": {},
   "outputs": [
    {
     "data": {
      "text/plain": [
       "' \"yes,\"  they said. '"
      ]
     },
     "execution_count": 43,
     "metadata": {},
     "output_type": "execute_result"
    }
   ],
   "source": [
    "' \"yes,\"  they said. '"
   ]
  },
  {
   "cell_type": "markdown",
   "id": "d387e646-2855-4fb5-8cb2-dff14a71a2ac",
   "metadata": {},
   "source": [
    "10 * \" IL\" +'U'"
   ]
  },
  {
   "cell_type": "code",
   "execution_count": 44,
   "id": "8a057355-22d0-46f8-8128-c3c967a95fac",
   "metadata": {},
   "outputs": [
    {
     "data": {
      "text/plain": [
       "' IL IL IL IL IL IL IL IL IL ILU'"
      ]
     },
     "execution_count": 44,
     "metadata": {},
     "output_type": "execute_result"
    }
   ],
   "source": [
    "10  *  \" IL\" +\"U\""
   ]
  },
  {
   "cell_type": "code",
   "execution_count": 45,
   "id": "44e918b6-d612-405a-8b6f-3be67af60013",
   "metadata": {},
   "outputs": [
    {
     "data": {
      "text/plain": [
       "'RAMRAMRAMRAMRAMSITASITASITASITASITA'"
      ]
     },
     "execution_count": 45,
     "metadata": {},
     "output_type": "execute_result"
    }
   ],
   "source": [
    "5 * 'RAM' + 5 * 'SITA'"
   ]
  },
  {
   "cell_type": "code",
   "execution_count": 46,
   "id": "e186e5af-551b-40b1-b02d-6b905372ccf1",
   "metadata": {},
   "outputs": [
    {
     "data": {
      "text/plain": [
       "'RAMSITARAMSITARAMSITARAMSITARAMSITA'"
      ]
     },
     "execution_count": 46,
     "metadata": {},
     "output_type": "execute_result"
    }
   ],
   "source": [
    "5 * ('RAM' + 'SITA')"
   ]
  },
  {
   "cell_type": "code",
   "execution_count": 47,
   "id": "ede99ab6-cb1b-4bb6-9d48-dcc060e3adfa",
   "metadata": {},
   "outputs": [
    {
     "data": {
      "text/plain": [
       "'d'"
      ]
     },
     "execution_count": 47,
     "metadata": {},
     "output_type": "execute_result"
    }
   ],
   "source": [
    "WORD = \"Sandhya Omkar \"\n",
    "WORD[3]"
   ]
  },
  {
   "cell_type": "code",
   "execution_count": 48,
   "id": "ad8f73b5-288f-4098-9023-a89ca096f292",
   "metadata": {},
   "outputs": [
    {
     "data": {
      "text/plain": [
       "[1, 2, 3, 4, 5, 6, 7, 8]"
      ]
     },
     "execution_count": 48,
     "metadata": {},
     "output_type": "execute_result"
    }
   ],
   "source": [
    "Squares =[1,2,3,4]\n",
    "Squares+[5,6,7,8]"
   ]
  },
  {
   "cell_type": "code",
   "execution_count": 50,
   "id": "6b18754c-84d4-4b66-87a5-38348a1af8e6",
   "metadata": {},
   "outputs": [],
   "source": [
    "Squares=Squares+[7,8,9]"
   ]
  },
  {
   "cell_type": "code",
   "execution_count": 51,
   "id": "9f8ca279-f448-4bf8-8805-eaab35806d42",
   "metadata": {},
   "outputs": [
    {
     "data": {
      "text/plain": [
       "[1, 2, 3, 4, 7, 8, 9, 7, 8, 9]"
      ]
     },
     "execution_count": 51,
     "metadata": {},
     "output_type": "execute_result"
    }
   ],
   "source": [
    "Squares"
   ]
  },
  {
   "cell_type": "code",
   "execution_count": 52,
   "id": "118bc8e1-4bf7-43b4-9c45-9c16858c34a9",
   "metadata": {},
   "outputs": [],
   "source": [
    "cat = ['red','blue','green']"
   ]
  },
  {
   "cell_type": "code",
   "execution_count": 55,
   "id": "d39391d3-ba0f-4a03-b3cc-6dc516cf3804",
   "metadata": {},
   "outputs": [],
   "source": [
    "cat.append('eyes')"
   ]
  },
  {
   "cell_type": "code",
   "execution_count": 56,
   "id": "25198bbb-7b5a-49e8-bbb0-1169d66a377b",
   "metadata": {},
   "outputs": [
    {
     "data": {
      "text/plain": [
       "['red', 'blue', 'green', 'eyes', 'eyes']"
      ]
     },
     "execution_count": 56,
     "metadata": {},
     "output_type": "execute_result"
    }
   ],
   "source": [
    "cat"
   ]
  },
  {
   "cell_type": "code",
   "execution_count": 57,
   "id": "9392b02a-dcc7-404b-a3bf-090b932d621f",
   "metadata": {},
   "outputs": [
    {
     "data": {
      "text/plain": [
       "['red', 'blue', 'green', 'eyes', 'eyes']"
      ]
     },
     "execution_count": 57,
     "metadata": {},
     "output_type": "execute_result"
    }
   ],
   "source": [
    "cat"
   ]
  },
  {
   "cell_type": "code",
   "execution_count": null,
   "id": "debfad16-7653-4bdb-a617-7572a1b9eb5e",
   "metadata": {},
   "outputs": [],
   "source": [
    "a,b"
   ]
  }
 ],
 "metadata": {
  "kernelspec": {
   "display_name": "Python [conda env:base] *",
   "language": "python",
   "name": "conda-base-py"
  },
  "language_info": {
   "codemirror_mode": {
    "name": "ipython",
    "version": 3
   },
   "file_extension": ".py",
   "mimetype": "text/x-python",
   "name": "python",
   "nbconvert_exporter": "python",
   "pygments_lexer": "ipython3",
   "version": "3.12.7"
  }
 },
 "nbformat": 4,
 "nbformat_minor": 5
}
