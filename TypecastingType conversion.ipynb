{
 "cells": [
  {
   "cell_type": "code",
   "execution_count": 1,
   "id": "1665f8cd-4238-4cd2-9e33-39ea230ccbbc",
   "metadata": {},
   "outputs": [
    {
     "data": {
      "text/plain": [
       "2"
      ]
     },
     "execution_count": 1,
     "metadata": {},
     "output_type": "execute_result"
    }
   ],
   "source": [
    "int(2.5)"
   ]
  },
  {
   "cell_type": "code",
   "execution_count": 2,
   "id": "8e979e53-5d0d-4d04-9f49-84b5c306a54c",
   "metadata": {},
   "outputs": [
    {
     "ename": "TypeError",
     "evalue": "'float' object cannot be interpreted as an integer",
     "output_type": "error",
     "traceback": [
      "\u001b[1;31m---------------------------------------------------------------------------\u001b[0m",
      "\u001b[1;31mTypeError\u001b[0m                                 Traceback (most recent call last)",
      "Cell \u001b[1;32mIn[2], line 1\u001b[0m\n\u001b[1;32m----> 1\u001b[0m \u001b[38;5;28mint\u001b[39m (\u001b[38;5;241m2.5\u001b[39m,\u001b[38;5;241m3.5\u001b[39m)\n",
      "\u001b[1;31mTypeError\u001b[0m: 'float' object cannot be interpreted as an integer"
     ]
    }
   ],
   "source": [
    "int (2.5,3.5)"
   ]
  },
  {
   "cell_type": "code",
   "execution_count": null,
   "id": "38a47056-0d59-4c51-a134-1b4f4b4b933a",
   "metadata": {},
   "outputs": [],
   "source": [
    "# so In python we can only pass 1 argument for Typecasting , if you pass more then 1 argument we get Bug\n",
    "\n",
    "Float --> Integer --> possible \n",
    "Integer --> float --> possible\n",
    "\n",
    "Integer --> Boolean -->possible\n"
   ]
  },
  {
   "cell_type": "code",
   "execution_count": 3,
   "id": "9e70d94b-18a5-41bb-9d59-1af0ae456ed8",
   "metadata": {},
   "outputs": [
    {
     "data": {
      "text/plain": [
       "1"
      ]
     },
     "execution_count": 3,
     "metadata": {},
     "output_type": "execute_result"
    }
   ],
   "source": [
    "int(True)"
   ]
  },
  {
   "cell_type": "code",
   "execution_count": 4,
   "id": "47b4ef81-2b40-43c2-8f5e-af107241a055",
   "metadata": {},
   "outputs": [
    {
     "data": {
      "text/plain": [
       "0"
      ]
     },
     "execution_count": 4,
     "metadata": {},
     "output_type": "execute_result"
    }
   ],
   "source": [
    "int(False)"
   ]
  },
  {
   "cell_type": "code",
   "execution_count": 7,
   "id": "a28c4e47-e97f-4fa7-930d-66d4873e292a",
   "metadata": {},
   "outputs": [
    {
     "ename": "TypeError",
     "evalue": "int() can't convert non-string with explicit base",
     "output_type": "error",
     "traceback": [
      "\u001b[1;31m---------------------------------------------------------------------------\u001b[0m",
      "\u001b[1;31mTypeError\u001b[0m                                 Traceback (most recent call last)",
      "Cell \u001b[1;32mIn[7], line 1\u001b[0m\n\u001b[1;32m----> 1\u001b[0m \u001b[38;5;28mint\u001b[39m(\u001b[38;5;28;01mTrue\u001b[39;00m,\u001b[38;5;28;01mFalse\u001b[39;00m)\n",
      "\u001b[1;31mTypeError\u001b[0m: int() can't convert non-string with explicit base"
     ]
    }
   ],
   "source": [
    "int(True,False)"
   ]
  },
  {
   "cell_type": "code",
   "execution_count": null,
   "id": "9d715a03-b7d1-4de9-a82e-27bfda85e72e",
   "metadata": {},
   "outputs": [],
   "source": [
    "# we cannot pass 2 arguments at a time for Typecasting int --> to Boolean"
   ]
  },
  {
   "cell_type": "code",
   "execution_count": 11,
   "id": "f796c681-16c0-4409-a2a7-6e7edf2bdca5",
   "metadata": {},
   "outputs": [
    {
     "name": "stdout",
     "output_type": "stream",
     "text": [
      "2\n",
      "1\n",
      "10\n"
     ]
    },
    {
     "ename": "TypeError",
     "evalue": "int() argument must be a string, a bytes-like object or a real number, not 'complex'",
     "output_type": "error",
     "traceback": [
      "\u001b[1;31m---------------------------------------------------------------------------\u001b[0m",
      "\u001b[1;31mTypeError\u001b[0m                                 Traceback (most recent call last)",
      "Cell \u001b[1;32mIn[11], line 4\u001b[0m\n\u001b[0;32m      2\u001b[0m \u001b[38;5;28mprint\u001b[39m(\u001b[38;5;28mint\u001b[39m(\u001b[38;5;28;01mTrue\u001b[39;00m))\n\u001b[0;32m      3\u001b[0m \u001b[38;5;28mprint\u001b[39m(\u001b[38;5;28mint\u001b[39m(\u001b[38;5;124m'\u001b[39m\u001b[38;5;124m10\u001b[39m\u001b[38;5;124m'\u001b[39m))\n\u001b[1;32m----> 4\u001b[0m \u001b[38;5;28mprint\u001b[39m(\u001b[38;5;28mint\u001b[39m(\u001b[38;5;241m2\u001b[39m\u001b[38;5;241m+\u001b[39m\u001b[38;5;241m3\u001b[39mj))\n",
      "\u001b[1;31mTypeError\u001b[0m: int() argument must be a string, a bytes-like object or a real number, not 'complex'"
     ]
    }
   ],
   "source": [
    "print(int(2.3))  # flaot to int\n",
    "print(int(True)) # bool to int\n",
    "print(int('10')) #string to int\n",
    "print(int(2+3j)) # complex to int NOT POSSSIBLE \n",
    "\n"
   ]
  },
  {
   "cell_type": "markdown",
   "id": "4a69f2b9-1fbf-45d1-b4dd-fdcc69ea804d",
   "metadata": {},
   "source": [
    "# NOW WHILE TYPE CASTING FOR STRING TO INT , only Number with in quotes is allowed , if we are passing any letters ior words inside quotes\n",
    "#then it will throw eroor look for below example"
   ]
  },
  {
   "cell_type": "code",
   "execution_count": 12,
   "id": "09817f01-bde7-4242-b350-b49d13a1fb1c",
   "metadata": {
    "scrolled": true
   },
   "outputs": [
    {
     "ename": "ValueError",
     "evalue": "invalid literal for int() with base 10: 'one'",
     "output_type": "error",
     "traceback": [
      "\u001b[1;31m---------------------------------------------------------------------------\u001b[0m",
      "\u001b[1;31mValueError\u001b[0m                                Traceback (most recent call last)",
      "Cell \u001b[1;32mIn[12], line 1\u001b[0m\n\u001b[1;32m----> 1\u001b[0m \u001b[38;5;28mint\u001b[39m(\u001b[38;5;124m\"\u001b[39m\u001b[38;5;124mone\u001b[39m\u001b[38;5;124m\"\u001b[39m)\n",
      "\u001b[1;31mValueError\u001b[0m: invalid literal for int() with base 10: 'one'"
     ]
    }
   ],
   "source": [
    "int(\"one\") # here when we pass arguments like a words with in quotes for typecasting string to int"
   ]
  },
  {
   "cell_type": "code",
   "execution_count": 13,
   "id": "4d1ab68b-37df-4972-91bb-ffaf132bf979",
   "metadata": {},
   "outputs": [
    {
     "data": {
      "text/plain": [
       "1"
      ]
     },
     "execution_count": 13,
     "metadata": {},
     "output_type": "execute_result"
    }
   ],
   "source": [
    "int('1') # decimals within quotes is allowed for typecasting of a String to int"
   ]
  },
  {
   "cell_type": "markdown",
   "id": "69fcd2fa-2dfd-4d9f-b345-35fa49815ef7",
   "metadata": {},
   "source": [
    "# NOW WE WILL TYPECAST FROM ALL OTHER DATA TYPES TO FLOAT LETS SEE"
   ]
  },
  {
   "cell_type": "code",
   "execution_count": 14,
   "id": "765989ae-796b-4f81-8118-24152edef440",
   "metadata": {},
   "outputs": [
    {
     "name": "stdout",
     "output_type": "stream",
     "text": [
      "2.0\n",
      "0.0\n"
     ]
    },
    {
     "ename": "ValueError",
     "evalue": "could not convert string to float: 'sandy'",
     "output_type": "error",
     "traceback": [
      "\u001b[1;31m---------------------------------------------------------------------------\u001b[0m",
      "\u001b[1;31mValueError\u001b[0m                                Traceback (most recent call last)",
      "Cell \u001b[1;32mIn[14], line 3\u001b[0m\n\u001b[0;32m      1\u001b[0m \u001b[38;5;28mprint\u001b[39m(\u001b[38;5;28mfloat\u001b[39m(\u001b[38;5;241m2\u001b[39m))\n\u001b[0;32m      2\u001b[0m \u001b[38;5;28mprint\u001b[39m(\u001b[38;5;28mfloat\u001b[39m(\u001b[38;5;28;01mFalse\u001b[39;00m))\n\u001b[1;32m----> 3\u001b[0m \u001b[38;5;28mprint\u001b[39m(\u001b[38;5;28mfloat\u001b[39m(\u001b[38;5;124m'\u001b[39m\u001b[38;5;124msandy\u001b[39m\u001b[38;5;124m'\u001b[39m))\n\u001b[0;32m      4\u001b[0m \u001b[38;5;28mprint\u001b[39m(\u001b[38;5;28mfloat\u001b[39m(\u001b[38;5;241m2\u001b[39m\u001b[38;5;241m+\u001b[39m\u001b[38;5;241m3\u001b[39mj))\n",
      "\u001b[1;31mValueError\u001b[0m: could not convert string to float: 'sandy'"
     ]
    }
   ],
   "source": [
    "print(float(2))  # int -->float\n",
    "print(float(False)) # bool -->float\n",
    "print(float('sandy')) # string to float \n",
    "print(float(2+3j))   # complex to float#\n"
   ]
  },
  {
   "cell_type": "code",
   "execution_count": 15,
   "id": "a48c763e-dd0b-4f1a-b189-11d33f17c524",
   "metadata": {},
   "outputs": [
    {
     "ename": "TypeError",
     "evalue": "float() argument must be a string or a real number, not 'complex'",
     "output_type": "error",
     "traceback": [
      "\u001b[1;31m---------------------------------------------------------------------------\u001b[0m",
      "\u001b[1;31mTypeError\u001b[0m                                 Traceback (most recent call last)",
      "Cell \u001b[1;32mIn[15], line 1\u001b[0m\n\u001b[1;32m----> 1\u001b[0m \u001b[38;5;28mprint\u001b[39m(\u001b[38;5;28mfloat\u001b[39m(\u001b[38;5;241m2\u001b[39m\u001b[38;5;241m+\u001b[39m\u001b[38;5;241m3\u001b[39mj))\n",
      "\u001b[1;31mTypeError\u001b[0m: float() argument must be a string or a real number, not 'complex'"
     ]
    }
   ],
   "source": [
    "print(float(2+3j))"
   ]
  },
  {
   "cell_type": "markdown",
   "id": "7db7581d-e04c-4900-8f5a-b4ce48a12267",
   "metadata": {},
   "source": [
    "# TYPE CASTING OF COPMPLEX DATA TYPE "
   ]
  },
  {
   "cell_type": "code",
   "execution_count": 16,
   "id": "cdc3bdde-ad3c-483f-b81f-ea54c21f0b7e",
   "metadata": {},
   "outputs": [
    {
     "data": {
      "text/plain": [
       "(10+0j)"
      ]
     },
     "execution_count": 16,
     "metadata": {},
     "output_type": "execute_result"
    }
   ],
   "source": [
    "complex(10) # if you type cast int to complex -->possible"
   ]
  },
  {
   "cell_type": "code",
   "execution_count": 17,
   "id": "cba1193b-93cb-4d5c-9a5b-94d6e9a2df33",
   "metadata": {},
   "outputs": [
    {
     "data": {
      "text/plain": [
       "(10+20j)"
      ]
     },
     "execution_count": 17,
     "metadata": {},
     "output_type": "execute_result"
    }
   ],
   "source": [
    "complex(10,20) # passing 2 arguments as int -->possible 10 is Real part and 20 is Imaginary part\n"
   ]
  },
  {
   "cell_type": "code",
   "execution_count": 18,
   "id": "f34995e8-4e57-4e93-a52b-37afd29da684",
   "metadata": {},
   "outputs": [
    {
     "ename": "ValueError",
     "evalue": "complex() arg is a malformed string",
     "output_type": "error",
     "traceback": [
      "\u001b[1;31m---------------------------------------------------------------------------\u001b[0m",
      "\u001b[1;31mValueError\u001b[0m                                Traceback (most recent call last)",
      "Cell \u001b[1;32mIn[18], line 1\u001b[0m\n\u001b[1;32m----> 1\u001b[0m \u001b[38;5;28mcomplex\u001b[39m(\u001b[38;5;124m'\u001b[39m\u001b[38;5;124mstring\u001b[39m\u001b[38;5;124m'\u001b[39m)\n",
      "\u001b[1;31mValueError\u001b[0m: complex() arg is a malformed string"
     ]
    }
   ],
   "source": [
    "complex('string')"
   ]
  },
  {
   "cell_type": "code",
   "execution_count": 19,
   "id": "d6baa334-7a32-48e4-a863-e944d41c9866",
   "metadata": {},
   "outputs": [
    {
     "data": {
      "text/plain": [
       "(10.2+0j)"
      ]
     },
     "execution_count": 19,
     "metadata": {},
     "output_type": "execute_result"
    }
   ],
   "source": [
    "complex(10.2) # with Float type casting to Complex "
   ]
  },
  {
   "cell_type": "code",
   "execution_count": 20,
   "id": "0465112f-cc23-4ed2-852d-f386508860c5",
   "metadata": {},
   "outputs": [
    {
     "data": {
      "text/plain": [
       "(10.3+9.4j)"
      ]
     },
     "execution_count": 20,
     "metadata": {},
     "output_type": "execute_result"
    }
   ],
   "source": [
    "complex(10.3,9.4) # with float passing 2 arguments is -->possible"
   ]
  },
  {
   "cell_type": "code",
   "execution_count": 21,
   "id": "4eb41391-a65e-4059-ac59-c9f171883e6f",
   "metadata": {},
   "outputs": [
    {
     "data": {
      "text/plain": [
       "(1+0j)"
      ]
     },
     "execution_count": 21,
     "metadata": {},
     "output_type": "execute_result"
    }
   ],
   "source": [
    "complex(True) # with Boolean possible"
   ]
  },
  {
   "cell_type": "code",
   "execution_count": 22,
   "id": "5f8aae57-0608-4922-b973-8fab12c13e90",
   "metadata": {},
   "outputs": [
    {
     "data": {
      "text/plain": [
       "0j"
      ]
     },
     "execution_count": 22,
     "metadata": {},
     "output_type": "execute_result"
    }
   ],
   "source": [
    "complex(False) # 0+0j=0j -->boolean possible with complex type casting"
   ]
  },
  {
   "cell_type": "code",
   "execution_count": 23,
   "id": "ad4f0823-122d-4029-bb15-16f5acf297bb",
   "metadata": {},
   "outputs": [
    {
     "data": {
      "text/plain": [
       "(1+0j)"
      ]
     },
     "execution_count": 23,
     "metadata": {},
     "output_type": "execute_result"
    }
   ],
   "source": [
    "complex(True,False) # possible "
   ]
  },
  {
   "cell_type": "code",
   "execution_count": 24,
   "id": "51e36cba-5b9d-47e1-99ec-64d2d2304090",
   "metadata": {},
   "outputs": [
    {
     "ename": "NameError",
     "evalue": "name 'renu' is not defined",
     "output_type": "error",
     "traceback": [
      "\u001b[1;31m---------------------------------------------------------------------------\u001b[0m",
      "\u001b[1;31mNameError\u001b[0m                                 Traceback (most recent call last)",
      "Cell \u001b[1;32mIn[24], line 1\u001b[0m\n\u001b[1;32m----> 1\u001b[0m \u001b[38;5;28mcomplex\u001b[39m(renu)\n",
      "\u001b[1;31mNameError\u001b[0m: name 'renu' is not defined"
     ]
    }
   ],
   "source": [
    "complex(renu)"
   ]
  },
  {
   "cell_type": "code",
   "execution_count": 25,
   "id": "fd256419-0f29-49cc-b263-50047b82d1e6",
   "metadata": {},
   "outputs": [
    {
     "ename": "ValueError",
     "evalue": "complex() arg is a malformed string",
     "output_type": "error",
     "traceback": [
      "\u001b[1;31m---------------------------------------------------------------------------\u001b[0m",
      "\u001b[1;31mValueError\u001b[0m                                Traceback (most recent call last)",
      "Cell \u001b[1;32mIn[25], line 1\u001b[0m\n\u001b[1;32m----> 1\u001b[0m \u001b[38;5;28mcomplex\u001b[39m (\u001b[38;5;124m'\u001b[39m\u001b[38;5;124mcapsule\u001b[39m\u001b[38;5;124m'\u001b[39m)\n",
      "\u001b[1;31mValueError\u001b[0m: complex() arg is a malformed string"
     ]
    }
   ],
   "source": [
    "complex ('capsule')"
   ]
  },
  {
   "cell_type": "code",
   "execution_count": 26,
   "id": "0dd1d490-2d10-4711-a6c9-625dce8cc24e",
   "metadata": {},
   "outputs": [
    {
     "ename": "TypeError",
     "evalue": "complex() takes at most 2 arguments (3 given)",
     "output_type": "error",
     "traceback": [
      "\u001b[1;31m---------------------------------------------------------------------------\u001b[0m",
      "\u001b[1;31mTypeError\u001b[0m                                 Traceback (most recent call last)",
      "Cell \u001b[1;32mIn[26], line 1\u001b[0m\n\u001b[1;32m----> 1\u001b[0m \u001b[38;5;28mcomplex\u001b[39m(\u001b[38;5;241m10\u001b[39m,\u001b[38;5;241m20\u001b[39m,\u001b[38;5;241m30\u001b[39m)\n",
      "\u001b[1;31mTypeError\u001b[0m: complex() takes at most 2 arguments (3 given)"
     ]
    }
   ],
   "source": [
    "complex(10,20,30) # complex takes only 2 parts only tahst why error"
   ]
  },
  {
   "cell_type": "code",
   "execution_count": 27,
   "id": "00015171-5ad1-473e-96ce-55181bfbb4ea",
   "metadata": {},
   "outputs": [
    {
     "ename": "TypeError",
     "evalue": "complex() can't take second arg if first is a string",
     "output_type": "error",
     "traceback": [
      "\u001b[1;31m---------------------------------------------------------------------------\u001b[0m",
      "\u001b[1;31mTypeError\u001b[0m                                 Traceback (most recent call last)",
      "Cell \u001b[1;32mIn[27], line 1\u001b[0m\n\u001b[1;32m----> 1\u001b[0m \u001b[38;5;28mcomplex\u001b[39m(\u001b[38;5;124m'\u001b[39m\u001b[38;5;124mapple\u001b[39m\u001b[38;5;124m'\u001b[39m,\u001b[38;5;241m2\u001b[39m)\n",
      "\u001b[1;31mTypeError\u001b[0m: complex() can't take second arg if first is a string"
     ]
    }
   ],
   "source": [
    "complex('apple',2) # complex cannot take the argument if first one is string)"
   ]
  },
  {
   "cell_type": "code",
   "execution_count": 28,
   "id": "8c01d607-55da-4926-979d-3359ca36ba78",
   "metadata": {},
   "outputs": [
    {
     "ename": "TypeError",
     "evalue": "complex() second arg can't be a string",
     "output_type": "error",
     "traceback": [
      "\u001b[1;31m---------------------------------------------------------------------------\u001b[0m",
      "\u001b[1;31mTypeError\u001b[0m                                 Traceback (most recent call last)",
      "Cell \u001b[1;32mIn[28], line 1\u001b[0m\n\u001b[1;32m----> 1\u001b[0m \u001b[38;5;28mcomplex\u001b[39m(\u001b[38;5;241m2\u001b[39m,\u001b[38;5;124m'\u001b[39m\u001b[38;5;124mapple\u001b[39m\u001b[38;5;124m'\u001b[39m)\n",
      "\u001b[1;31mTypeError\u001b[0m: complex() second arg can't be a string"
     ]
    }
   ],
   "source": [
    "complex(2,'apple') # either the case it cannot take when String confronts"
   ]
  },
  {
   "cell_type": "code",
   "execution_count": 29,
   "id": "29b6b577-bafa-467e-aa38-7eb29efdf021",
   "metadata": {},
   "outputs": [
    {
     "ename": "ValueError",
     "evalue": "complex() arg is a malformed string",
     "output_type": "error",
     "traceback": [
      "\u001b[1;31m---------------------------------------------------------------------------\u001b[0m",
      "\u001b[1;31mValueError\u001b[0m                                Traceback (most recent call last)",
      "Cell \u001b[1;32mIn[29], line 1\u001b[0m\n\u001b[1;32m----> 1\u001b[0m \u001b[38;5;28mcomplex\u001b[39m(\u001b[38;5;124m'\u001b[39m\u001b[38;5;124mapple\u001b[39m\u001b[38;5;124m'\u001b[39m)\n",
      "\u001b[1;31mValueError\u001b[0m: complex() arg is a malformed string"
     ]
    }
   ],
   "source": [
    "complex('apple')"
   ]
  },
  {
   "cell_type": "code",
   "execution_count": 30,
   "id": "40a22752-8aa4-40aa-a238-d379ff65fa07",
   "metadata": {},
   "outputs": [
    {
     "data": {
      "text/plain": [
       "(1+0j)"
      ]
     },
     "execution_count": 30,
     "metadata": {},
     "output_type": "execute_result"
    }
   ],
   "source": [
    "complex('1')"
   ]
  },
  {
   "cell_type": "markdown",
   "id": "fdbf3687-dbad-4d11-ad05-aa6d24c12f02",
   "metadata": {},
   "source": [
    "# with Boolean Typecasting\n"
   ]
  },
  {
   "cell_type": "code",
   "execution_count": 31,
   "id": "fb4ad32e-803b-462d-a778-ad1edb7cc07f",
   "metadata": {},
   "outputs": [
    {
     "ename": "NameError",
     "evalue": "name 'boolean' is not defined",
     "output_type": "error",
     "traceback": [
      "\u001b[1;31m---------------------------------------------------------------------------\u001b[0m",
      "\u001b[1;31mNameError\u001b[0m                                 Traceback (most recent call last)",
      "Cell \u001b[1;32mIn[31], line 1\u001b[0m\n\u001b[1;32m----> 1\u001b[0m boolean(\u001b[38;5;124m'\u001b[39m\u001b[38;5;124m1\u001b[39m\u001b[38;5;124m'\u001b[39m)\n",
      "\u001b[1;31mNameError\u001b[0m: name 'boolean' is not defined"
     ]
    }
   ],
   "source": [
    "boolean('1')"
   ]
  },
  {
   "cell_type": "code",
   "execution_count": 32,
   "id": "835e8083-debe-416e-ba39-bb6d10dc7d15",
   "metadata": {},
   "outputs": [
    {
     "ename": "NameError",
     "evalue": "name 'boolean' is not defined",
     "output_type": "error",
     "traceback": [
      "\u001b[1;31m---------------------------------------------------------------------------\u001b[0m",
      "\u001b[1;31mNameError\u001b[0m                                 Traceback (most recent call last)",
      "Cell \u001b[1;32mIn[32], line 1\u001b[0m\n\u001b[1;32m----> 1\u001b[0m \u001b[38;5;28mprint\u001b[39m(boolean(\u001b[38;5;241m1\u001b[39m))\n",
      "\u001b[1;31mNameError\u001b[0m: name 'boolean' is not defined"
     ]
    }
   ],
   "source": [
    "print(boolean(1))"
   ]
  },
  {
   "cell_type": "code",
   "execution_count": 33,
   "id": "744e3e5a-adcf-4eed-90ee-ddb4144c37b1",
   "metadata": {},
   "outputs": [
    {
     "name": "stdout",
     "output_type": "stream",
     "text": [
      "True\n"
     ]
    }
   ],
   "source": [
    "print(bool(1))"
   ]
  },
  {
   "cell_type": "code",
   "execution_count": 37,
   "id": "a581181e-797f-4baf-89cf-4b874dea7ac2",
   "metadata": {},
   "outputs": [
    {
     "name": "stdout",
     "output_type": "stream",
     "text": [
      "True\n"
     ]
    }
   ],
   "source": [
    "print(bool(20))"
   ]
  },
  {
   "cell_type": "code",
   "execution_count": 35,
   "id": "e9cfdc08-8ff5-42e4-8006-c2a276822997",
   "metadata": {},
   "outputs": [
    {
     "name": "stdout",
     "output_type": "stream",
     "text": [
      "False\n"
     ]
    }
   ],
   "source": [
    "print(bool(0))"
   ]
  },
  {
   "cell_type": "code",
   "execution_count": 36,
   "id": "79bda213-7189-435f-a6e1-bca8e71b4df8",
   "metadata": {},
   "outputs": [
    {
     "name": "stdout",
     "output_type": "stream",
     "text": [
      "True\n"
     ]
    }
   ],
   "source": [
    "print(bool(32))"
   ]
  },
  {
   "cell_type": "code",
   "execution_count": 38,
   "id": "9abaa69d-a1ba-4bee-9195-b2b436bc2794",
   "metadata": {},
   "outputs": [
    {
     "ename": "TypeError",
     "evalue": "bool expected at most 1 argument, got 2",
     "output_type": "error",
     "traceback": [
      "\u001b[1;31m---------------------------------------------------------------------------\u001b[0m",
      "\u001b[1;31mTypeError\u001b[0m                                 Traceback (most recent call last)",
      "Cell \u001b[1;32mIn[38], line 1\u001b[0m\n\u001b[1;32m----> 1\u001b[0m \u001b[38;5;28mprint\u001b[39m(\u001b[38;5;28mbool\u001b[39m(\u001b[38;5;241m20\u001b[39m,\u001b[38;5;241m30\u001b[39m))\n",
      "\u001b[1;31mTypeError\u001b[0m: bool expected at most 1 argument, got 2"
     ]
    }
   ],
   "source": [
    "print(bool(20,30))"
   ]
  },
  {
   "cell_type": "code",
   "execution_count": 39,
   "id": "4d4c5a19-cbef-4643-be7f-00b12ceb8bf1",
   "metadata": {},
   "outputs": [
    {
     "name": "stdout",
     "output_type": "stream",
     "text": [
      "True\n"
     ]
    }
   ],
   "source": [
    "print(bool('apple'))"
   ]
  },
  {
   "cell_type": "code",
   "execution_count": 40,
   "id": "bdbc7f5a-f3c9-46d2-a129-3920d52d7914",
   "metadata": {},
   "outputs": [
    {
     "ename": "NameError",
     "evalue": "name 'bana' is not defined",
     "output_type": "error",
     "traceback": [
      "\u001b[1;31m---------------------------------------------------------------------------\u001b[0m",
      "\u001b[1;31mNameError\u001b[0m                                 Traceback (most recent call last)",
      "Cell \u001b[1;32mIn[40], line 1\u001b[0m\n\u001b[1;32m----> 1\u001b[0m \u001b[38;5;28mprint\u001b[39m(\u001b[38;5;28mbool\u001b[39m(bana,baja))\n",
      "\u001b[1;31mNameError\u001b[0m: name 'bana' is not defined"
     ]
    }
   ],
   "source": [
    "print(bool(bana,baja))"
   ]
  },
  {
   "cell_type": "code",
   "execution_count": 41,
   "id": "52f981b3-7a7e-4606-903a-c4afff5527b8",
   "metadata": {},
   "outputs": [
    {
     "ename": "TypeError",
     "evalue": "bool expected at most 1 argument, got 2",
     "output_type": "error",
     "traceback": [
      "\u001b[1;31m---------------------------------------------------------------------------\u001b[0m",
      "\u001b[1;31mTypeError\u001b[0m                                 Traceback (most recent call last)",
      "Cell \u001b[1;32mIn[41], line 1\u001b[0m\n\u001b[1;32m----> 1\u001b[0m \u001b[38;5;28mprint\u001b[39m(\u001b[38;5;28mbool\u001b[39m(\u001b[38;5;124m'\u001b[39m\u001b[38;5;124mband\u001b[39m\u001b[38;5;124m'\u001b[39m,\u001b[38;5;124m'\u001b[39m\u001b[38;5;124mbaja\u001b[39m\u001b[38;5;124m'\u001b[39m))\n",
      "\u001b[1;31mTypeError\u001b[0m: bool expected at most 1 argument, got 2"
     ]
    }
   ],
   "source": [
    "print(bool('band','baja'))"
   ]
  },
  {
   "cell_type": "code",
   "execution_count": 42,
   "id": "1ed854c2-90e9-4fdc-bafe-ce0ec21b8dda",
   "metadata": {},
   "outputs": [
    {
     "name": "stdout",
     "output_type": "stream",
     "text": [
      "True\n"
     ]
    }
   ],
   "source": [
    "print(bool('band'))"
   ]
  },
  {
   "cell_type": "code",
   "execution_count": 43,
   "id": "b1d64d3e-ebec-43f6-b87d-ac6378c941d8",
   "metadata": {},
   "outputs": [
    {
     "name": "stdout",
     "output_type": "stream",
     "text": [
      "True\n"
     ]
    }
   ],
   "source": [
    "print(bool(1+2j))"
   ]
  },
  {
   "cell_type": "code",
   "execution_count": 45,
   "id": "a6c1d8e1-6c41-4fca-b5f4-ec65976908b9",
   "metadata": {},
   "outputs": [
    {
     "name": "stdout",
     "output_type": "stream",
     "text": [
      "True\n",
      "True\n",
      "True\n",
      "True\n",
      "True\n"
     ]
    }
   ],
   "source": [
    "print(bool(1))\n",
    "print(bool(1+2j))\n",
    "print(bool('band'))\n",
    "print(bool('apple'))\n",
    "print(bool(32))"
   ]
  },
  {
   "cell_type": "markdown",
   "id": "3f7711d1-9c08-45bb-9d75-842fce3b5155",
   "metadata": {},
   "source": [
    "# Type acsting with string "
   ]
  },
  {
   "cell_type": "code",
   "execution_count": 51,
   "id": "f80f606d-e110-4b95-9dc1-50874ce831c4",
   "metadata": {},
   "outputs": [
    {
     "name": "stdout",
     "output_type": "stream",
     "text": [
      "2\n",
      "34\n",
      "2.2\n"
     ]
    }
   ],
   "source": [
    "print(str(2))  # with integer\n",
    "print(str(34))\n",
    "print(str(2.2)) # with float\n",
    "#str(2.2,3.3) # with float double arguments"
   ]
  },
  {
   "cell_type": "code",
   "execution_count": 52,
   "id": "ad8d1872-1157-4ccf-9f79-708e73310d7b",
   "metadata": {},
   "outputs": [
    {
     "data": {
      "text/plain": [
       "'45'"
      ]
     },
     "execution_count": 52,
     "metadata": {},
     "output_type": "execute_result"
    }
   ],
   "source": [
    "str(45)\n"
   ]
  },
  {
   "cell_type": "code",
   "execution_count": 53,
   "id": "659c1936-5049-4bd9-a2fd-e89042bbeea4",
   "metadata": {},
   "outputs": [
    {
     "data": {
      "text/plain": [
       "'(1+2j)'"
      ]
     },
     "execution_count": 53,
     "metadata": {},
     "output_type": "execute_result"
    }
   ],
   "source": [
    "str(1+2j)"
   ]
  },
  {
   "cell_type": "code",
   "execution_count": null,
   "id": "ce9a96ff-8c86-45a4-8b3b-32f91dfac735",
   "metadata": {},
   "outputs": [],
   "source": [
    "# python Type casting completed"
   ]
  },
  {
   "cell_type": "code",
   "execution_count": 54,
   "id": "840a40ba-b986-47ad-b255-0f28647fd020",
   "metadata": {},
   "outputs": [
    {
     "name": "stdout",
     "output_type": "stream",
     "text": [
      "summer 2\n"
     ]
    }
   ],
   "source": [
    "print('summer',2)"
   ]
  },
  {
   "cell_type": "markdown",
   "id": "6854ff68-ae90-42af-b4a7-77e52fc6db6c",
   "metadata": {},
   "source": [
    "# test\n"
   ]
  }
 ],
 "metadata": {
  "kernelspec": {
   "display_name": "Python [conda env:base] *",
   "language": "python",
   "name": "conda-base-py"
  },
  "language_info": {
   "codemirror_mode": {
    "name": "ipython",
    "version": 3
   },
   "file_extension": ".py",
   "mimetype": "text/x-python",
   "name": "python",
   "nbconvert_exporter": "python",
   "pygments_lexer": "ipython3",
   "version": "3.12.7"
  }
 },
 "nbformat": 4,
 "nbformat_minor": 5
}
