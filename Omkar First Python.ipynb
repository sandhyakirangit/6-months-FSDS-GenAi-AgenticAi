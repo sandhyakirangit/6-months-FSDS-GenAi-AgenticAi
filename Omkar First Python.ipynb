{
 "cells": [
  {
   "cell_type": "code",
   "execution_count": 1,
   "id": "c85b6e4c-f3d0-4285-9f4b-ae694102ac42",
   "metadata": {
    "panel-layout": {
     "height": 27.1354,
     "visible": true,
     "width": 100
    }
   },
   "outputs": [
    {
     "data": {
      "text/plain": [
       "5"
      ]
     },
     "execution_count": 1,
     "metadata": {},
     "output_type": "execute_result"
    }
   ],
   "source": [
    "v = 5 # variable declaration\n",
    "v\n"
   ]
  },
  {
   "cell_type": "code",
   "execution_count": 2,
   "id": "a78eade6-a9d3-40a3-a62e-535481262efa",
   "metadata": {},
   "outputs": [
    {
     "data": {
      "text/plain": [
       "140707628460600"
      ]
     },
     "execution_count": 2,
     "metadata": {},
     "output_type": "execute_result"
    }
   ],
   "source": [
    "id(v) # address of memory location"
   ]
  },
  {
   "cell_type": "code",
   "execution_count": 3,
   "id": "3df1187c-3b6e-4a2e-887f-4bfd3f5dd286",
   "metadata": {},
   "outputs": [
    {
     "ename": "SyntaxError",
     "evalue": "cannot assign to literal here. Maybe you meant '==' instead of '='? (2288598382.py, line 1)",
     "output_type": "error",
     "traceback": [
      "\u001b[1;36m  Cell \u001b[1;32mIn[3], line 1\u001b[1;36m\u001b[0m\n\u001b[1;33m    5 = v\u001b[0m\n\u001b[1;37m    ^\u001b[0m\n\u001b[1;31mSyntaxError\u001b[0m\u001b[1;31m:\u001b[0m cannot assign to literal here. Maybe you meant '==' instead of '='?\n"
     ]
    }
   ],
   "source": [
    "5 = v\n"
   ]
  },
  {
   "cell_type": "code",
   "execution_count": 4,
   "id": "5c2da812-3833-4c69-940d-b0856feb38c6",
   "metadata": {},
   "outputs": [
    {
     "data": {
      "text/plain": [
       "9"
      ]
     },
     "execution_count": 4,
     "metadata": {},
     "output_type": "execute_result"
    }
   ],
   "source": [
    "v1 = 9\n",
    "v1\n"
   ]
  },
  {
   "cell_type": "code",
   "execution_count": 5,
   "id": "501f10c9-397e-46a0-b5e5-c545da378228",
   "metadata": {},
   "outputs": [
    {
     "ename": "NameError",
     "evalue": "name 'V2' is not defined",
     "output_type": "error",
     "traceback": [
      "\u001b[1;31m---------------------------------------------------------------------------\u001b[0m",
      "\u001b[1;31mNameError\u001b[0m                                 Traceback (most recent call last)",
      "Cell \u001b[1;32mIn[5], line 2\u001b[0m\n\u001b[0;32m      1\u001b[0m v2 \u001b[38;5;241m=\u001b[39m \u001b[38;5;241m10\u001b[39m\n\u001b[1;32m----> 2\u001b[0m V2\n",
      "\u001b[1;31mNameError\u001b[0m: name 'V2' is not defined"
     ]
    }
   ],
   "source": [
    "v2 = 10\n",
    "V2\n"
   ]
  },
  {
   "cell_type": "code",
   "execution_count": 6,
   "id": "90d47174-cde5-41ce-92ee-be820e2dc3e3",
   "metadata": {},
   "outputs": [
    {
     "data": {
      "text/plain": [
       "10"
      ]
     },
     "execution_count": 6,
     "metadata": {},
     "output_type": "execute_result"
    }
   ],
   "source": [
    "v2"
   ]
  },
  {
   "cell_type": "code",
   "execution_count": 7,
   "id": "c8a7a810-280a-4730-b034-e074a7bedecf",
   "metadata": {},
   "outputs": [
    {
     "ename": "SyntaxError",
     "evalue": "invalid syntax (3518854049.py, line 1)",
     "output_type": "error",
     "traceback": [
      "\u001b[1;36m  Cell \u001b[1;32mIn[7], line 1\u001b[1;36m\u001b[0m\n\u001b[1;33m    v@ = 78\u001b[0m\n\u001b[1;37m       ^\u001b[0m\n\u001b[1;31mSyntaxError\u001b[0m\u001b[1;31m:\u001b[0m invalid syntax\n"
     ]
    }
   ],
   "source": [
    "v@ = 78"
   ]
  },
  {
   "cell_type": "code",
   "execution_count": 8,
   "id": "75eae9a4-8dd3-4411-910f-3311596ad197",
   "metadata": {},
   "outputs": [
    {
     "ename": "SyntaxError",
     "evalue": "invalid syntax (4078153694.py, line 1)",
     "output_type": "error",
     "traceback": [
      "\u001b[1;36m  Cell \u001b[1;32mIn[8], line 1\u001b[1;36m\u001b[0m\n\u001b[1;33m    v* = 78\u001b[0m\n\u001b[1;37m       ^\u001b[0m\n\u001b[1;31mSyntaxError\u001b[0m\u001b[1;31m:\u001b[0m invalid syntax\n"
     ]
    }
   ],
   "source": [
    "v* = 78"
   ]
  },
  {
   "cell_type": "code",
   "execution_count": 9,
   "id": "4af38095-847a-492c-b827-233de3c646b9",
   "metadata": {},
   "outputs": [],
   "source": [
    "v_ = 10"
   ]
  },
  {
   "cell_type": "code",
   "execution_count": 10,
   "id": "a9c6d7b5-13c3-4cfb-beee-6654153be8a9",
   "metadata": {},
   "outputs": [
    {
     "data": {
      "text/plain": [
       "10"
      ]
     },
     "execution_count": 10,
     "metadata": {},
     "output_type": "execute_result"
    }
   ],
   "source": [
    "v_\n"
   ]
  },
  {
   "cell_type": "code",
   "execution_count": 11,
   "id": "9f891e4f-0937-4ff2-9a1b-93c60080702b",
   "metadata": {},
   "outputs": [],
   "source": [
    "V__ = 11"
   ]
  },
  {
   "cell_type": "code",
   "execution_count": 12,
   "id": "60019df7-be93-4270-9705-dbe0e524e09b",
   "metadata": {},
   "outputs": [
    {
     "data": {
      "text/plain": [
       "11"
      ]
     },
     "execution_count": 12,
     "metadata": {},
     "output_type": "execute_result"
    }
   ],
   "source": [
    "V__"
   ]
  },
  {
   "cell_type": "code",
   "execution_count": 13,
   "id": "a9680fe0-77ab-4670-be7e-bdb5762c529b",
   "metadata": {},
   "outputs": [],
   "source": [
    "v_v = 15"
   ]
  },
  {
   "cell_type": "code",
   "execution_count": 14,
   "id": "99dfd897-f4d4-4869-9c39-a09020222fdd",
   "metadata": {},
   "outputs": [
    {
     "data": {
      "text/plain": [
       "15"
      ]
     },
     "execution_count": 14,
     "metadata": {},
     "output_type": "execute_result"
    }
   ],
   "source": [
    "v_v\n",
    "import"
   ]
  },
  {
   "cell_type": "code",
   "execution_count": 15,
   "id": "c19eaefa-4d79-446e-abd7-60152a34d560",
   "metadata": {},
   "outputs": [
    {
     "ename": "SyntaxError",
     "evalue": "invalid syntax (3475252196.py, line 1)",
     "output_type": "error",
     "traceback": [
      "\u001b[1;36m  Cell \u001b[1;32mIn[15], line 1\u001b[1;36m\u001b[0m\n\u001b[1;33m    if = 78\u001b[0m\n\u001b[1;37m       ^\u001b[0m\n\u001b[1;31mSyntaxError\u001b[0m\u001b[1;31m:\u001b[0m invalid syntax\n"
     ]
    }
   ],
   "source": [
    "if = 78"
   ]
  },
  {
   "cell_type": "raw",
   "id": "ff8b411e-dc5f-4e8e-a8d6-495d751d7abb",
   "metadata": {},
   "source": [
    "v=10\n"
   ]
  },
  {
   "cell_type": "code",
   "execution_count": 16,
   "id": "05f9ce9a-fbd7-498f-ab49-d72310e059d7",
   "metadata": {},
   "outputs": [
    {
     "data": {
      "text/plain": [
       "5"
      ]
     },
     "execution_count": 16,
     "metadata": {},
     "output_type": "execute_result"
    }
   ],
   "source": [
    "v"
   ]
  },
  {
   "cell_type": "code",
   "execution_count": 7,
   "id": "02e4409d-46cb-460d-a3eb-c1e9cd7bd831",
   "metadata": {},
   "outputs": [
    {
     "data": {
      "text/plain": [
       "['False',\n",
       " 'None',\n",
       " 'True',\n",
       " 'and',\n",
       " 'as',\n",
       " 'assert',\n",
       " 'async',\n",
       " 'await',\n",
       " 'break',\n",
       " 'class',\n",
       " 'continue',\n",
       " 'def',\n",
       " 'del',\n",
       " 'elif',\n",
       " 'else',\n",
       " 'except',\n",
       " 'finally',\n",
       " 'for',\n",
       " 'from',\n",
       " 'global',\n",
       " 'if',\n",
       " 'import',\n",
       " 'in',\n",
       " 'is',\n",
       " 'lambda',\n",
       " 'nonlocal',\n",
       " 'not',\n",
       " 'or',\n",
       " 'pass',\n",
       " 'raise',\n",
       " 'return',\n",
       " 'try',\n",
       " 'while',\n",
       " 'with',\n",
       " 'yield']"
      ]
     },
     "execution_count": 7,
     "metadata": {},
     "output_type": "execute_result"
    }
   ],
   "source": [
    "import keyword\n",
    "keyword.kwlist"
   ]
  },
  {
   "cell_type": "code",
   "execution_count": 5,
   "id": "19641b03-d7d2-4b34-a276-6394bee7c314",
   "metadata": {},
   "outputs": [
    {
     "ename": "NameError",
     "evalue": "name 'keyword' is not defined",
     "output_type": "error",
     "traceback": [
      "\u001b[1;31m---------------------------------------------------------------------------\u001b[0m",
      "\u001b[1;31mNameError\u001b[0m                                 Traceback (most recent call last)",
      "Cell \u001b[1;32mIn[5], line 1\u001b[0m\n\u001b[1;32m----> 1\u001b[0m keyword\u001b[38;5;241m.\u001b[39mkwlist\n\u001b[0;32m      2\u001b[0m kwlist\n",
      "\u001b[1;31mNameError\u001b[0m: name 'keyword' is not defined"
     ]
    }
   ],
   "source": [
    "keyword.kwlist\n"
   ]
  },
  {
   "cell_type": "code",
   "execution_count": 11,
   "id": "362897aa-5e49-4abd-a8c8-0d8d17c6730a",
   "metadata": {},
   "outputs": [
    {
     "data": {
      "text/plain": [
       "35"
      ]
     },
     "execution_count": 11,
     "metadata": {},
     "output_type": "execute_result"
    }
   ],
   "source": [
    "len(keyword.kwlist)"
   ]
  },
  {
   "cell_type": "code",
   "execution_count": null,
   "id": "3abc6d0a-c67e-4798-99a3-94b6dea079a2",
   "metadata": {},
   "outputs": [],
   "source": [
    "|"
   ]
  }
 ],
 "metadata": {
  "kernelspec": {
   "display_name": "Python [conda env:base] *",
   "language": "python",
   "name": "conda-base-py"
  },
  "language_info": {
   "codemirror_mode": {
    "name": "ipython",
    "version": 3
   },
   "file_extension": ".py",
   "mimetype": "text/x-python",
   "name": "python",
   "nbconvert_exporter": "python",
   "pygments_lexer": "ipython3",
   "version": "3.12.7"
  },
  "panel-cell-order": [
   "c85b6e4c-f3d0-4285-9f4b-ae694102ac42"
  ]
 },
 "nbformat": 4,
 "nbformat_minor": 5
}
