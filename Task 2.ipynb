{
 "cells": [
  {
   "cell_type": "code",
   "execution_count": 3,
   "id": "715c8d23-d0fc-48a2-a6c2-42f20a6354ad",
   "metadata": {},
   "outputs": [
    {
     "name": "stdout",
     "output_type": "stream",
     "text": [
      " The addition of two numbers a and  b is 134\n"
     ]
    }
   ],
   "source": [
    "a = 56\n",
    "b = 78\n",
    "Add = a+b\n",
    "print(\" The addition of two numbers a and  b is\" ,Add ) "
   ]
  },
  {
   "cell_type": "code",
   "execution_count": null,
   "id": "2512bb16-5056-4729-b2a2-24c247d18881",
   "metadata": {},
   "outputs": [],
   "source": []
  },
  {
   "cell_type": "code",
   "execution_count": 2,
   "id": "621a3cf5-5c21-4adf-bfc6-1de7a33b4e07",
   "metadata": {},
   "outputs": [
    {
     "name": "stdout",
     "output_type": "stream",
     "text": [
      " the addition of 3 numbers 10 , 20 and 30 = 60 \n"
     ]
    }
   ],
   "source": [
    "num1 = 10 \n",
    "num2 = 20\n",
    "num3 = 30 \n",
    "Add = num1 + num2 + num3\n",
    "print (\" the addition of 3 numbers {} , {} and {} = {} \" .format(num1,num2,num3,Add))"
   ]
  },
  {
   "cell_type": "code",
   "execution_count": 3,
   "id": "79560c8b-7966-4044-8963-d3e836053a94",
   "metadata": {},
   "outputs": [],
   "source": [
    "def cricket():\n",
    "\n",
    "    print(\"hello\")\n",
    "     \n",
    "           "
   ]
  },
  {
   "cell_type": "code",
   "execution_count": 13,
   "id": "82665853-3bca-46b4-866d-ce7f0e1aa048",
   "metadata": {},
   "outputs": [
    {
     "name": "stdout",
     "output_type": "stream",
     "text": [
      "hello\n"
     ]
    }
   ],
   "source": [
    "cricket()\n"
   ]
  },
  {
   "cell_type": "code",
   "execution_count": 4,
   "id": "e5ed2275-a918-40af-933e-fc17b107e019",
   "metadata": {},
   "outputs": [
    {
     "name": "stdout",
     "output_type": "stream",
     "text": [
      "(25+17j)\n"
     ]
    }
   ],
   "source": [
    "c=5+10j\n",
    "d=20+7j\n",
    "print(c+d)"
   ]
  },
  {
   "cell_type": "code",
   "execution_count": 5,
   "id": "5d474732-1dcb-41b6-94b3-9ddc77425881",
   "metadata": {},
   "outputs": [
    {
     "ename": "SyntaxError",
     "evalue": "invalid decimal literal (3527706704.py, line 1)",
     "output_type": "error",
     "traceback": [
      "\u001b[1;36m  Cell \u001b[1;32mIn[5], line 1\u001b[1;36m\u001b[0m\n\u001b[1;33m    d=19+7u\u001b[0m\n\u001b[1;37m         ^\u001b[0m\n\u001b[1;31mSyntaxError\u001b[0m\u001b[1;31m:\u001b[0m invalid decimal literal\n"
     ]
    }
   ],
   "source": [
    "d=19+7u\n",
    "e=13+5i\n",
    "print(d+e)so the complex data type only accepts with j \n",
    "like c=int+intj\n",
    "     or \n",
    "\n",
    "     a1=1+2j  only j is allowed\n",
    "\n"
   ]
  },
  {
   "cell_type": "code",
   "execution_count": 6,
   "id": "c3725be7-33d9-4171-a93b-73a2bbbc43c0",
   "metadata": {},
   "outputs": [
    {
     "name": "stdout",
     "output_type": "stream",
     "text": [
      "True\n"
     ]
    }
   ],
   "source": [
    "a=True \n",
    "print(a)"
   ]
  },
  {
   "cell_type": "code",
   "execution_count": 7,
   "id": "6ad50c63-ec91-4eae-8728-681139c9143a",
   "metadata": {},
   "outputs": [
    {
     "data": {
      "text/plain": [
       "bool"
      ]
     },
     "execution_count": 7,
     "metadata": {},
     "output_type": "execute_result"
    }
   ],
   "source": [
    "type(True)"
   ]
  },
  {
   "cell_type": "code",
   "execution_count": 8,
   "id": "6b2f25af-6a4b-4e7e-98be-246851ed38bc",
   "metadata": {},
   "outputs": [
    {
     "data": {
      "text/plain": [
       "1"
      ]
     },
     "execution_count": 8,
     "metadata": {},
     "output_type": "execute_result"
    }
   ],
   "source": [
    "int(True)"
   ]
  },
  {
   "cell_type": "code",
   "execution_count": 9,
   "id": "259c5456-3b0b-4bac-8dab-484c2d325ed7",
   "metadata": {},
   "outputs": [
    {
     "data": {
      "text/plain": [
       "0"
      ]
     },
     "execution_count": 9,
     "metadata": {},
     "output_type": "execute_result"
    }
   ],
   "source": [
    "int(False)"
   ]
  },
  {
   "cell_type": "code",
   "execution_count": 10,
   "id": "22eba5bc-a67b-48b8-a458-b4901b3ab0a6",
   "metadata": {},
   "outputs": [
    {
     "data": {
      "text/plain": [
       "2"
      ]
     },
     "execution_count": 10,
     "metadata": {},
     "output_type": "execute_result"
    }
   ],
   "source": [
    "True+True"
   ]
  },
  {
   "cell_type": "code",
   "execution_count": 11,
   "id": "883e2e98-384d-4a69-ba40-0737f28d84bf",
   "metadata": {},
   "outputs": [
    {
     "data": {
      "text/plain": [
       "1"
      ]
     },
     "execution_count": 11,
     "metadata": {},
     "output_type": "execute_result"
    }
   ],
   "source": [
    "True-False"
   ]
  },
  {
   "cell_type": "code",
   "execution_count": 12,
   "id": "e16c3756-4682-46b6-b9b2-30f0f7cf2f17",
   "metadata": {},
   "outputs": [
    {
     "data": {
      "text/plain": [
       "-1"
      ]
     },
     "execution_count": 12,
     "metadata": {},
     "output_type": "execute_result"
    }
   ],
   "source": [
    "False-True"
   ]
  },
  {
   "cell_type": "code",
   "execution_count": 13,
   "id": "7e9c3551-5510-4daf-8e52-a1ccb321d386",
   "metadata": {},
   "outputs": [
    {
     "data": {
      "text/plain": [
       "2"
      ]
     },
     "execution_count": 13,
     "metadata": {},
     "output_type": "execute_result"
    }
   ],
   "source": [
    "True-True*False+1"
   ]
  },
  {
   "cell_type": "code",
   "execution_count": null,
   "id": "8c897207-57d5-40d5-b605-5fea1f1f2998",
   "metadata": {},
   "outputs": [],
   "source": []
  }
 ],
 "metadata": {
  "kernelspec": {
   "display_name": "Python [conda env:base] *",
   "language": "python",
   "name": "conda-base-py"
  },
  "language_info": {
   "codemirror_mode": {
    "name": "ipython",
    "version": 3
   },
   "file_extension": ".py",
   "mimetype": "text/x-python",
   "name": "python",
   "nbconvert_exporter": "python",
   "pygments_lexer": "ipython3",
   "version": "3.12.7"
  }
 },
 "nbformat": 4,
 "nbformat_minor": 5
}
